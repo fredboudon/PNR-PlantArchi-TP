{
 "cells": [
  {
   "cell_type": "markdown",
   "metadata": {},
   "source": [
    "# Présentation du TD"
   ]
  },
  {
   "cell_type": "markdown",
   "metadata": {},
   "source": [
    "## Chargement des librairies python"
   ]
  },
  {
   "cell_type": "code",
   "execution_count": 1,
   "metadata": {
    "ExecuteTime": {
     "end_time": "2024-11-24T20:39:20.849385Z",
     "start_time": "2024-11-24T20:39:19.143456Z"
    }
   },
   "outputs": [],
   "source": [
    "from __future__ import print_function\n",
    "import pandas as pd\n",
    "from ipywidgets import interact, interactive, fixed, interact_manual, widgets\n",
    "from openalea.mtg import MTG #librairie MTG\n",
    "from pgljupyter import LsystemWidget #librairie Lsystem\n",
    "from pathlib import Path\n",
    "\n",
    "import library as TD_libs"
   ]
  },
  {
   "cell_type": "markdown",
   "metadata": {},
   "source": [
    "# Description de l'Architecture des plantes"
   ]
  },
  {
   "cell_type": "markdown",
   "metadata": {},
   "source": [
    "## Reconstruction numérique 3D des plantes via Lsystems"
   ]
  },
  {
   "cell_type": "markdown",
   "metadata": {},
   "source": [
    "### Rappel des principes du Lsystem"
   ]
  },
  {
   "cell_type": "markdown",
   "metadata": {},
   "source": [
    "### Exercices sur les Lsystems"
   ]
  },
  {
   "cell_type": "markdown",
   "metadata": {},
   "source": [
    "**Exercice 1 : (utilisation de Lpy)**\n",
    "\n",
    "Les six premières itérations d’un L-system déterministe insensible au contexte produisent les chaînes de caractères suivantes :\n",
    "\n",
    "L<p/>\n",
    "CL<p/>\n",
    "LCL<p/>\n",
    "CLLCL<p/>\n",
    "LCLCLLCL<p/>\n",
    "CLLCLLCLCLLCL<p/>\n",
    "\n",
    "* Renseignez les modules de ce L-system\n",
    "* Quel est l'axiome ?\n",
    "* Quels sont les règles de productions de ce L-system ?\n"
   ]
  },
  {
   "cell_type": "code",
   "execution_count": 3,
   "metadata": {
    "ExecuteTime": {
     "end_time": "2024-11-24T20:39:51.045007Z",
     "start_time": "2024-11-24T20:39:51.037055Z"
    }
   },
   "outputs": [
    {
     "data": {
      "application/vnd.jupyter.widget-view+json": {
       "model_id": "d73fedad864e489b9c4a2897d99cf718",
       "version_major": 2,
       "version_minor": 0
      },
      "text/plain": [
       "LsystemWidget(animate=True, derivationLength=6, derivationNumber=None, is_magic=True, scene={'data': b'x\\xdaSL…"
      ]
     },
     "execution_count": 3,
     "metadata": {},
     "output_type": "execute_result"
    },
    {
     "name": "stdout",
     "output_type": "stream",
     "text": [
      "L\n",
      "CL\n",
      "LCL\n",
      "CLLCL\n",
      "LCLCLLCL\n",
      "CLLCLLCLCLLCL\n"
     ]
    }
   ],
   "source": [
    "%%lpy -a True   \n",
    "\n",
    "module ?\n",
    "module ?\n",
    "\n",
    "def StartEach(lstring):\n",
    "    print (lstring)\n",
    "\n",
    "\n",
    "axiom: ?\n",
    "\n",
    "derivation length: 6\n",
    "\n",
    "production:\n",
    "? --> ?\n",
    "? --> ?\n"
   ]
  },
  {
   "cell_type": "markdown",
   "metadata": {
    "ExecuteTime": {
     "end_time": "2024-11-24T20:08:17.121018Z",
     "start_time": "2024-11-24T20:08:17.109029Z"
    }
   },
   "source": [
    "#### Exercice 2 : Creation d'un polygone pour representer une feuille\n",
    "\n",
    "Completez l'axiom pour générer la forme polyonale suivante. \n",
    "Utiliser les commandes suivantes:\n",
    "```\n",
    "F(l) : Trace un cylindre de longueur l\n",
    "+(a) : Tourne à gauche d'un angle a\n",
    "-(a) : Tourne à gauche d'un angle a\n",
    "```\n",
    "Par defaut, les angles non indiqués sont éagl à 90° et les longueurs à 1.\n",
    "\n",
    "```python\n",
    "Axiom: ,(2) _(0.02) { . F    ....  } (True)\n",
    "```\n",
    "\n",
    "![mappleleaf](./img/vineleaf.png)\n",
    "\n"
   ]
  },
  {
   "cell_type": "code",
   "execution_count": null,
   "metadata": {
    "ExecuteTime": {
     "end_time": "2024-11-24T20:09:54.151623Z",
     "start_time": "2024-11-24T20:09:54.147709Z"
    }
   },
   "outputs": [],
   "source": [
    "%%lpy -w 5\n",
    "\n",
    "Axiom: ,(2) _(0.02) { . F     } (True)\n"
   ]
  },
  {
   "cell_type": "markdown",
   "metadata": {},
   "source": [
    "**Exercice 3 : Phyllotaxie**\n",
    "\n",
    "Reproduire les differents arrangements de feuilles le long de la tige\n",
    "\n",
    "* Les symboles pour spécifier l'orientation:\n",
    "\n",
    "```\n",
    "+ : Turn left around Up vector. Params : 'angle' (optional, in degrees).\n",
    "- : Turn right around Up vector. Params : 'angle' (optional, in degrees).\n",
    "^ : Pitch up around Left vector. Params : 'angle' (optional, in degrees).\n",
    "& : Pitch down around Left vector. Params : 'angle' (optional, in degrees).\n",
    "/ : Roll left around Heading vector. Params : 'angle' (optional, in degrees).\n",
    "\\ : Roll right around Heading vector. Params : 'angle' (optional, in degrees).\n",
    "```\n",
    "\n",
    "<img src=\"./img/phyllotaxie.png\" width=\"600\">"
   ]
  },
  {
   "cell_type": "code",
   "execution_count": null,
   "metadata": {
    "ExecuteTime": {
     "end_time": "2024-11-24T20:26:59.461889Z",
     "start_time": "2024-11-24T20:26:59.454880Z"
    }
   },
   "outputs": [],
   "source": [
    "%%lpy -w 10\n",
    "Axiom: \n",
    "  for i in range(5):\n",
    "    nproduce F(1) /(137.5) [ &(120) ,(2) ~l(2) ]"
   ]
  },
  {
   "cell_type": "markdown",
   "metadata": {},
   "source": [
    "**Exercice 4 :**\n",
    "\n",
    "1. Analyser la syntaxe permettant de gérer la ramification\n",
    "2. Comment sont modéliser les apex ?\n",
    "3. Creer des ramifications secondaires"
   ]
  },
  {
   "cell_type": "code",
   "execution_count": null,
   "metadata": {
    "ExecuteTime": {
     "end_time": "2024-11-24T20:35:09.948557Z",
     "start_time": "2024-11-24T20:35:09.941085Z"
    }
   },
   "outputs": [],
   "source": [
    "%%lpy -a True -w 20\n",
    "\n",
    "module A,B\n",
    "module I\n",
    "\n",
    "\n",
    "def StartEach(lstring): print (lstring)\n",
    "def End(lstring): print (lstring)\n",
    "\n",
    "    \n",
    "axiom : A\n",
    "\n",
    "derivation length: 5\n",
    "\n",
    "production:\n",
    "A --> II [-(60)I B] [+(60)I B] A\n",
    "B --> IB\n",
    "\n",
    "interpretation:\n",
    "A --> SetColor(3) @O(.2)\n",
    "B --> SetColor(4) @O(.2)\n",
    "I --> SetColor(2) F"
   ]
  },
  {
   "cell_type": "markdown",
   "metadata": {},
   "source": [
    "### Exemple de la luzerne"
   ]
  },
  {
   "cell_type": "markdown",
   "metadata": {},
   "source": [
    "Charger le Lsystem de luzerne ci-dessous"
   ]
  },
  {
   "cell_type": "code",
   "execution_count": null,
   "metadata": {
    "ExecuteTime": {
     "end_time": "2024-11-20T10:03:50.026253Z",
     "start_time": "2024-11-20T10:03:49.515111Z"
    }
   },
   "outputs": [],
   "source": [
    "lsys = LsystemWidget('TD_lsystem_Luzerne.lpy', unit='cm',size_world=.4, animate=True)"
   ]
  },
  {
   "cell_type": "code",
   "execution_count": null,
   "metadata": {
    "ExecuteTime": {
     "end_time": "2024-11-20T10:03:52.051618Z",
     "start_time": "2024-11-20T10:03:52.044345Z"
    }
   },
   "outputs": [],
   "source": [
    "lsys"
   ]
  },
  {
   "cell_type": "markdown",
   "metadata": {},
   "source": [
    "### Exemple de la fétuque"
   ]
  },
  {
   "cell_type": "code",
   "execution_count": null,
   "metadata": {
    "ExecuteTime": {
     "end_time": "2024-11-20T10:03:56.827228Z",
     "start_time": "2024-11-20T10:03:56.514615Z"
    }
   },
   "outputs": [],
   "source": [
    "lsys = LsystemWidget('TD_lsystem_Fetuque.lpy', unit='cm', size_world=.4, animate=True)\n",
    "lsys"
   ]
  },
  {
   "cell_type": "markdown",
   "metadata": {},
   "source": [
    "## Applications: simulation du rayonnement intercepté dans une association"
   ]
  },
  {
   "cell_type": "markdown",
   "metadata": {},
   "source": [
    "### Introduction modèles de rayonnement"
   ]
  },
  {
   "cell_type": "markdown",
   "metadata": {},
   "source": [
    "![Some insights on light modelling](slides/modelesRT.png)"
   ]
  },
  {
   "cell_type": "markdown",
   "metadata": {},
   "source": [
    "### Effet de la direction du soleil sur le rayonnement intercepté"
   ]
  },
  {
   "cell_type": "markdown",
   "metadata": {},
   "source": [
    "Comment varie l'interception de la lumière avec la position du soleil?\n"
   ]
  },
  {
   "cell_type": "code",
   "execution_count": null,
   "metadata": {
    "ExecuteTime": {
     "end_time": "2024-11-20T10:04:00.958474Z",
     "start_time": "2024-11-20T10:04:00.202691Z"
    }
   },
   "outputs": [],
   "source": [
    "%matplotlib inline\n",
    "interact(TD_libs.Light_model, lsys=fixed(lsys), hour=(6, 18, 1));"
   ]
  },
  {
   "cell_type": "markdown",
   "metadata": {},
   "source": [
    "### Analyse du rayonnement intercepté par les plantes individuelles"
   ]
  },
  {
   "cell_type": "markdown",
   "metadata": {},
   "source": [
    "Par ciel diffus, comment varie l'interception en fonction de différents paramètres ?"
   ]
  },
  {
   "cell_type": "code",
   "execution_count": null,
   "metadata": {
    "ExecuteTime": {
     "end_time": "2024-11-20T10:04:30.754002Z",
     "start_time": "2024-11-20T10:04:25.007273Z"
    },
    "scrolled": true
   },
   "outputs": [],
   "source": [
    "%matplotlib inline\n",
    "TD_libs.cellule_analyse_AgriPV_diffus()"
   ]
  },
  {
   "cell_type": "markdown",
   "metadata": {},
   "source": [
    "Pour une direction du soleil, comment varie l'interception en fonction de différents paramètres ?"
   ]
  },
  {
   "cell_type": "code",
   "execution_count": null,
   "metadata": {
    "ExecuteTime": {
     "end_time": "2024-11-20T10:04:30.754002Z",
     "start_time": "2024-11-20T10:04:25.007273Z"
    },
    "scrolled": true
   },
   "outputs": [],
   "source": [
    "%matplotlib inline\n",
    "TD_libs.cellule_analyse_AgriPV_direct()"
   ]
  },
  {
   "cell_type": "code",
   "execution_count": null,
   "metadata": {},
   "outputs": [],
   "source": []
  }
 ],
 "metadata": {
  "celltoolbar": "Raw Cell Format",
  "kernelspec": {
   "display_name": "Python 3 (ipykernel)",
   "language": "python",
   "name": "python3"
  },
  "language_info": {
   "codemirror_mode": {
    "name": "ipython",
    "version": 3
   },
   "file_extension": ".py",
   "mimetype": "text/x-python",
   "name": "python",
   "nbconvert_exporter": "python",
   "pygments_lexer": "ipython3",
   "version": "3.10.14"
  },
  "widgets": {
   "application/vnd.jupyter.widget-state+json": {
    "state": {
     "0106da0f3dcb4d3dbce85e070165dc6a": {
      "model_module": "@jupyter-widgets/controls",
      "model_module_version": "2.0.0",
      "model_name": "SliderStyleModel",
      "state": {
       "description_width": ""
      }
     },
     "0460ba431d9c49a09f478928eef50c15": {
      "model_module": "@jupyter-widgets/controls",
      "model_module_version": "2.0.0",
      "model_name": "IntSliderModel",
      "state": {
       "behavior": "drag-tap",
       "description": "angle_panel",
       "layout": "IPY_MODEL_8a83240e036d4b61ae8860fa7b041f29",
       "max": 90,
       "min": -90,
       "step": 10,
       "style": "IPY_MODEL_1b6a69ab3f61453cb55cf4dc5c6b110c",
       "value": 40
      }
     },
     "1034b5ed8e3f4a9786be62f138bfc43b": {
      "model_module": "@jupyter-widgets/output",
      "model_module_version": "1.0.0",
      "model_name": "OutputModel",
      "state": {
       "layout": "IPY_MODEL_68cdad2cb49e4c5faa396e77363fdda7",
       "msg_id": "2b74ebd3-4702-48d9-8fc3-3f7acc08438c",
       "outputs": [
        {
         "name": "stderr",
         "output_type": "stream",
         "text": "/Users/fboudon/Documents/Presentation/Seminaires/2024- 11 - PNR/TP/PNR-PlantArchi-TP/Exercises/library.py:136: Warning: Redeclaration of module 'A'.\n  lsys_vig = Lsystem('vigne.lpy')\n/Users/fboudon/Documents/Presentation/Seminaires/2024- 11 - PNR/TP/PNR-PlantArchi-TP/Exercises/library.py:139: Warning: Invalid Color value 2 in setColor (maximum is -1)\n  lsys_vig_str = lsys_vig.derive()\n"
        }
       ]
      }
     },
     "176c62cab2174119b8814af512d23e98": {
      "model_module": "@jupyter-widgets/controls",
      "model_module_version": "2.0.0",
      "model_name": "IntSliderModel",
      "state": {
       "behavior": "drag-tap",
       "description": "panelsize",
       "layout": "IPY_MODEL_22ed3aeca1e14e799c0accdd2687d896",
       "max": 50,
       "min": 10,
       "step": 10,
       "style": "IPY_MODEL_0106da0f3dcb4d3dbce85e070165dc6a",
       "value": 10
      }
     },
     "1b6a69ab3f61453cb55cf4dc5c6b110c": {
      "model_module": "@jupyter-widgets/controls",
      "model_module_version": "2.0.0",
      "model_name": "SliderStyleModel",
      "state": {
       "description_width": ""
      }
     },
     "1cbffb575a6047f6bf03f6d57ad6902b": {
      "model_module": "@jupyter-widgets/base",
      "model_module_version": "2.0.0",
      "model_name": "LayoutModel",
      "state": {}
     },
     "1d48e6c41d1c456b98449634582c15ec": {
      "model_module": "@jupyter-widgets/base",
      "model_module_version": "2.0.0",
      "model_name": "LayoutModel",
      "state": {}
     },
     "20b987e537c1477e92c5cf6a686812f7": {
      "model_module": "@jupyter-widgets/controls",
      "model_module_version": "2.0.0",
      "model_name": "DropdownModel",
      "state": {
       "_options_labels": [
        "Luzerne",
        "Fétuque",
        "Vigne",
        "Sol"
       ],
       "description": "Couvert :",
       "index": 0,
       "layout": "IPY_MODEL_672b290083914876961e668d46e01af6",
       "style": "IPY_MODEL_97da3b5ad74446db8af0ce3a1d343190"
      }
     },
     "22ed3aeca1e14e799c0accdd2687d896": {
      "model_module": "@jupyter-widgets/base",
      "model_module_version": "2.0.0",
      "model_name": "LayoutModel",
      "state": {}
     },
     "281b990226a0416eaab80f87002afb41": {
      "model_module": "@jupyter-widgets/controls",
      "model_module_version": "2.0.0",
      "model_name": "IntSliderModel",
      "state": {
       "behavior": "drag-tap",
       "description": "height_panel",
       "layout": "IPY_MODEL_4a87cdf910fb40daae9921dc2579d5e3",
       "max": 50,
       "step": 10,
       "style": "IPY_MODEL_db45f770c62d4e0c813a2aded42b7647"
      }
     },
     "2b2e03e109a8442984e6c2c6f9ee50c6": {
      "model_module": "@jupyter-widgets/controls",
      "model_module_version": "2.0.0",
      "model_name": "SliderStyleModel",
      "state": {
       "description_width": ""
      }
     },
     "2bdd62466e794d31bf3fc03e5da0d4e2": {
      "model_module": "@jupyter-widgets/base",
      "model_module_version": "2.0.0",
      "model_name": "LayoutModel",
      "state": {}
     },
     "2cbc4e29cf8f48b6b74c6a5c07ba521d": {
      "model_module": "@jupyter-widgets/controls",
      "model_module_version": "2.0.0",
      "model_name": "CheckboxStyleModel",
      "state": {
       "description_width": ""
      }
     },
     "3404a1332bbc4810b3091324a88683cd": {
      "model_module": "@jupyter-widgets/base",
      "model_module_version": "2.0.0",
      "model_name": "LayoutModel",
      "state": {}
     },
     "34c7e13193da438592ea7c06989cd833": {
      "model_module": "@jupyter-widgets/controls",
      "model_module_version": "2.0.0",
      "model_name": "DescriptionStyleModel",
      "state": {
       "description_width": ""
      }
     },
     "3df8c2f1e3264ea28768ba9c8473f00d": {
      "model_module": "@jupyter-widgets/controls",
      "model_module_version": "2.0.0",
      "model_name": "IntSliderModel",
      "state": {
       "behavior": "drag-tap",
       "description": "panelsize",
       "layout": "IPY_MODEL_1d48e6c41d1c456b98449634582c15ec",
       "max": 50,
       "min": 10,
       "step": 10,
       "style": "IPY_MODEL_d5be3add3ee5439cb7cf518f73cb5d3b",
       "value": 10
      }
     },
     "43699049c3cf4ebba6e49446b1b68742": {
      "model_module": "@jupyter-widgets/controls",
      "model_module_version": "2.0.0",
      "model_name": "IntSliderModel",
      "state": {
       "behavior": "drag-tap",
       "description": "height_panel",
       "layout": "IPY_MODEL_add24d7867ad42fbb6fe82e0537bdeca",
       "max": 50,
       "step": 10,
       "style": "IPY_MODEL_b09d873d1be548bab78ffc16cdb41a3b"
      }
     },
     "4854afdfa2c24410953dd18630e1f14a": {
      "model_module": "@jupyter-widgets/controls",
      "model_module_version": "2.0.0",
      "model_name": "SliderStyleModel",
      "state": {
       "description_width": ""
      }
     },
     "4a87cdf910fb40daae9921dc2579d5e3": {
      "model_module": "@jupyter-widgets/base",
      "model_module_version": "2.0.0",
      "model_name": "LayoutModel",
      "state": {}
     },
     "505af2b4fae5467ebd4cd774ca1952b3": {
      "model_module": "@jupyter-widgets/output",
      "model_module_version": "1.0.0",
      "model_name": "OutputModel",
      "state": {
       "layout": "IPY_MODEL_3404a1332bbc4810b3091324a88683cd",
       "outputs": [
        {
         "name": "stderr",
         "output_type": "stream",
         "text": "/Users/fboudon/Documents/Presentation/Seminaires/2024- 11 - PNR/TP/PNR-PlantArchi-TP/Exercises/library.py:136: Warning: Redeclaration of module 'A'.\n  lsys_vig = Lsystem('vigne.lpy')\n/Users/fboudon/Documents/Presentation/Seminaires/2024- 11 - PNR/TP/PNR-PlantArchi-TP/Exercises/library.py:139: Warning: Invalid Color value 2 in setColor (maximum is -1)\n  lsys_vig_str = lsys_vig.derive()\n"
        },
        {
         "ename": "KeyboardInterrupt",
         "evalue": "",
         "output_type": "error",
         "traceback": [
          "\u001b[0;31m---------------------------------------------------------------------------\u001b[0m",
          "\u001b[0;31mKeyboardInterrupt\u001b[0m                         Traceback (most recent call last)",
          "File \u001b[0;32m~/Develop/miniconda3/envs/pnr/lib/python3.10/site-packages/ipywidgets/widgets/interaction.py:243\u001b[0m, in \u001b[0;36minteractive.update\u001b[0;34m(self, *args)\u001b[0m\n\u001b[1;32m    241\u001b[0m     value \u001b[38;5;241m=\u001b[39m widget\u001b[38;5;241m.\u001b[39mget_interact_value()\n\u001b[1;32m    242\u001b[0m     \u001b[38;5;28mself\u001b[39m\u001b[38;5;241m.\u001b[39mkwargs[widget\u001b[38;5;241m.\u001b[39m_kwarg] \u001b[38;5;241m=\u001b[39m value\n\u001b[0;32m--> 243\u001b[0m \u001b[38;5;28mself\u001b[39m\u001b[38;5;241m.\u001b[39mresult \u001b[38;5;241m=\u001b[39m \u001b[38;5;28;43mself\u001b[39;49m\u001b[38;5;241;43m.\u001b[39;49m\u001b[43mf\u001b[49m\u001b[43m(\u001b[49m\u001b[38;5;241;43m*\u001b[39;49m\u001b[38;5;241;43m*\u001b[39;49m\u001b[38;5;28;43mself\u001b[39;49m\u001b[38;5;241;43m.\u001b[39;49m\u001b[43mkwargs\u001b[49m\u001b[43m)\u001b[49m\n\u001b[1;32m    244\u001b[0m show_inline_matplotlib_plots()\n\u001b[1;32m    245\u001b[0m \u001b[38;5;28;01mif\u001b[39;00m \u001b[38;5;28mself\u001b[39m\u001b[38;5;241m.\u001b[39mauto_display \u001b[38;5;129;01mand\u001b[39;00m \u001b[38;5;28mself\u001b[39m\u001b[38;5;241m.\u001b[39mresult \u001b[38;5;129;01mis\u001b[39;00m \u001b[38;5;129;01mnot\u001b[39;00m \u001b[38;5;28;01mNone\u001b[39;00m:\n",
          "File \u001b[0;32m~/Documents/Presentation/Seminaires/2024- 11 - PNR/TP/PNR-PlantArchi-TP/Exercises/library.py:256\u001b[0m, in \u001b[0;36mRun_AgriPV_diffus\u001b[0;34m(agripv, distance, distance_plante, panelsize, angle_panel, height_panel, flag_couvert, infini)\u001b[0m\n\u001b[1;32m    245\u001b[0m     \u001b[38;5;66;03m#if (distance/distance_plante%2==0):\u001b[39;00m\n\u001b[1;32m    246\u001b[0m     \u001b[38;5;66;03m#    scene_out += Shape(Translated(0, -distance/2, height_panel, AxisRotated((1,0,0), angle_panel*3.14/180,panel)))\u001b[39;00m\n\u001b[1;32m    247\u001b[0m     \u001b[38;5;66;03m#    scene_out += Shape(Translated(0, +distance/2, height_panel, AxisRotated((1,0,0), angle_panel*3.14/180,panel)))\u001b[39;00m\n\u001b[0;32m   (...)\u001b[0m\n\u001b[1;32m    253\u001b[0m         \u001b[38;5;66;03m#    scene_out += Shape(Translated(-distance/2, 0, 0, shp.geometry), shp.appearance, id=shp.id)\u001b[39;00m\n\u001b[1;32m    254\u001b[0m         \u001b[38;5;66;03m#    scene_out += Shape(Translated(+distance/2, 0, 0, shp.geometry), shp.appearance, id=shp.id)\u001b[39;00m\n\u001b[1;32m    255\u001b[0m pattern_caribu \u001b[38;5;241m=\u001b[39m (\u001b[38;5;241m-\u001b[39m(distance\u001b[38;5;241m-\u001b[39m(nb_plantes_caribu\u001b[38;5;241m-\u001b[39m\u001b[38;5;241m1\u001b[39m)\u001b[38;5;241m*\u001b[39mdistance_plante)\u001b[38;5;241m/\u001b[39m\u001b[38;5;241m2\u001b[39m,\u001b[38;5;241m-\u001b[39mdistance_plante\u001b[38;5;241m/\u001b[39m\u001b[38;5;241m2\u001b[39m,(distance\u001b[38;5;241m-\u001b[39m(nb_plantes_caribu\u001b[38;5;241m-\u001b[39m\u001b[38;5;241m1\u001b[39m)\u001b[38;5;241m*\u001b[39mdistance_plante)\u001b[38;5;241m/\u001b[39m\u001b[38;5;241m2\u001b[39m,distance_plante\u001b[38;5;241m/\u001b[39m\u001b[38;5;241m2\u001b[39m)\n\u001b[0;32m--> 256\u001b[0m colored_scene \u001b[38;5;241m=\u001b[39m \u001b[43mCalcul_Caribu_diffus\u001b[49m\u001b[43m(\u001b[49m\u001b[43mscene_out_caribu\u001b[49m\u001b[43m,\u001b[49m\u001b[43m \u001b[49m\u001b[43mpattern_caribu\u001b[49m\u001b[43m,\u001b[49m\u001b[43m \u001b[49m\u001b[43minfini\u001b[49m\u001b[43m,\u001b[49m\u001b[43m \u001b[49m\u001b[43mdico_pltes_Ids\u001b[49m\u001b[43m)\u001b[49m\n\u001b[1;32m    257\u001b[0m \u001b[38;5;28mprint\u001b[39m(\u001b[38;5;28mlen\u001b[39m(dico_pltes_Ids[flag_couvert]),pattern_caribu)\n\u001b[1;32m    258\u001b[0m \u001b[38;5;28;01mreturn\u001b[39;00m SceneWidget(colored_scene, size_world\u001b[38;5;241m=\u001b[39m\u001b[38;5;241m75\u001b[39m)\n",
          "File \u001b[0;32m~/Documents/Presentation/Seminaires/2024- 11 - PNR/TP/PNR-PlantArchi-TP/Exercises/library.py:97\u001b[0m, in \u001b[0;36mRun_AgriPV_diffus.<locals>.Calcul_Caribu_diffus\u001b[0;34m(scene, pattern_caribu, infini, dico_IDs)\u001b[0m\n\u001b[1;32m     94\u001b[0m         sky\u001b[38;5;241m.\u001b[39mappend(t)\n\u001b[1;32m     96\u001b[0m c_scene \u001b[38;5;241m=\u001b[39m CaribuScene(scene\u001b[38;5;241m=\u001b[39mscene, light\u001b[38;5;241m=\u001b[39msky, pattern\u001b[38;5;241m=\u001b[39mpattern_caribu)\n\u001b[0;32m---> 97\u001b[0m raw, aggregated \u001b[38;5;241m=\u001b[39m \u001b[43mc_scene\u001b[49m\u001b[38;5;241;43m.\u001b[39;49m\u001b[43mrun\u001b[49m\u001b[43m(\u001b[49m\u001b[43mdirect\u001b[49m\u001b[38;5;241;43m=\u001b[39;49m\u001b[38;5;28;43;01mTrue\u001b[39;49;00m\u001b[43m,\u001b[49m\u001b[43m \u001b[49m\u001b[43minfinite\u001b[49m\u001b[38;5;241;43m=\u001b[39;49m\u001b[43minfini\u001b[49m\u001b[43m)\u001b[49m\n\u001b[1;32m     99\u001b[0m \u001b[38;5;66;03m# Visualisation\u001b[39;00m\n\u001b[1;32m    100\u001b[0m viewmaponcan, _ \u001b[38;5;241m=\u001b[39m c_scene\u001b[38;5;241m.\u001b[39mplot(raw[\u001b[38;5;124m'\u001b[39m\u001b[38;5;124mdefault_band\u001b[39m\u001b[38;5;124m'\u001b[39m][\u001b[38;5;124m'\u001b[39m\u001b[38;5;124mEabs\u001b[39m\u001b[38;5;124m'\u001b[39m], display\u001b[38;5;241m=\u001b[39m\u001b[38;5;28;01mFalse\u001b[39;00m)\n",
          "File \u001b[0;32m~/Develop/miniconda3/envs/pnr/lib/python3.10/site-packages/alinea.caribu-8.1.3-py3.10.egg/alinea/caribu/CaribuScene.py:622\u001b[0m, in \u001b[0;36mCaribuScene.run\u001b[0;34m(self, direct, infinite, d_sphere, layers, height, screen_size, screen_resolution, sensors, split_face, simplify)\u001b[0m\n\u001b[1;32m    620\u001b[0m \u001b[38;5;28;01melse\u001b[39;00m:  \u001b[38;5;66;03m# ray_casting\u001b[39;00m\n\u001b[1;32m    621\u001b[0m     \u001b[38;5;28;01mif\u001b[39;00m infinite:\n\u001b[0;32m--> 622\u001b[0m         out \u001b[38;5;241m=\u001b[39m \u001b[43malgos\u001b[49m\u001b[43m[\u001b[49m\u001b[38;5;124;43m'\u001b[39;49m\u001b[38;5;124;43mraycasting\u001b[39;49m\u001b[38;5;124;43m'\u001b[39;49m\u001b[43m]\u001b[49m\u001b[43m(\u001b[49m\u001b[43mtriangles\u001b[49m\u001b[43m,\u001b[49m\u001b[43m \u001b[49m\u001b[43mmaterials\u001b[49m\u001b[43m,\u001b[49m\n\u001b[1;32m    623\u001b[0m \u001b[43m                                  \u001b[49m\u001b[43mlights\u001b[49m\u001b[38;5;241;43m=\u001b[39;49m\u001b[43mlights\u001b[49m\u001b[43m,\u001b[49m\n\u001b[1;32m    624\u001b[0m \u001b[43m                                  \u001b[49m\u001b[43mdomain\u001b[49m\u001b[38;5;241;43m=\u001b[39;49m\u001b[38;5;28;43mself\u001b[39;49m\u001b[38;5;241;43m.\u001b[39;49m\u001b[43mpattern\u001b[49m\u001b[43m,\u001b[49m\n\u001b[1;32m    625\u001b[0m \u001b[43m                                  \u001b[49m\u001b[43mscreen_size\u001b[49m\u001b[38;5;241;43m=\u001b[39;49m\u001b[43mscreen_size\u001b[49m\u001b[43m,\u001b[49m\n\u001b[1;32m    626\u001b[0m \u001b[43m                                  \u001b[49m\u001b[43msensors\u001b[49m\u001b[38;5;241;43m=\u001b[39;49m\u001b[43msensors\u001b[49m\u001b[43m,\u001b[49m\n\u001b[1;32m    627\u001b[0m \u001b[43m                                  \u001b[49m\u001b[43mdebug\u001b[49m\u001b[43m \u001b[49m\u001b[38;5;241;43m=\u001b[39;49m\u001b[43m \u001b[49m\u001b[38;5;28;43mself\u001b[39;49m\u001b[38;5;241;43m.\u001b[39;49m\u001b[43mdebug\u001b[49m\u001b[43m)\u001b[49m\n\u001b[1;32m    628\u001b[0m     \u001b[38;5;28;01melse\u001b[39;00m:\n\u001b[1;32m    629\u001b[0m         out \u001b[38;5;241m=\u001b[39m algos[\u001b[38;5;124m'\u001b[39m\u001b[38;5;124mraycasting\u001b[39m\u001b[38;5;124m'\u001b[39m](triangles, materials,\n\u001b[1;32m    630\u001b[0m                                   lights\u001b[38;5;241m=\u001b[39mlights, domain\u001b[38;5;241m=\u001b[39m\u001b[38;5;28;01mNone\u001b[39;00m,\n\u001b[1;32m    631\u001b[0m                                   screen_size\u001b[38;5;241m=\u001b[39mscreen_size,\n\u001b[0;32m   (...)\u001b[0m\n\u001b[1;32m    634\u001b[0m                                   canfile \u001b[38;5;241m=\u001b[39m \u001b[38;5;28mself\u001b[39m\u001b[38;5;241m.\u001b[39mcanfile,\n\u001b[1;32m    635\u001b[0m                                   optfile \u001b[38;5;241m=\u001b[39m \u001b[38;5;28mself\u001b[39m\u001b[38;5;241m.\u001b[39moptfile)\n",
          "File \u001b[0;32m~/Develop/miniconda3/envs/pnr/lib/python3.10/site-packages/alinea.caribu-8.1.3-py3.10.egg/alinea/caribu/caribu.py:248\u001b[0m, in \u001b[0;36mraycasting\u001b[0;34m(triangles, materials, lights, domain, screen_size, sensors, debug, canfile, optfile)\u001b[0m\n\u001b[1;32m    237\u001b[0m     sensor_str \u001b[38;5;241m=\u001b[39m sensor_string(sensors)\n\u001b[1;32m    239\u001b[0m algo \u001b[38;5;241m=\u001b[39m Caribu(canfile\u001b[38;5;241m=\u001b[39mcan_string,\n\u001b[1;32m    240\u001b[0m               skyfile\u001b[38;5;241m=\u001b[39msky_string,\n\u001b[1;32m    241\u001b[0m               optfiles\u001b[38;5;241m=\u001b[39mo_string,\n\u001b[0;32m   (...)\u001b[0m\n\u001b[1;32m    246\u001b[0m               projection_image_size\u001b[38;5;241m=\u001b[39mscreen_size,\n\u001b[1;32m    247\u001b[0m               resdir\u001b[38;5;241m=\u001b[39m\u001b[38;5;28;01mNone\u001b[39;00m, resfile\u001b[38;5;241m=\u001b[39m\u001b[38;5;28;01mNone\u001b[39;00m, debug\u001b[38;5;241m=\u001b[39mdebug)\n\u001b[0;32m--> 248\u001b[0m \u001b[43malgo\u001b[49m\u001b[38;5;241;43m.\u001b[39;49m\u001b[43mrun\u001b[49m\u001b[43m(\u001b[49m\u001b[43m)\u001b[49m\n\u001b[1;32m    249\u001b[0m out \u001b[38;5;241m=\u001b[39m algo\u001b[38;5;241m.\u001b[39mnrj[\u001b[38;5;124m'\u001b[39m\u001b[38;5;124mband0\u001b[39m\u001b[38;5;124m'\u001b[39m][\u001b[38;5;124m'\u001b[39m\u001b[38;5;124mdata\u001b[39m\u001b[38;5;124m'\u001b[39m]\n\u001b[1;32m    250\u001b[0m out[\u001b[38;5;124m'\u001b[39m\u001b[38;5;124mEi\u001b[39m\u001b[38;5;124m'\u001b[39m] \u001b[38;5;241m=\u001b[39m get_incident(out[\u001b[38;5;124m'\u001b[39m\u001b[38;5;124mEabs\u001b[39m\u001b[38;5;124m'\u001b[39m], materials)\n",
          "File \u001b[0;32m~/Develop/miniconda3/envs/pnr/lib/python3.10/site-packages/alinea.caribu-8.1.3-py3.10.egg/alinea/caribu/caribu_shell.py:428\u001b[0m, in \u001b[0;36mCaribu.run\u001b[0;34m(self)\u001b[0m\n\u001b[1;32m    426\u001b[0m \u001b[38;5;28mself\u001b[39m\u001b[38;5;241m.\u001b[39minit()\n\u001b[1;32m    427\u001b[0m \u001b[38;5;28;01mif\u001b[39;00m \u001b[38;5;28mself\u001b[39m\u001b[38;5;241m.\u001b[39minfinity:\n\u001b[0;32m--> 428\u001b[0m     \u001b[38;5;28;43mself\u001b[39;49m\u001b[38;5;241;43m.\u001b[39;49m\u001b[43mperiodise\u001b[49m\u001b[43m(\u001b[49m\u001b[43m)\u001b[49m\n\u001b[1;32m    429\u001b[0m \u001b[38;5;28;01mif\u001b[39;00m \u001b[38;5;28mself\u001b[39m\u001b[38;5;241m.\u001b[39minfinity \u001b[38;5;129;01mand\u001b[39;00m \u001b[38;5;129;01mnot\u001b[39;00m \u001b[38;5;28mself\u001b[39m\u001b[38;5;241m.\u001b[39mdirect:\n\u001b[1;32m    430\u001b[0m     \u001b[38;5;28mself\u001b[39m\u001b[38;5;241m.\u001b[39ms2v()\n",
          "File \u001b[0;32m~/Develop/miniconda3/envs/pnr/lib/python3.10/site-packages/alinea.caribu-8.1.3-py3.10.egg/alinea/caribu/caribu_shell.py:468\u001b[0m, in \u001b[0;36mCaribu.periodise\u001b[0;34m(self)\u001b[0m\n\u001b[1;32m    466\u001b[0m \u001b[38;5;28;01mif\u001b[39;00m \u001b[38;5;28mself\u001b[39m\u001b[38;5;241m.\u001b[39mmy_dbg:\n\u001b[1;32m    467\u001b[0m     \u001b[38;5;28mprint\u001b[39m(\u001b[38;5;124m\"\u001b[39m\u001b[38;5;124m>>> periodise() : \u001b[39m\u001b[38;5;124m\"\u001b[39m, cmd)\n\u001b[0;32m--> 468\u001b[0m status \u001b[38;5;241m=\u001b[39m \u001b[43m_process\u001b[49m\u001b[43m(\u001b[49m\u001b[43mcmd\u001b[49m\u001b[43m,\u001b[49m\u001b[43m \u001b[49m\u001b[43md\u001b[49m\u001b[43m,\u001b[49m\u001b[43m \u001b[49m\u001b[43md\u001b[49m\u001b[43m \u001b[49m\u001b[38;5;241;43m/\u001b[39;49m\u001b[43m \u001b[49m\u001b[38;5;124;43m\"\u001b[39;49m\u001b[38;5;124;43mperiodise.log\u001b[39;49m\u001b[38;5;124;43m\"\u001b[39;49m\u001b[43m)\u001b[49m\n\u001b[1;32m    469\u001b[0m \u001b[38;5;28;01mif\u001b[39;00m (d \u001b[38;5;241m/\u001b[39m outscene)\u001b[38;5;241m.\u001b[39mexists():\n\u001b[1;32m    470\u001b[0m     \u001b[38;5;28mself\u001b[39m\u001b[38;5;241m.\u001b[39mscene \u001b[38;5;241m=\u001b[39m outscene\n",
          "File \u001b[0;32m~/Develop/miniconda3/envs/pnr/lib/python3.10/site-packages/alinea.caribu-8.1.3-py3.10.egg/alinea/caribu/caribu_shell.py:51\u001b[0m, in \u001b[0;36m_process\u001b[0;34m(cmd, directory, out)\u001b[0m\n\u001b[1;32m     48\u001b[0m \u001b[38;5;28;01mif\u001b[39;00m platform\u001b[38;5;241m.\u001b[39msystem() \u001b[38;5;241m==\u001b[39m \u001b[38;5;124m'\u001b[39m\u001b[38;5;124mDarwin\u001b[39m\u001b[38;5;124m'\u001b[39m:\n\u001b[1;32m     49\u001b[0m     p \u001b[38;5;241m=\u001b[39m Popen(cmd, shell\u001b[38;5;241m=\u001b[39m\u001b[38;5;28;01mTrue\u001b[39;00m, cwd\u001b[38;5;241m=\u001b[39mdirectory,\n\u001b[1;32m     50\u001b[0m               stdin\u001b[38;5;241m=\u001b[39mPIPE, stdout\u001b[38;5;241m=\u001b[39mf, stderr\u001b[38;5;241m=\u001b[39mPIPE)\n\u001b[0;32m---> 51\u001b[0m     status \u001b[38;5;241m=\u001b[39m \u001b[43mp\u001b[49m\u001b[38;5;241;43m.\u001b[39;49m\u001b[43mcommunicate\u001b[49m\u001b[43m(\u001b[49m\u001b[43m)\u001b[49m\n\u001b[1;32m     52\u001b[0m \u001b[38;5;28;01melse\u001b[39;00m:\n\u001b[1;32m     53\u001b[0m     p \u001b[38;5;241m=\u001b[39m Popen(cmd, shell\u001b[38;5;241m=\u001b[39m\u001b[38;5;28;01mTrue\u001b[39;00m, cwd\u001b[38;5;241m=\u001b[39mdirectory,\n\u001b[1;32m     54\u001b[0m               stdin\u001b[38;5;241m=\u001b[39m\u001b[38;5;28;01mNone\u001b[39;00m, stdout\u001b[38;5;241m=\u001b[39mf, stderr\u001b[38;5;241m=\u001b[39mSTDOUT)\n",
          "File \u001b[0;32m~/Develop/miniconda3/envs/pnr/lib/python3.10/subprocess.py:1154\u001b[0m, in \u001b[0;36mPopen.communicate\u001b[0;34m(self, input, timeout)\u001b[0m\n\u001b[1;32m   1151\u001b[0m     endtime \u001b[38;5;241m=\u001b[39m \u001b[38;5;28;01mNone\u001b[39;00m\n\u001b[1;32m   1153\u001b[0m \u001b[38;5;28;01mtry\u001b[39;00m:\n\u001b[0;32m-> 1154\u001b[0m     stdout, stderr \u001b[38;5;241m=\u001b[39m \u001b[38;5;28;43mself\u001b[39;49m\u001b[38;5;241;43m.\u001b[39;49m\u001b[43m_communicate\u001b[49m\u001b[43m(\u001b[49m\u001b[38;5;28;43minput\u001b[39;49m\u001b[43m,\u001b[49m\u001b[43m \u001b[49m\u001b[43mendtime\u001b[49m\u001b[43m,\u001b[49m\u001b[43m \u001b[49m\u001b[43mtimeout\u001b[49m\u001b[43m)\u001b[49m\n\u001b[1;32m   1155\u001b[0m \u001b[38;5;28;01mexcept\u001b[39;00m \u001b[38;5;167;01mKeyboardInterrupt\u001b[39;00m:\n\u001b[1;32m   1156\u001b[0m     \u001b[38;5;66;03m# https://bugs.python.org/issue25942\u001b[39;00m\n\u001b[1;32m   1157\u001b[0m     \u001b[38;5;66;03m# See the detailed comment in .wait().\u001b[39;00m\n\u001b[1;32m   1158\u001b[0m     \u001b[38;5;28;01mif\u001b[39;00m timeout \u001b[38;5;129;01mis\u001b[39;00m \u001b[38;5;129;01mnot\u001b[39;00m \u001b[38;5;28;01mNone\u001b[39;00m:\n",
          "File \u001b[0;32m~/Develop/miniconda3/envs/pnr/lib/python3.10/subprocess.py:2021\u001b[0m, in \u001b[0;36mPopen._communicate\u001b[0;34m(self, input, endtime, orig_timeout)\u001b[0m\n\u001b[1;32m   2014\u001b[0m     \u001b[38;5;28mself\u001b[39m\u001b[38;5;241m.\u001b[39m_check_timeout(endtime, orig_timeout,\n\u001b[1;32m   2015\u001b[0m                         stdout, stderr,\n\u001b[1;32m   2016\u001b[0m                         skip_check_and_raise\u001b[38;5;241m=\u001b[39m\u001b[38;5;28;01mTrue\u001b[39;00m)\n\u001b[1;32m   2017\u001b[0m     \u001b[38;5;28;01mraise\u001b[39;00m \u001b[38;5;167;01mRuntimeError\u001b[39;00m(  \u001b[38;5;66;03m# Impossible :)\u001b[39;00m\n\u001b[1;32m   2018\u001b[0m         \u001b[38;5;124m'\u001b[39m\u001b[38;5;124m_check_timeout(..., skip_check_and_raise=True) \u001b[39m\u001b[38;5;124m'\u001b[39m\n\u001b[1;32m   2019\u001b[0m         \u001b[38;5;124m'\u001b[39m\u001b[38;5;124mfailed to raise TimeoutExpired.\u001b[39m\u001b[38;5;124m'\u001b[39m)\n\u001b[0;32m-> 2021\u001b[0m ready \u001b[38;5;241m=\u001b[39m \u001b[43mselector\u001b[49m\u001b[38;5;241;43m.\u001b[39;49m\u001b[43mselect\u001b[49m\u001b[43m(\u001b[49m\u001b[43mtimeout\u001b[49m\u001b[43m)\u001b[49m\n\u001b[1;32m   2022\u001b[0m \u001b[38;5;28mself\u001b[39m\u001b[38;5;241m.\u001b[39m_check_timeout(endtime, orig_timeout, stdout, stderr)\n\u001b[1;32m   2024\u001b[0m \u001b[38;5;66;03m# XXX Rewrite these to use non-blocking I/O on the file\u001b[39;00m\n\u001b[1;32m   2025\u001b[0m \u001b[38;5;66;03m# objects; they are no longer using C stdio!\u001b[39;00m\n",
          "File \u001b[0;32m~/Develop/miniconda3/envs/pnr/lib/python3.10/selectors.py:416\u001b[0m, in \u001b[0;36m_PollLikeSelector.select\u001b[0;34m(self, timeout)\u001b[0m\n\u001b[1;32m    414\u001b[0m ready \u001b[38;5;241m=\u001b[39m []\n\u001b[1;32m    415\u001b[0m \u001b[38;5;28;01mtry\u001b[39;00m:\n\u001b[0;32m--> 416\u001b[0m     fd_event_list \u001b[38;5;241m=\u001b[39m \u001b[38;5;28;43mself\u001b[39;49m\u001b[38;5;241;43m.\u001b[39;49m\u001b[43m_selector\u001b[49m\u001b[38;5;241;43m.\u001b[39;49m\u001b[43mpoll\u001b[49m\u001b[43m(\u001b[49m\u001b[43mtimeout\u001b[49m\u001b[43m)\u001b[49m\n\u001b[1;32m    417\u001b[0m \u001b[38;5;28;01mexcept\u001b[39;00m \u001b[38;5;167;01mInterruptedError\u001b[39;00m:\n\u001b[1;32m    418\u001b[0m     \u001b[38;5;28;01mreturn\u001b[39;00m ready\n",
          "\u001b[0;31mKeyboardInterrupt\u001b[0m: "
         ]
        }
       ]
      }
     },
     "510298d95ff54844a0a08602e4a533bd": {
      "model_module": "@jupyter-widgets/controls",
      "model_module_version": "2.0.0",
      "model_name": "VBoxModel",
      "state": {
       "_dom_classes": [
        "widget-interact"
       ],
       "children": [
        "IPY_MODEL_a88d640bdf164de78e81c4f1fc7ab1f8",
        "IPY_MODEL_c0eb2bb1bc91442f9c0fefc83e6f3ba2",
        "IPY_MODEL_91e9ac8338ab419a9dd8507ae5674b6c",
        "IPY_MODEL_176c62cab2174119b8814af512d23e98",
        "IPY_MODEL_0460ba431d9c49a09f478928eef50c15",
        "IPY_MODEL_281b990226a0416eaab80f87002afb41",
        "IPY_MODEL_20b987e537c1477e92c5cf6a686812f7",
        "IPY_MODEL_5d006b9c43aa429c911ecda6b7221fe4",
        "IPY_MODEL_505af2b4fae5467ebd4cd774ca1952b3"
       ],
       "layout": "IPY_MODEL_9dcf527884fd46ca9fdc424a146f1cb1"
      }
     },
     "510c9ccdb0c8460abfd20b81d2984e45": {
      "model_module": "@jupyter-widgets/controls",
      "model_module_version": "2.0.0",
      "model_name": "FloatSliderModel",
      "state": {
       "behavior": "drag-tap",
       "continuous_update": false,
       "description": "InterPlantes (cm):",
       "layout": "IPY_MODEL_ab7484d5ca7d4ef7b1875ba701a8106a",
       "max": 60,
       "min": 5,
       "readout_format": ".1f",
       "step": 5,
       "style": "IPY_MODEL_bca11c4013ef415db5e1a383ccc33c80",
       "value": 50
      }
     },
     "52d32a1cf532428f82f5f59e4767e5ca": {
      "model_module": "@jupyter-widgets/base",
      "model_module_version": "2.0.0",
      "model_name": "LayoutModel",
      "state": {}
     },
     "53370cf75a394597b9c2f35f576ae13a": {
      "model_module": "@jupyter-widgets/base",
      "model_module_version": "2.0.0",
      "model_name": "LayoutModel",
      "state": {}
     },
     "593156adddc44a8dacb55a4efd919117": {
      "model_module": "@jupyter-widgets/base",
      "model_module_version": "2.0.0",
      "model_name": "LayoutModel",
      "state": {}
     },
     "5943d666d5e64fa8ae4a2118fadc1e4a": {
      "model_module": "@jupyter-widgets/controls",
      "model_module_version": "2.0.0",
      "model_name": "CheckboxStyleModel",
      "state": {
       "description_width": ""
      }
     },
     "5d006b9c43aa429c911ecda6b7221fe4": {
      "model_module": "@jupyter-widgets/controls",
      "model_module_version": "2.0.0",
      "model_name": "CheckboxModel",
      "state": {
       "description": "Couvert Infini",
       "disabled": false,
       "indent": false,
       "layout": "IPY_MODEL_64bf9afe46694018ad4df54f493c06fc",
       "style": "IPY_MODEL_eed553b8b2c24be3902d1a9bce59028e",
       "value": true
      }
     },
     "64bf9afe46694018ad4df54f493c06fc": {
      "model_module": "@jupyter-widgets/base",
      "model_module_version": "2.0.0",
      "model_name": "LayoutModel",
      "state": {}
     },
     "672b290083914876961e668d46e01af6": {
      "model_module": "@jupyter-widgets/base",
      "model_module_version": "2.0.0",
      "model_name": "LayoutModel",
      "state": {}
     },
     "68cdad2cb49e4c5faa396e77363fdda7": {
      "model_module": "@jupyter-widgets/base",
      "model_module_version": "2.0.0",
      "model_name": "LayoutModel",
      "state": {}
     },
     "75c579c013d549219d242cd3a738af22": {
      "model_module": "@jupyter-widgets/controls",
      "model_module_version": "2.0.0",
      "model_name": "IntSliderModel",
      "state": {
       "behavior": "drag-tap",
       "description": "angle_panel",
       "layout": "IPY_MODEL_dee2a6d6a72241bf9f5dbf720192c131",
       "max": 90,
       "min": -90,
       "step": 10,
       "style": "IPY_MODEL_2b2e03e109a8442984e6c2c6f9ee50c6",
       "value": 40
      }
     },
     "7e6d9a1c5c4946efa0a2b9a6b0fcd57c": {
      "model_module": "@jupyter-widgets/base",
      "model_module_version": "2.0.0",
      "model_name": "LayoutModel",
      "state": {}
     },
     "7f8381d2f6be423f95dd89ec53d52904": {
      "model_module": "@jupyter-widgets/controls",
      "model_module_version": "2.0.0",
      "model_name": "FloatSliderModel",
      "state": {
       "behavior": "drag-tap",
       "continuous_update": false,
       "description": "InterPV (m):",
       "layout": "IPY_MODEL_8b7ccf05036d4e75bc6a681384dad41e",
       "max": 10,
       "readout_format": ".1f",
       "step": 0.1,
       "style": "IPY_MODEL_f3399e21dbe14b4b93c64cf0fef2ad73",
       "value": 5
      }
     },
     "8184b318f3e44add831c8fa76d636256": {
      "model_module": "@jupyter-widgets/base",
      "model_module_version": "2.0.0",
      "model_name": "LayoutModel",
      "state": {}
     },
     "8a83240e036d4b61ae8860fa7b041f29": {
      "model_module": "@jupyter-widgets/base",
      "model_module_version": "2.0.0",
      "model_name": "LayoutModel",
      "state": {}
     },
     "8b4f54106145451e9016b758cd430fb4": {
      "model_module": "@jupyter-widgets/controls",
      "model_module_version": "2.0.0",
      "model_name": "SliderStyleModel",
      "state": {
       "description_width": ""
      }
     },
     "8b7ccf05036d4e75bc6a681384dad41e": {
      "model_module": "@jupyter-widgets/base",
      "model_module_version": "2.0.0",
      "model_name": "LayoutModel",
      "state": {}
     },
     "91e9ac8338ab419a9dd8507ae5674b6c": {
      "model_module": "@jupyter-widgets/controls",
      "model_module_version": "2.0.0",
      "model_name": "FloatSliderModel",
      "state": {
       "behavior": "drag-tap",
       "continuous_update": false,
       "description": "InterPlantes (cm):",
       "layout": "IPY_MODEL_53370cf75a394597b9c2f35f576ae13a",
       "max": 60,
       "min": 5,
       "readout_format": ".1f",
       "step": 5,
       "style": "IPY_MODEL_4854afdfa2c24410953dd18630e1f14a",
       "value": 50
      }
     },
     "97da3b5ad74446db8af0ce3a1d343190": {
      "model_module": "@jupyter-widgets/controls",
      "model_module_version": "2.0.0",
      "model_name": "DescriptionStyleModel",
      "state": {
       "description_width": ""
      }
     },
     "9dcf527884fd46ca9fdc424a146f1cb1": {
      "model_module": "@jupyter-widgets/base",
      "model_module_version": "2.0.0",
      "model_name": "LayoutModel",
      "state": {}
     },
     "a88d640bdf164de78e81c4f1fc7ab1f8": {
      "model_module": "@jupyter-widgets/controls",
      "model_module_version": "2.0.0",
      "model_name": "CheckboxModel",
      "state": {
       "description": "AgriPV",
       "disabled": false,
       "indent": false,
       "layout": "IPY_MODEL_52d32a1cf532428f82f5f59e4767e5ca",
       "style": "IPY_MODEL_5943d666d5e64fa8ae4a2118fadc1e4a",
       "value": true
      }
     },
     "ab7484d5ca7d4ef7b1875ba701a8106a": {
      "model_module": "@jupyter-widgets/base",
      "model_module_version": "2.0.0",
      "model_name": "LayoutModel",
      "state": {}
     },
     "add24d7867ad42fbb6fe82e0537bdeca": {
      "model_module": "@jupyter-widgets/base",
      "model_module_version": "2.0.0",
      "model_name": "LayoutModel",
      "state": {}
     },
     "afc36885a6bd418b80130b2426f7da2e": {
      "model_module": "@jupyter-widgets/controls",
      "model_module_version": "2.0.0",
      "model_name": "CheckboxModel",
      "state": {
       "description": "Couvert Infini",
       "disabled": false,
       "indent": false,
       "layout": "IPY_MODEL_593156adddc44a8dacb55a4efd919117",
       "style": "IPY_MODEL_2cbc4e29cf8f48b6b74c6a5c07ba521d",
       "value": true
      }
     },
     "b09d873d1be548bab78ffc16cdb41a3b": {
      "model_module": "@jupyter-widgets/controls",
      "model_module_version": "2.0.0",
      "model_name": "SliderStyleModel",
      "state": {
       "description_width": ""
      }
     },
     "b6a24c94186742fc9b3e81bf9c9db3b7": {
      "model_module": "@jupyter-widgets/controls",
      "model_module_version": "2.0.0",
      "model_name": "VBoxModel",
      "state": {
       "_dom_classes": [
        "widget-interact"
       ],
       "children": [
        "IPY_MODEL_d2ef6291de824ce9a59583f00c6b3066",
        "IPY_MODEL_7f8381d2f6be423f95dd89ec53d52904",
        "IPY_MODEL_510c9ccdb0c8460abfd20b81d2984e45",
        "IPY_MODEL_3df8c2f1e3264ea28768ba9c8473f00d",
        "IPY_MODEL_75c579c013d549219d242cd3a738af22",
        "IPY_MODEL_43699049c3cf4ebba6e49446b1b68742",
        "IPY_MODEL_fa02f43830174f9499b1899ac46d1c11",
        "IPY_MODEL_afc36885a6bd418b80130b2426f7da2e",
        "IPY_MODEL_1034b5ed8e3f4a9786be62f138bfc43b"
       ],
       "layout": "IPY_MODEL_1cbffb575a6047f6bf03f6d57ad6902b"
      }
     },
     "bca11c4013ef415db5e1a383ccc33c80": {
      "model_module": "@jupyter-widgets/controls",
      "model_module_version": "2.0.0",
      "model_name": "SliderStyleModel",
      "state": {
       "description_width": ""
      }
     },
     "c0eb2bb1bc91442f9c0fefc83e6f3ba2": {
      "model_module": "@jupyter-widgets/controls",
      "model_module_version": "2.0.0",
      "model_name": "FloatSliderModel",
      "state": {
       "behavior": "drag-tap",
       "continuous_update": false,
       "description": "InterPV (m):",
       "layout": "IPY_MODEL_7e6d9a1c5c4946efa0a2b9a6b0fcd57c",
       "max": 10,
       "readout_format": ".1f",
       "step": 0.1,
       "style": "IPY_MODEL_8b4f54106145451e9016b758cd430fb4",
       "value": 5
      }
     },
     "c1246b82c93d4944868be63a077b710c": {
      "model_module": "@jupyter-widgets/controls",
      "model_module_version": "2.0.0",
      "model_name": "CheckboxStyleModel",
      "state": {
       "description_width": ""
      }
     },
     "d2ef6291de824ce9a59583f00c6b3066": {
      "model_module": "@jupyter-widgets/controls",
      "model_module_version": "2.0.0",
      "model_name": "CheckboxModel",
      "state": {
       "description": "AgriPV",
       "disabled": false,
       "indent": false,
       "layout": "IPY_MODEL_8184b318f3e44add831c8fa76d636256",
       "style": "IPY_MODEL_c1246b82c93d4944868be63a077b710c",
       "value": true
      }
     },
     "d5be3add3ee5439cb7cf518f73cb5d3b": {
      "model_module": "@jupyter-widgets/controls",
      "model_module_version": "2.0.0",
      "model_name": "SliderStyleModel",
      "state": {
       "description_width": ""
      }
     },
     "db45f770c62d4e0c813a2aded42b7647": {
      "model_module": "@jupyter-widgets/controls",
      "model_module_version": "2.0.0",
      "model_name": "SliderStyleModel",
      "state": {
       "description_width": ""
      }
     },
     "dee2a6d6a72241bf9f5dbf720192c131": {
      "model_module": "@jupyter-widgets/base",
      "model_module_version": "2.0.0",
      "model_name": "LayoutModel",
      "state": {}
     },
     "eed553b8b2c24be3902d1a9bce59028e": {
      "model_module": "@jupyter-widgets/controls",
      "model_module_version": "2.0.0",
      "model_name": "CheckboxStyleModel",
      "state": {
       "description_width": ""
      }
     },
     "f3399e21dbe14b4b93c64cf0fef2ad73": {
      "model_module": "@jupyter-widgets/controls",
      "model_module_version": "2.0.0",
      "model_name": "SliderStyleModel",
      "state": {
       "description_width": ""
      }
     },
     "fa02f43830174f9499b1899ac46d1c11": {
      "model_module": "@jupyter-widgets/controls",
      "model_module_version": "2.0.0",
      "model_name": "DropdownModel",
      "state": {
       "_options_labels": [
        "Luzerne",
        "Fétuque",
        "Vigne",
        "Sol"
       ],
       "description": "Couvert :",
       "index": 0,
       "layout": "IPY_MODEL_2bdd62466e794d31bf3fc03e5da0d4e2",
       "style": "IPY_MODEL_34c7e13193da438592ea7c06989cd833"
      }
     }
    },
    "version_major": 2,
    "version_minor": 0
   }
  }
 },
 "nbformat": 4,
 "nbformat_minor": 4
}
