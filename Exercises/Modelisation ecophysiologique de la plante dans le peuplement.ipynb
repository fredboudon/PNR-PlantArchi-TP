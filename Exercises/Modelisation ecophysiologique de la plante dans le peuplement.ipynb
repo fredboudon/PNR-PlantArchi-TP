{
 "cells": [
  {
   "cell_type": "markdown",
   "metadata": {},
   "source": [
    "# Présentation du TD"
   ]
  },
  {
   "cell_type": "markdown",
   "metadata": {},
   "source": [
    "![Introduction to plant architecture](slides/contexte.png)"
   ]
  },
  {
   "cell_type": "markdown",
   "metadata": {},
   "source": [
    "![From real plants to virtual 3D plants](slides/Luzerne.png)"
   ]
  },
  {
   "cell_type": "markdown",
   "metadata": {},
   "source": [
    "# Description de l'Architecture des plantes"
   ]
  },
  {
   "cell_type": "markdown",
   "metadata": {},
   "source": [
    "![Architecture definition](slides/architecture.jpg)"
   ]
  },
  {
   "cell_type": "markdown",
   "metadata": {},
   "source": [
    "## Présentation des plantes en séance - Modularité de l'architecture"
   ]
  },
  {
   "cell_type": "markdown",
   "metadata": {},
   "source": [
    "* Décrivez les plantes qui sont devant vous.\n",
    "* Identifiez les entités suivantes :\n",
    "\n",
    "    | Entité| Luzerne #  | Fétuque #  |\n",
    "|:---|:---:|:---:|\n",
    "| Ramification / Talle     |  A  |  A  |\n",
    "| Insertion pétiole / Gaine|  S  |  E  |\n",
    "| Insertion foliole / Limbe|  T  |  F  |\n",
    "| Extrémité foliole / Limbe|  U  |  L  |\n",
    "\n",
    "\n",
    "* Identifiez des relations topologiques entre entités : \"+\" pour insertion et \">\" pour succession.\n",
    "* Observez vous des motifs qui se répètent?"
   ]
  },
  {
   "cell_type": "markdown",
   "metadata": {},
   "source": [
    "# Initiation aux modèles individu-centrés & architecturés (FSPM)"
   ]
  },
  {
   "cell_type": "markdown",
   "metadata": {},
   "source": [
    "## Chargement des librairies python"
   ]
  },
  {
   "cell_type": "code",
   "execution_count": 1,
   "metadata": {
    "ExecuteTime": {
     "end_time": "2024-11-20T10:03:40.544033Z",
     "start_time": "2024-11-20T10:03:38.778658Z"
    }
   },
   "outputs": [],
   "source": [
    "from __future__ import print_function\n",
    "import pandas as pd\n",
    "from ipywidgets import interact, interactive, fixed, interact_manual\n",
    "from openalea.mtg import MTG #librairie MTG\n",
    "from pgljupyter import LsystemWidget #librairie Lsystem\n",
    "from pathlib import Path\n",
    "\n",
    "import library as TD_libs"
   ]
  },
  {
   "cell_type": "markdown",
   "metadata": {},
   "source": [
    "## Encodage de l'architecture: formalisme MTG"
   ]
  },
  {
   "cell_type": "markdown",
   "metadata": {},
   "source": [
    "### Cas d'une légumineuse : La luzerne"
   ]
  },
  {
   "cell_type": "markdown",
   "metadata": {},
   "source": [
    "Sur le MTG suivant:\n",
    "* Donnez le nombre d'axes\n",
    "* Donnez le nombre de petioles sur l'axe 1 et 3"
   ]
  },
  {
   "cell_type": "code",
   "execution_count": 2,
   "metadata": {
    "ExecuteTime": {
     "end_time": "2024-11-20T09:50:33.342816Z",
     "start_time": "2024-11-20T09:50:33.331776Z"
    }
   },
   "outputs": [
    {
     "name": "stdout",
     "output_type": "stream",
     "text": [
      "MTG : nb_vertices=57, nb_scales=4\n",
      "/P\t\t\t(id=1)\t\t\t\t\t\t\t\t\t\t\t\n",
      "^/A1\t\t\t(id=2)\t\t\t\t\t\t\t\t\t\t\t\n",
      "^/S1\t\t\t(id=3)\t\t\t\t\t\t\t\t\t\t\t\n",
      "\t+A2\t\t\t(id=4)\t\t\t\t\t\t\t\t\t\t\n",
      "\t^/S1\t\t\t(id=5)\t\t\t\t\t\t\t\t\t\t\n",
      "\t\t+T1\t\t\t(id=6)\t\t\t\t\t\t\t\t\t\n",
      "\t\t^<U1\t\t\t(id=7)\t\t\t\t\t\t\t\t\t\n",
      "\t^<S2\t\t\t(id=8)\t\t\t\t\t\t\t\t\t\t\n",
      "\t\t+T1\t\t\t(id=9)\t\t\t\t\t\t\t\t\t\n",
      "\t\t^<U1\t\t\t(id=10)\t\t\t\t\t\t\t\t\t\n",
      "\t^<S3\t\t\t(id=11)\t\t\t\t\t\t\t\t\t\t\n",
      "\t\t+T1\t\t\t(id=12)\t\t\t\t\t\t\t\t\t\n",
      "\t\t^<U1\t\t\t(id=13)\t\t\t\t\t\t\t\t\t\n",
      "\t^<S4\t\t\t(id=14)\t\t\t\t\t\t\t\t\t\t\n",
      "\t\t+T1\t\t\t(id=15)\t\t\t\t\t\t\t\t\t\n",
      "\t\t^<U1\t\t\t(id=16)\t\t\t\t\t\t\t\t\t\n",
      "\t+A3\t\t\t(id=17)\t\t\t\t\t\t\t\t\t\t\n",
      "\t^/S1\t\t\t(id=18)\t\t\t\t\t\t\t\t\t\t\n",
      "\t\t+T1\t\t\t(id=19)\t\t\t\t\t\t\t\t\t\n",
      "\t\t^<U1\t\t\t(id=20)\t\t\t\t\t\t\t\t\t\n",
      "\t^<S2\t\t\t(id=21)\t\t\t\t\t\t\t\t\t\t\n",
      "\t\t+T1\t\t\t(id=22)\t\t\t\t\t\t\t\t\t\n",
      "\t\t^<U1\t\t\t(id=23)\t\t\t\t\t\t\t\t\t\n",
      "\t^<S3\t\t\t(id=24)\t\t\t\t\t\t\t\t\t\t\n",
      "\t\t+T1\t\t\t(id=25)\t\t\t\t\t\t\t\t\t\n",
      "\t\t^<U1\t\t\t(id=26)\t\t\t\t\t\t\t\t\t\n",
      "^<S2\t\t\t(id=27)\t\t\t\t\t\t\t\t\t\t\t\n",
      "\t+T1\t\t\t(id=28)\t\t\t\t\t\t\t\t\t\t\n",
      "\t^<U1\t\t\t(id=29)\t\t\t\t\t\t\t\t\t\t\n",
      "^<S3\t\t\t(id=30)\t\t\t\t\t\t\t\t\t\t\t\n",
      "\t+T1\t\t\t(id=31)\t\t\t\t\t\t\t\t\t\t\n",
      "\t^<U1\t\t\t(id=32)\t\t\t\t\t\t\t\t\t\t\n",
      "^<S4\t\t\t(id=33)\t\t\t\t\t\t\t\t\t\t\t\n",
      "\t+T1\t\t\t(id=34)\t\t\t\t\t\t\t\t\t\t\n",
      "\t^<U1\t\t\t(id=35)\t\t\t\t\t\t\t\t\t\t\n",
      "^<S5\t\t\t(id=36)\t\t\t\t\t\t\t\t\t\t\t\n",
      "\t+T1\t\t\t(id=37)\t\t\t\t\t\t\t\t\t\t\n",
      "\t^<U1\t\t\t(id=38)\t\t\t\t\t\t\t\t\t\t\n",
      "^<S6\t\t\t(id=39)\t\t\t\t\t\t\t\t\t\t\t\n",
      "\t+T1\t\t\t(id=40)\t\t\t\t\t\t\t\t\t\t\n",
      "\t^<U1\t\t\t(id=41)\t\t\t\t\t\t\t\t\t\t\n",
      "^<S7\t\t\t(id=42)\t\t\t\t\t\t\t\t\t\t\t\n",
      "\t+T1\t\t\t(id=43)\t\t\t\t\t\t\t\t\t\t\n",
      "\t^<U1\t\t\t(id=44)\t\t\t\t\t\t\t\t\t\t\n",
      "^<S8\t\t\t(id=45)\t\t\t\t\t\t\t\t\t\t\t\n",
      "\t+T1\t\t\t(id=46)\t\t\t\t\t\t\t\t\t\t\n",
      "\t^<U1\t\t\t(id=47)\t\t\t\t\t\t\t\t\t\t\n",
      "^<S9\t\t\t(id=48)\t\t\t\t\t\t\t\t\t\t\t\n",
      "\t+T1\t\t\t(id=49)\t\t\t\t\t\t\t\t\t\t\n",
      "\t^<U1\t\t\t(id=50)\t\t\t\t\t\t\t\t\t\t\n",
      "^<S10\t\t\t(id=51)\t\t\t\t\t\t\t\t\t\t\t\n",
      "\t+T1\t\t\t(id=52)\t\t\t\t\t\t\t\t\t\t\n",
      "\t^<U1\t\t\t(id=53)\t\t\t\t\t\t\t\t\t\t\n",
      "^<S11\t\t\t(id=54)\t\t\t\t\t\t\t\t\t\t\t\n",
      "\t+T1\t\t\t(id=55)\t\t\t\t\t\t\t\t\t\t\n",
      "\t^<U1\t\t\t(id=56)\t\t\t\t\t\t\t\t\t\t\n"
     ]
    }
   ],
   "source": [
    "g = MTG(Path('MTG/luzerne.mtg')) #Chargement du fichier MTG\n",
    "g.display()"
   ]
  },
  {
   "cell_type": "markdown",
   "metadata": {},
   "source": [
    "Observer les propriétés attachées à chaque élement (vertex) du MTG"
   ]
  },
  {
   "cell_type": "code",
   "execution_count": 3,
   "metadata": {
    "ExecuteTime": {
     "end_time": "2024-11-20T09:51:06.764480Z",
     "start_time": "2024-11-20T09:51:06.681516Z"
    }
   },
   "outputs": [
    {
     "data": {
      "text/html": [
       "<div>\n",
       "<style scoped>\n",
       "    .dataframe tbody tr th:only-of-type {\n",
       "        vertical-align: middle;\n",
       "    }\n",
       "\n",
       "    .dataframe tbody tr th {\n",
       "        vertical-align: top;\n",
       "    }\n",
       "\n",
       "    .dataframe thead th {\n",
       "        text-align: right;\n",
       "    }\n",
       "</style>\n",
       "<table border=\"1\" class=\"dataframe\">\n",
       "  <thead>\n",
       "    <tr style=\"text-align: right;\">\n",
       "      <th></th>\n",
       "      <th>edge_type</th>\n",
       "      <th>label</th>\n",
       "      <th>index</th>\n",
       "      <th>XX</th>\n",
       "      <th>YY</th>\n",
       "      <th>ZZ</th>\n",
       "      <th>AA</th>\n",
       "      <th>BB</th>\n",
       "      <th>CC</th>\n",
       "      <th>Flargeur</th>\n",
       "      <th>_line</th>\n",
       "    </tr>\n",
       "  </thead>\n",
       "  <tbody>\n",
       "    <tr>\n",
       "      <th>1</th>\n",
       "      <td>NaN</td>\n",
       "      <td>P</td>\n",
       "      <td>NaN</td>\n",
       "      <td>NaN</td>\n",
       "      <td>NaN</td>\n",
       "      <td>NaN</td>\n",
       "      <td>NaN</td>\n",
       "      <td>NaN</td>\n",
       "      <td>NaN</td>\n",
       "      <td>NaN</td>\n",
       "      <td>31</td>\n",
       "    </tr>\n",
       "    <tr>\n",
       "      <th>2</th>\n",
       "      <td>NaN</td>\n",
       "      <td>A1</td>\n",
       "      <td>1.0</td>\n",
       "      <td>35.61</td>\n",
       "      <td>11.87</td>\n",
       "      <td>-3.02</td>\n",
       "      <td>-109.17</td>\n",
       "      <td>-22.16</td>\n",
       "      <td>37.34</td>\n",
       "      <td>NaN</td>\n",
       "      <td>32</td>\n",
       "    </tr>\n",
       "    <tr>\n",
       "      <th>3</th>\n",
       "      <td>NaN</td>\n",
       "      <td>S1</td>\n",
       "      <td>1.0</td>\n",
       "      <td>35.68</td>\n",
       "      <td>11.88</td>\n",
       "      <td>-3.25</td>\n",
       "      <td>-107.99</td>\n",
       "      <td>-19.08</td>\n",
       "      <td>3.60</td>\n",
       "      <td>1.00</td>\n",
       "      <td>33</td>\n",
       "    </tr>\n",
       "    <tr>\n",
       "      <th>4</th>\n",
       "      <td>+</td>\n",
       "      <td>A2</td>\n",
       "      <td>2.0</td>\n",
       "      <td>35.55</td>\n",
       "      <td>11.81</td>\n",
       "      <td>-3.18</td>\n",
       "      <td>-114.32</td>\n",
       "      <td>-21.47</td>\n",
       "      <td>40.08</td>\n",
       "      <td>1.00</td>\n",
       "      <td>34</td>\n",
       "    </tr>\n",
       "    <tr>\n",
       "      <th>5</th>\n",
       "      <td>+</td>\n",
       "      <td>S1</td>\n",
       "      <td>1.0</td>\n",
       "      <td>35.43</td>\n",
       "      <td>11.70</td>\n",
       "      <td>-3.57</td>\n",
       "      <td>-132.42</td>\n",
       "      <td>-13.08</td>\n",
       "      <td>12.46</td>\n",
       "      <td>NaN</td>\n",
       "      <td>35</td>\n",
       "    </tr>\n",
       "    <tr>\n",
       "      <th>6</th>\n",
       "      <td>+</td>\n",
       "      <td>T1</td>\n",
       "      <td>1.0</td>\n",
       "      <td>35.07</td>\n",
       "      <td>13.73</td>\n",
       "      <td>-4.76</td>\n",
       "      <td>-130.40</td>\n",
       "      <td>-14.71</td>\n",
       "      <td>37.63</td>\n",
       "      <td>NaN</td>\n",
       "      <td>36</td>\n",
       "    </tr>\n",
       "    <tr>\n",
       "      <th>7</th>\n",
       "      <td>&lt;</td>\n",
       "      <td>U1</td>\n",
       "      <td>1.0</td>\n",
       "      <td>34.73</td>\n",
       "      <td>14.22</td>\n",
       "      <td>-4.50</td>\n",
       "      <td>-131.97</td>\n",
       "      <td>-15.11</td>\n",
       "      <td>39.37</td>\n",
       "      <td>0.60</td>\n",
       "      <td>37</td>\n",
       "    </tr>\n",
       "    <tr>\n",
       "      <th>8</th>\n",
       "      <td>&lt;</td>\n",
       "      <td>S2</td>\n",
       "      <td>2.0</td>\n",
       "      <td>35.43</td>\n",
       "      <td>11.43</td>\n",
       "      <td>-3.72</td>\n",
       "      <td>-116.04</td>\n",
       "      <td>-13.06</td>\n",
       "      <td>36.79</td>\n",
       "      <td>NaN</td>\n",
       "      <td>38</td>\n",
       "    </tr>\n",
       "    <tr>\n",
       "      <th>9</th>\n",
       "      <td>+</td>\n",
       "      <td>T1</td>\n",
       "      <td>1.0</td>\n",
       "      <td>34.72</td>\n",
       "      <td>8.77</td>\n",
       "      <td>-6.30</td>\n",
       "      <td>174.64</td>\n",
       "      <td>-11.17</td>\n",
       "      <td>90.45</td>\n",
       "      <td>NaN</td>\n",
       "      <td>39</td>\n",
       "    </tr>\n",
       "    <tr>\n",
       "      <th>10</th>\n",
       "      <td>&lt;</td>\n",
       "      <td>U1</td>\n",
       "      <td>1.0</td>\n",
       "      <td>34.76</td>\n",
       "      <td>8.01</td>\n",
       "      <td>-6.23</td>\n",
       "      <td>177.58</td>\n",
       "      <td>-11.37</td>\n",
       "      <td>90.97</td>\n",
       "      <td>0.90</td>\n",
       "      <td>40</td>\n",
       "    </tr>\n",
       "    <tr>\n",
       "      <th>11</th>\n",
       "      <td>&lt;</td>\n",
       "      <td>S3</td>\n",
       "      <td>3.0</td>\n",
       "      <td>34.90</td>\n",
       "      <td>11.30</td>\n",
       "      <td>-4.86</td>\n",
       "      <td>-123.92</td>\n",
       "      <td>-8.91</td>\n",
       "      <td>35.04</td>\n",
       "      <td>NaN</td>\n",
       "      <td>41</td>\n",
       "    </tr>\n",
       "    <tr>\n",
       "      <th>12</th>\n",
       "      <td>+</td>\n",
       "      <td>T1</td>\n",
       "      <td>1.0</td>\n",
       "      <td>32.04</td>\n",
       "      <td>12.44</td>\n",
       "      <td>-8.35</td>\n",
       "      <td>-106.23</td>\n",
       "      <td>-27.39</td>\n",
       "      <td>36.63</td>\n",
       "      <td>NaN</td>\n",
       "      <td>42</td>\n",
       "    </tr>\n",
       "    <tr>\n",
       "      <th>13</th>\n",
       "      <td>&lt;</td>\n",
       "      <td>U1</td>\n",
       "      <td>1.0</td>\n",
       "      <td>31.40</td>\n",
       "      <td>12.67</td>\n",
       "      <td>-8.00</td>\n",
       "      <td>-105.24</td>\n",
       "      <td>-7.13</td>\n",
       "      <td>37.38</td>\n",
       "      <td>0.60</td>\n",
       "      <td>43</td>\n",
       "    </tr>\n",
       "    <tr>\n",
       "      <th>14</th>\n",
       "      <td>&lt;</td>\n",
       "      <td>S4</td>\n",
       "      <td>4.0</td>\n",
       "      <td>35.03</td>\n",
       "      <td>11.01</td>\n",
       "      <td>-5.05</td>\n",
       "      <td>-106.86</td>\n",
       "      <td>-10.46</td>\n",
       "      <td>53.97</td>\n",
       "      <td>NaN</td>\n",
       "      <td>44</td>\n",
       "    </tr>\n",
       "    <tr>\n",
       "      <th>15</th>\n",
       "      <td>+</td>\n",
       "      <td>T1</td>\n",
       "      <td>1.0</td>\n",
       "      <td>35.58</td>\n",
       "      <td>9.39</td>\n",
       "      <td>-7.55</td>\n",
       "      <td>155.52</td>\n",
       "      <td>-29.05</td>\n",
       "      <td>104.57</td>\n",
       "      <td>NaN</td>\n",
       "      <td>45</td>\n",
       "    </tr>\n",
       "    <tr>\n",
       "      <th>16</th>\n",
       "      <td>&lt;</td>\n",
       "      <td>U1</td>\n",
       "      <td>1.0</td>\n",
       "      <td>36.59</td>\n",
       "      <td>8.53</td>\n",
       "      <td>-7.57</td>\n",
       "      <td>-162.84</td>\n",
       "      <td>-18.20</td>\n",
       "      <td>77.87</td>\n",
       "      <td>0.60</td>\n",
       "      <td>46</td>\n",
       "    </tr>\n",
       "    <tr>\n",
       "      <th>17</th>\n",
       "      <td>+</td>\n",
       "      <td>A3</td>\n",
       "      <td>3.0</td>\n",
       "      <td>35.78</td>\n",
       "      <td>11.87</td>\n",
       "      <td>-3.02</td>\n",
       "      <td>-97.41</td>\n",
       "      <td>-23.81</td>\n",
       "      <td>31.14</td>\n",
       "      <td>1.00</td>\n",
       "      <td>47</td>\n",
       "    </tr>\n",
       "    <tr>\n",
       "      <th>18</th>\n",
       "      <td>+</td>\n",
       "      <td>S1</td>\n",
       "      <td>1.0</td>\n",
       "      <td>36.19</td>\n",
       "      <td>11.70</td>\n",
       "      <td>-3.52</td>\n",
       "      <td>-90.52</td>\n",
       "      <td>-33.02</td>\n",
       "      <td>31.75</td>\n",
       "      <td>NaN</td>\n",
       "      <td>48</td>\n",
       "    </tr>\n",
       "    <tr>\n",
       "      <th>19</th>\n",
       "      <td>+</td>\n",
       "      <td>T1</td>\n",
       "      <td>1.0</td>\n",
       "      <td>37.97</td>\n",
       "      <td>9.47</td>\n",
       "      <td>-5.92</td>\n",
       "      <td>-172.95</td>\n",
       "      <td>-44.92</td>\n",
       "      <td>100.62</td>\n",
       "      <td>NaN</td>\n",
       "      <td>49</td>\n",
       "    </tr>\n",
       "    <tr>\n",
       "      <th>20</th>\n",
       "      <td>&lt;</td>\n",
       "      <td>U1</td>\n",
       "      <td>1.0</td>\n",
       "      <td>38.20</td>\n",
       "      <td>8.77</td>\n",
       "      <td>-6.13</td>\n",
       "      <td>-162.13</td>\n",
       "      <td>-1.98</td>\n",
       "      <td>84.78</td>\n",
       "      <td>0.90</td>\n",
       "      <td>50</td>\n",
       "    </tr>\n",
       "    <tr>\n",
       "      <th>21</th>\n",
       "      <td>&lt;</td>\n",
       "      <td>S2</td>\n",
       "      <td>2.0</td>\n",
       "      <td>36.95</td>\n",
       "      <td>11.95</td>\n",
       "      <td>-4.54</td>\n",
       "      <td>-84.22</td>\n",
       "      <td>-7.10</td>\n",
       "      <td>22.20</td>\n",
       "      <td>NaN</td>\n",
       "      <td>51</td>\n",
       "    </tr>\n",
       "    <tr>\n",
       "      <th>22</th>\n",
       "      <td>+</td>\n",
       "      <td>T1</td>\n",
       "      <td>1.0</td>\n",
       "      <td>39.15</td>\n",
       "      <td>13.49</td>\n",
       "      <td>-7.37</td>\n",
       "      <td>-130.96</td>\n",
       "      <td>-23.53</td>\n",
       "      <td>68.09</td>\n",
       "      <td>NaN</td>\n",
       "      <td>52</td>\n",
       "    </tr>\n",
       "    <tr>\n",
       "      <th>23</th>\n",
       "      <td>&lt;</td>\n",
       "      <td>U1</td>\n",
       "      <td>1.0</td>\n",
       "      <td>39.52</td>\n",
       "      <td>14.22</td>\n",
       "      <td>-7.54</td>\n",
       "      <td>-121.34</td>\n",
       "      <td>8.74</td>\n",
       "      <td>71.02</td>\n",
       "      <td>0.90</td>\n",
       "      <td>53</td>\n",
       "    </tr>\n",
       "    <tr>\n",
       "      <th>24</th>\n",
       "      <td>&lt;</td>\n",
       "      <td>S3</td>\n",
       "      <td>3.0</td>\n",
       "      <td>36.87</td>\n",
       "      <td>11.62</td>\n",
       "      <td>-4.47</td>\n",
       "      <td>-77.33</td>\n",
       "      <td>-16.39</td>\n",
       "      <td>38.61</td>\n",
       "      <td>NaN</td>\n",
       "      <td>54</td>\n",
       "    </tr>\n",
       "    <tr>\n",
       "      <th>25</th>\n",
       "      <td>+</td>\n",
       "      <td>T1</td>\n",
       "      <td>1.0</td>\n",
       "      <td>38.75</td>\n",
       "      <td>10.68</td>\n",
       "      <td>-6.73</td>\n",
       "      <td>-127.26</td>\n",
       "      <td>-9.29</td>\n",
       "      <td>70.89</td>\n",
       "      <td>NaN</td>\n",
       "      <td>55</td>\n",
       "    </tr>\n",
       "    <tr>\n",
       "      <th>26</th>\n",
       "      <td>&lt;</td>\n",
       "      <td>U1</td>\n",
       "      <td>1.0</td>\n",
       "      <td>39.24</td>\n",
       "      <td>9.80</td>\n",
       "      <td>-7.43</td>\n",
       "      <td>-129.85</td>\n",
       "      <td>-6.63</td>\n",
       "      <td>75.46</td>\n",
       "      <td>1.20</td>\n",
       "      <td>56</td>\n",
       "    </tr>\n",
       "    <tr>\n",
       "      <th>27</th>\n",
       "      <td>&lt;</td>\n",
       "      <td>S2</td>\n",
       "      <td>2.0</td>\n",
       "      <td>36.33</td>\n",
       "      <td>11.47</td>\n",
       "      <td>-5.59</td>\n",
       "      <td>-88.88</td>\n",
       "      <td>1.09</td>\n",
       "      <td>9.47</td>\n",
       "      <td>NaN</td>\n",
       "      <td>57</td>\n",
       "    </tr>\n",
       "    <tr>\n",
       "      <th>28</th>\n",
       "      <td>+</td>\n",
       "      <td>T1</td>\n",
       "      <td>1.0</td>\n",
       "      <td>38.06</td>\n",
       "      <td>14.44</td>\n",
       "      <td>-7.35</td>\n",
       "      <td>-132.23</td>\n",
       "      <td>-15.55</td>\n",
       "      <td>62.20</td>\n",
       "      <td>NaN</td>\n",
       "      <td>58</td>\n",
       "    </tr>\n",
       "    <tr>\n",
       "      <th>29</th>\n",
       "      <td>&lt;</td>\n",
       "      <td>U1</td>\n",
       "      <td>1.0</td>\n",
       "      <td>38.39</td>\n",
       "      <td>14.98</td>\n",
       "      <td>-6.69</td>\n",
       "      <td>-134.94</td>\n",
       "      <td>-5.86</td>\n",
       "      <td>78.25</td>\n",
       "      <td>1.15</td>\n",
       "      <td>59</td>\n",
       "    </tr>\n",
       "    <tr>\n",
       "      <th>30</th>\n",
       "      <td>&lt;</td>\n",
       "      <td>S3</td>\n",
       "      <td>3.0</td>\n",
       "      <td>36.57</td>\n",
       "      <td>10.56</td>\n",
       "      <td>-8.96</td>\n",
       "      <td>-101.48</td>\n",
       "      <td>-3.07</td>\n",
       "      <td>41.79</td>\n",
       "      <td>NaN</td>\n",
       "      <td>60</td>\n",
       "    </tr>\n",
       "    <tr>\n",
       "      <th>31</th>\n",
       "      <td>+</td>\n",
       "      <td>T1</td>\n",
       "      <td>1.0</td>\n",
       "      <td>35.48</td>\n",
       "      <td>8.09</td>\n",
       "      <td>-11.25</td>\n",
       "      <td>-151.42</td>\n",
       "      <td>-18.15</td>\n",
       "      <td>63.92</td>\n",
       "      <td>NaN</td>\n",
       "      <td>61</td>\n",
       "    </tr>\n",
       "    <tr>\n",
       "      <th>32</th>\n",
       "      <td>&lt;</td>\n",
       "      <td>U1</td>\n",
       "      <td>1.0</td>\n",
       "      <td>34.77</td>\n",
       "      <td>6.67</td>\n",
       "      <td>-11.19</td>\n",
       "      <td>-174.25</td>\n",
       "      <td>-33.67</td>\n",
       "      <td>74.42</td>\n",
       "      <td>1.30</td>\n",
       "      <td>62</td>\n",
       "    </tr>\n",
       "    <tr>\n",
       "      <th>33</th>\n",
       "      <td>&lt;</td>\n",
       "      <td>S4</td>\n",
       "      <td>4.0</td>\n",
       "      <td>37.15</td>\n",
       "      <td>10.01</td>\n",
       "      <td>-13.25</td>\n",
       "      <td>-97.74</td>\n",
       "      <td>16.80</td>\n",
       "      <td>78.01</td>\n",
       "      <td>NaN</td>\n",
       "      <td>63</td>\n",
       "    </tr>\n",
       "    <tr>\n",
       "      <th>34</th>\n",
       "      <td>+</td>\n",
       "      <td>T1</td>\n",
       "      <td>1.0</td>\n",
       "      <td>37.30</td>\n",
       "      <td>12.77</td>\n",
       "      <td>-14.88</td>\n",
       "      <td>-129.92</td>\n",
       "      <td>-33.12</td>\n",
       "      <td>72.00</td>\n",
       "      <td>NaN</td>\n",
       "      <td>64</td>\n",
       "    </tr>\n",
       "    <tr>\n",
       "      <th>35</th>\n",
       "      <td>&lt;</td>\n",
       "      <td>U1</td>\n",
       "      <td>1.0</td>\n",
       "      <td>37.41</td>\n",
       "      <td>14.58</td>\n",
       "      <td>-14.55</td>\n",
       "      <td>-115.02</td>\n",
       "      <td>-4.33</td>\n",
       "      <td>72.35</td>\n",
       "      <td>1.25</td>\n",
       "      <td>65</td>\n",
       "    </tr>\n",
       "    <tr>\n",
       "      <th>36</th>\n",
       "      <td>&lt;</td>\n",
       "      <td>S5</td>\n",
       "      <td>5.0</td>\n",
       "      <td>37.40</td>\n",
       "      <td>9.29</td>\n",
       "      <td>-16.81</td>\n",
       "      <td>-146.95</td>\n",
       "      <td>29.80</td>\n",
       "      <td>81.70</td>\n",
       "      <td>NaN</td>\n",
       "      <td>66</td>\n",
       "    </tr>\n",
       "    <tr>\n",
       "      <th>37</th>\n",
       "      <td>+</td>\n",
       "      <td>T1</td>\n",
       "      <td>1.0</td>\n",
       "      <td>38.80</td>\n",
       "      <td>7.35</td>\n",
       "      <td>-18.45</td>\n",
       "      <td>-124.60</td>\n",
       "      <td>-14.90</td>\n",
       "      <td>46.78</td>\n",
       "      <td>NaN</td>\n",
       "      <td>67</td>\n",
       "    </tr>\n",
       "    <tr>\n",
       "      <th>38</th>\n",
       "      <td>&lt;</td>\n",
       "      <td>U1</td>\n",
       "      <td>1.0</td>\n",
       "      <td>40.18</td>\n",
       "      <td>5.69</td>\n",
       "      <td>-18.17</td>\n",
       "      <td>-151.11</td>\n",
       "      <td>-10.44</td>\n",
       "      <td>63.20</td>\n",
       "      <td>1.50</td>\n",
       "      <td>68</td>\n",
       "    </tr>\n",
       "    <tr>\n",
       "      <th>39</th>\n",
       "      <td>&lt;</td>\n",
       "      <td>S6</td>\n",
       "      <td>6.0</td>\n",
       "      <td>37.20</td>\n",
       "      <td>9.28</td>\n",
       "      <td>-19.87</td>\n",
       "      <td>-151.64</td>\n",
       "      <td>16.97</td>\n",
       "      <td>74.10</td>\n",
       "      <td>NaN</td>\n",
       "      <td>69</td>\n",
       "    </tr>\n",
       "    <tr>\n",
       "      <th>40</th>\n",
       "      <td>+</td>\n",
       "      <td>T1</td>\n",
       "      <td>1.0</td>\n",
       "      <td>36.06</td>\n",
       "      <td>10.96</td>\n",
       "      <td>-22.03</td>\n",
       "      <td>-146.51</td>\n",
       "      <td>-4.47</td>\n",
       "      <td>55.05</td>\n",
       "      <td>NaN</td>\n",
       "      <td>70</td>\n",
       "    </tr>\n",
       "    <tr>\n",
       "      <th>41</th>\n",
       "      <td>&lt;</td>\n",
       "      <td>U1</td>\n",
       "      <td>1.0</td>\n",
       "      <td>34.57</td>\n",
       "      <td>13.11</td>\n",
       "      <td>-21.87</td>\n",
       "      <td>-140.44</td>\n",
       "      <td>-2.30</td>\n",
       "      <td>48.03</td>\n",
       "      <td>1.60</td>\n",
       "      <td>71</td>\n",
       "    </tr>\n",
       "    <tr>\n",
       "      <th>42</th>\n",
       "      <td>&lt;</td>\n",
       "      <td>S7</td>\n",
       "      <td>7.0</td>\n",
       "      <td>37.61</td>\n",
       "      <td>9.04</td>\n",
       "      <td>-23.17</td>\n",
       "      <td>-137.39</td>\n",
       "      <td>8.68</td>\n",
       "      <td>42.95</td>\n",
       "      <td>NaN</td>\n",
       "      <td>72</td>\n",
       "    </tr>\n",
       "    <tr>\n",
       "      <th>43</th>\n",
       "      <td>+</td>\n",
       "      <td>T1</td>\n",
       "      <td>1.0</td>\n",
       "      <td>39.75</td>\n",
       "      <td>8.47</td>\n",
       "      <td>-25.17</td>\n",
       "      <td>-103.02</td>\n",
       "      <td>-31.56</td>\n",
       "      <td>20.63</td>\n",
       "      <td>NaN</td>\n",
       "      <td>73</td>\n",
       "    </tr>\n",
       "    <tr>\n",
       "      <th>44</th>\n",
       "      <td>&lt;</td>\n",
       "      <td>U1</td>\n",
       "      <td>1.0</td>\n",
       "      <td>41.86</td>\n",
       "      <td>8.13</td>\n",
       "      <td>-24.27</td>\n",
       "      <td>-112.93</td>\n",
       "      <td>-17.03</td>\n",
       "      <td>29.20</td>\n",
       "      <td>1.50</td>\n",
       "      <td>74</td>\n",
       "    </tr>\n",
       "    <tr>\n",
       "      <th>45</th>\n",
       "      <td>&lt;</td>\n",
       "      <td>S8</td>\n",
       "      <td>8.0</td>\n",
       "      <td>37.88</td>\n",
       "      <td>9.79</td>\n",
       "      <td>-26.75</td>\n",
       "      <td>-129.76</td>\n",
       "      <td>23.12</td>\n",
       "      <td>51.66</td>\n",
       "      <td>NaN</td>\n",
       "      <td>75</td>\n",
       "    </tr>\n",
       "    <tr>\n",
       "      <th>46</th>\n",
       "      <td>+</td>\n",
       "      <td>T1</td>\n",
       "      <td>1.0</td>\n",
       "      <td>36.28</td>\n",
       "      <td>10.34</td>\n",
       "      <td>-29.05</td>\n",
       "      <td>-135.36</td>\n",
       "      <td>11.94</td>\n",
       "      <td>60.43</td>\n",
       "      <td>NaN</td>\n",
       "      <td>76</td>\n",
       "    </tr>\n",
       "    <tr>\n",
       "      <th>47</th>\n",
       "      <td>&lt;</td>\n",
       "      <td>U1</td>\n",
       "      <td>1.0</td>\n",
       "      <td>33.69</td>\n",
       "      <td>11.04</td>\n",
       "      <td>-28.73</td>\n",
       "      <td>-96.27</td>\n",
       "      <td>10.37</td>\n",
       "      <td>21.97</td>\n",
       "      <td>1.50</td>\n",
       "      <td>77</td>\n",
       "    </tr>\n",
       "    <tr>\n",
       "      <th>48</th>\n",
       "      <td>&lt;</td>\n",
       "      <td>S9</td>\n",
       "      <td>9.0</td>\n",
       "      <td>38.37</td>\n",
       "      <td>10.05</td>\n",
       "      <td>-28.66</td>\n",
       "      <td>-115.90</td>\n",
       "      <td>26.23</td>\n",
       "      <td>60.29</td>\n",
       "      <td>NaN</td>\n",
       "      <td>78</td>\n",
       "    </tr>\n",
       "    <tr>\n",
       "      <th>49</th>\n",
       "      <td>+</td>\n",
       "      <td>T1</td>\n",
       "      <td>1.0</td>\n",
       "      <td>40.97</td>\n",
       "      <td>10.01</td>\n",
       "      <td>-29.59</td>\n",
       "      <td>-115.32</td>\n",
       "      <td>-3.64</td>\n",
       "      <td>48.09</td>\n",
       "      <td>NaN</td>\n",
       "      <td>79</td>\n",
       "    </tr>\n",
       "    <tr>\n",
       "      <th>50</th>\n",
       "      <td>&lt;</td>\n",
       "      <td>U1</td>\n",
       "      <td>1.0</td>\n",
       "      <td>43.19</td>\n",
       "      <td>10.82</td>\n",
       "      <td>-27.34</td>\n",
       "      <td>-134.70</td>\n",
       "      <td>6.76</td>\n",
       "      <td>61.15</td>\n",
       "      <td>1.50</td>\n",
       "      <td>80</td>\n",
       "    </tr>\n",
       "    <tr>\n",
       "      <th>51</th>\n",
       "      <td>&lt;</td>\n",
       "      <td>S10</td>\n",
       "      <td>10.0</td>\n",
       "      <td>38.66</td>\n",
       "      <td>10.37</td>\n",
       "      <td>-29.59</td>\n",
       "      <td>-125.22</td>\n",
       "      <td>19.91</td>\n",
       "      <td>55.29</td>\n",
       "      <td>NaN</td>\n",
       "      <td>81</td>\n",
       "    </tr>\n",
       "    <tr>\n",
       "      <th>52</th>\n",
       "      <td>+</td>\n",
       "      <td>T1</td>\n",
       "      <td>1.0</td>\n",
       "      <td>36.84</td>\n",
       "      <td>11.26</td>\n",
       "      <td>-31.45</td>\n",
       "      <td>-117.95</td>\n",
       "      <td>-17.71</td>\n",
       "      <td>32.22</td>\n",
       "      <td>NaN</td>\n",
       "      <td>82</td>\n",
       "    </tr>\n",
       "    <tr>\n",
       "      <th>53</th>\n",
       "      <td>&lt;</td>\n",
       "      <td>U1</td>\n",
       "      <td>1.0</td>\n",
       "      <td>34.42</td>\n",
       "      <td>12.65</td>\n",
       "      <td>-30.56</td>\n",
       "      <td>-124.53</td>\n",
       "      <td>8.53</td>\n",
       "      <td>35.49</td>\n",
       "      <td>1.45</td>\n",
       "      <td>83</td>\n",
       "    </tr>\n",
       "    <tr>\n",
       "      <th>54</th>\n",
       "      <td>&lt;</td>\n",
       "      <td>S11</td>\n",
       "      <td>11.0</td>\n",
       "      <td>39.11</td>\n",
       "      <td>11.15</td>\n",
       "      <td>-30.35</td>\n",
       "      <td>-114.72</td>\n",
       "      <td>16.17</td>\n",
       "      <td>28.24</td>\n",
       "      <td>NaN</td>\n",
       "      <td>84</td>\n",
       "    </tr>\n",
       "    <tr>\n",
       "      <th>55</th>\n",
       "      <td>+</td>\n",
       "      <td>T1</td>\n",
       "      <td>1.0</td>\n",
       "      <td>40.03</td>\n",
       "      <td>10.88</td>\n",
       "      <td>-30.89</td>\n",
       "      <td>-120.45</td>\n",
       "      <td>-17.86</td>\n",
       "      <td>29.31</td>\n",
       "      <td>NaN</td>\n",
       "      <td>85</td>\n",
       "    </tr>\n",
       "    <tr>\n",
       "      <th>56</th>\n",
       "      <td>&lt;</td>\n",
       "      <td>U1</td>\n",
       "      <td>1.0</td>\n",
       "      <td>42.42</td>\n",
       "      <td>10.41</td>\n",
       "      <td>-29.07</td>\n",
       "      <td>-126.70</td>\n",
       "      <td>-8.13</td>\n",
       "      <td>32.44</td>\n",
       "      <td>1.40</td>\n",
       "      <td>86</td>\n",
       "    </tr>\n",
       "  </tbody>\n",
       "</table>\n",
       "</div>"
      ],
      "text/plain": [
       "   edge_type label  index     XX     YY     ZZ      AA     BB      CC  \\\n",
       "1        NaN     P    NaN    NaN    NaN    NaN     NaN    NaN     NaN   \n",
       "2        NaN    A1    1.0  35.61  11.87  -3.02 -109.17 -22.16   37.34   \n",
       "3        NaN    S1    1.0  35.68  11.88  -3.25 -107.99 -19.08    3.60   \n",
       "4          +    A2    2.0  35.55  11.81  -3.18 -114.32 -21.47   40.08   \n",
       "5          +    S1    1.0  35.43  11.70  -3.57 -132.42 -13.08   12.46   \n",
       "6          +    T1    1.0  35.07  13.73  -4.76 -130.40 -14.71   37.63   \n",
       "7          <    U1    1.0  34.73  14.22  -4.50 -131.97 -15.11   39.37   \n",
       "8          <    S2    2.0  35.43  11.43  -3.72 -116.04 -13.06   36.79   \n",
       "9          +    T1    1.0  34.72   8.77  -6.30  174.64 -11.17   90.45   \n",
       "10         <    U1    1.0  34.76   8.01  -6.23  177.58 -11.37   90.97   \n",
       "11         <    S3    3.0  34.90  11.30  -4.86 -123.92  -8.91   35.04   \n",
       "12         +    T1    1.0  32.04  12.44  -8.35 -106.23 -27.39   36.63   \n",
       "13         <    U1    1.0  31.40  12.67  -8.00 -105.24  -7.13   37.38   \n",
       "14         <    S4    4.0  35.03  11.01  -5.05 -106.86 -10.46   53.97   \n",
       "15         +    T1    1.0  35.58   9.39  -7.55  155.52 -29.05  104.57   \n",
       "16         <    U1    1.0  36.59   8.53  -7.57 -162.84 -18.20   77.87   \n",
       "17         +    A3    3.0  35.78  11.87  -3.02  -97.41 -23.81   31.14   \n",
       "18         +    S1    1.0  36.19  11.70  -3.52  -90.52 -33.02   31.75   \n",
       "19         +    T1    1.0  37.97   9.47  -5.92 -172.95 -44.92  100.62   \n",
       "20         <    U1    1.0  38.20   8.77  -6.13 -162.13  -1.98   84.78   \n",
       "21         <    S2    2.0  36.95  11.95  -4.54  -84.22  -7.10   22.20   \n",
       "22         +    T1    1.0  39.15  13.49  -7.37 -130.96 -23.53   68.09   \n",
       "23         <    U1    1.0  39.52  14.22  -7.54 -121.34   8.74   71.02   \n",
       "24         <    S3    3.0  36.87  11.62  -4.47  -77.33 -16.39   38.61   \n",
       "25         +    T1    1.0  38.75  10.68  -6.73 -127.26  -9.29   70.89   \n",
       "26         <    U1    1.0  39.24   9.80  -7.43 -129.85  -6.63   75.46   \n",
       "27         <    S2    2.0  36.33  11.47  -5.59  -88.88   1.09    9.47   \n",
       "28         +    T1    1.0  38.06  14.44  -7.35 -132.23 -15.55   62.20   \n",
       "29         <    U1    1.0  38.39  14.98  -6.69 -134.94  -5.86   78.25   \n",
       "30         <    S3    3.0  36.57  10.56  -8.96 -101.48  -3.07   41.79   \n",
       "31         +    T1    1.0  35.48   8.09 -11.25 -151.42 -18.15   63.92   \n",
       "32         <    U1    1.0  34.77   6.67 -11.19 -174.25 -33.67   74.42   \n",
       "33         <    S4    4.0  37.15  10.01 -13.25  -97.74  16.80   78.01   \n",
       "34         +    T1    1.0  37.30  12.77 -14.88 -129.92 -33.12   72.00   \n",
       "35         <    U1    1.0  37.41  14.58 -14.55 -115.02  -4.33   72.35   \n",
       "36         <    S5    5.0  37.40   9.29 -16.81 -146.95  29.80   81.70   \n",
       "37         +    T1    1.0  38.80   7.35 -18.45 -124.60 -14.90   46.78   \n",
       "38         <    U1    1.0  40.18   5.69 -18.17 -151.11 -10.44   63.20   \n",
       "39         <    S6    6.0  37.20   9.28 -19.87 -151.64  16.97   74.10   \n",
       "40         +    T1    1.0  36.06  10.96 -22.03 -146.51  -4.47   55.05   \n",
       "41         <    U1    1.0  34.57  13.11 -21.87 -140.44  -2.30   48.03   \n",
       "42         <    S7    7.0  37.61   9.04 -23.17 -137.39   8.68   42.95   \n",
       "43         +    T1    1.0  39.75   8.47 -25.17 -103.02 -31.56   20.63   \n",
       "44         <    U1    1.0  41.86   8.13 -24.27 -112.93 -17.03   29.20   \n",
       "45         <    S8    8.0  37.88   9.79 -26.75 -129.76  23.12   51.66   \n",
       "46         +    T1    1.0  36.28  10.34 -29.05 -135.36  11.94   60.43   \n",
       "47         <    U1    1.0  33.69  11.04 -28.73  -96.27  10.37   21.97   \n",
       "48         <    S9    9.0  38.37  10.05 -28.66 -115.90  26.23   60.29   \n",
       "49         +    T1    1.0  40.97  10.01 -29.59 -115.32  -3.64   48.09   \n",
       "50         <    U1    1.0  43.19  10.82 -27.34 -134.70   6.76   61.15   \n",
       "51         <   S10   10.0  38.66  10.37 -29.59 -125.22  19.91   55.29   \n",
       "52         +    T1    1.0  36.84  11.26 -31.45 -117.95 -17.71   32.22   \n",
       "53         <    U1    1.0  34.42  12.65 -30.56 -124.53   8.53   35.49   \n",
       "54         <   S11   11.0  39.11  11.15 -30.35 -114.72  16.17   28.24   \n",
       "55         +    T1    1.0  40.03  10.88 -30.89 -120.45 -17.86   29.31   \n",
       "56         <    U1    1.0  42.42  10.41 -29.07 -126.70  -8.13   32.44   \n",
       "\n",
       "    Flargeur  _line  \n",
       "1        NaN     31  \n",
       "2        NaN     32  \n",
       "3       1.00     33  \n",
       "4       1.00     34  \n",
       "5        NaN     35  \n",
       "6        NaN     36  \n",
       "7       0.60     37  \n",
       "8        NaN     38  \n",
       "9        NaN     39  \n",
       "10      0.90     40  \n",
       "11       NaN     41  \n",
       "12       NaN     42  \n",
       "13      0.60     43  \n",
       "14       NaN     44  \n",
       "15       NaN     45  \n",
       "16      0.60     46  \n",
       "17      1.00     47  \n",
       "18       NaN     48  \n",
       "19       NaN     49  \n",
       "20      0.90     50  \n",
       "21       NaN     51  \n",
       "22       NaN     52  \n",
       "23      0.90     53  \n",
       "24       NaN     54  \n",
       "25       NaN     55  \n",
       "26      1.20     56  \n",
       "27       NaN     57  \n",
       "28       NaN     58  \n",
       "29      1.15     59  \n",
       "30       NaN     60  \n",
       "31       NaN     61  \n",
       "32      1.30     62  \n",
       "33       NaN     63  \n",
       "34       NaN     64  \n",
       "35      1.25     65  \n",
       "36       NaN     66  \n",
       "37       NaN     67  \n",
       "38      1.50     68  \n",
       "39       NaN     69  \n",
       "40       NaN     70  \n",
       "41      1.60     71  \n",
       "42       NaN     72  \n",
       "43       NaN     73  \n",
       "44      1.50     74  \n",
       "45       NaN     75  \n",
       "46       NaN     76  \n",
       "47      1.50     77  \n",
       "48       NaN     78  \n",
       "49       NaN     79  \n",
       "50      1.50     80  \n",
       "51       NaN     81  \n",
       "52       NaN     82  \n",
       "53      1.45     83  \n",
       "54       NaN     84  \n",
       "55       NaN     85  \n",
       "56      1.40     86  "
      ]
     },
     "execution_count": 3,
     "metadata": {},
     "output_type": "execute_result"
    }
   ],
   "source": [
    "pd.DataFrame(g.properties()).sort_index()"
   ]
  },
  {
   "cell_type": "markdown",
   "metadata": {},
   "source": [
    "### Cas d'une graminée : La fétuque"
   ]
  },
  {
   "cell_type": "markdown",
   "metadata": {},
   "source": [
    "Sur le MTG suivant:\n",
    "* Donnez le nombre de talles (axe)\n",
    "* Donnez le nombre de phytomères sur l'axe 2"
   ]
  },
  {
   "cell_type": "code",
   "execution_count": null,
   "metadata": {
    "ExecuteTime": {
     "end_time": "2024-11-20T09:51:11.748279Z",
     "start_time": "2024-11-20T09:51:11.735029Z"
    },
    "scrolled": true
   },
   "outputs": [],
   "source": [
    "g = MTG(Path('MTG/Fet-LD-F2.mtg'))\n",
    "g.display()"
   ]
  },
  {
   "cell_type": "markdown",
   "metadata": {},
   "source": [
    "## Reconstruction numérique 3D des plantes via Lsystems"
   ]
  },
  {
   "cell_type": "markdown",
   "metadata": {},
   "source": [
    "### Rappel des principes du Lsystem"
   ]
  },
  {
   "cell_type": "markdown",
   "metadata": {},
   "source": [
    "### Exercices sur les Lsystems"
   ]
  },
  {
   "cell_type": "markdown",
   "metadata": {},
   "source": [
    "**Exercice 1 : (utilisation de Lpy)**\n",
    "\n",
    "Les six premières itérations d’un L-system déterministe insensible au contexte produisent les chaînes de caractères suivantes :\n",
    "\n",
    "L<p/>\n",
    "CL<p/>\n",
    "LCL<p/>\n",
    "CLLCL<p/>\n",
    "LCLCLLCL<p/>\n",
    "CLLCLLCLCLLCL<p/>\n",
    "\n",
    "* Renseignez les modules de ce L-system\n",
    "* Quels sont les règles de productions et l’axiome de ce L-system ?\n"
   ]
  },
  {
   "cell_type": "code",
   "execution_count": null,
   "metadata": {
    "ExecuteTime": {
     "end_time": "2024-11-20T09:51:18.770907Z",
     "start_time": "2024-11-20T09:51:18.742568Z"
    }
   },
   "outputs": [],
   "source": [
    "%%lpy -a True   \n",
    "\n",
    "module ?\n",
    "module ?\n",
    "\n",
    "def StartEach(lstring):\n",
    "    print (lstring)\n",
    "\n",
    "\n",
    "axiom: ?\n",
    "\n",
    "derivation length: ?\n",
    "\n",
    "production:\n",
    "? --> ?\n"
   ]
  },
  {
   "cell_type": "markdown",
   "metadata": {},
   "source": [
    "**Exercice 2 :**\n",
    "\n",
    "Représenter la production d'entrenoeuds par un apex\n",
    "\n",
    "1. Définir le nom du module de l'apex et de l'entrenoeud\n",
    "2. Définir l'axiome comme un apex seul\n",
    "3. Ecrire la règle de production d'un entrenoeud à partir de l'apex\n",
    "4. Appliquer une règle d'interprétation pour représenter les entrenoeuds avec des cylindres et les apex avec des spheres\n",
    "5. Produire 5 entrenoeuds au niveau de l'apex\n",
    "6. Tester des régles d'orientation des organes et de dimensions d'organes.\n",
    "\n",
    "\n",
    "Tips:\n",
    "* la règle de production d'un module s'écrit:\n",
    "```\n",
    "modulename --> modulename1 modulename2 [...] modulenamei\n",
    "```\n",
    "* la règle d'interprétation d'un module s'écrit:\n",
    "```\n",
    "modulename --> regle_orientation(param) forme_geometrique1(param)\n",
    "```\n",
    "* Quelques exemples de formes géométriques:\n",
    "```\n",
    "F : cylindre généralisé. Params: 'length , topradius'.\n",
    "@O : sphère. Params: 'radius'.\n",
    "@o : cercle. Params: 'radius'.\n",
    "@b : rectangle. Params : 'length','topradius'.\n",
    "```\n",
    "* Quelques exemples de règles d'orientation:\n",
    "\n",
    "```\n",
    "+ : Turn left around Up vector. Params : 'angle' (optional, in degrees).\n",
    "- : Turn right around Up vector. Params : 'angle' (optional, in degrees).\n",
    "^ : Pitch up around Left vector. Params : 'angle' (optional, in degrees).\n",
    "& : Pitch down around Left vector. Params : 'angle' (optional, in degrees).\n",
    "/ : Roll left around Heading vector. Params : 'angle' (optional, in degrees).\n",
    "\\ : Roll right around Heading vector. Params : 'angle' (optional, in degrees).\n",
    "```\n",
    "\n",
    "* Changer la couleur des formes géométriques:\n",
    "\n",
    "```\n",
    "SetColor(param). Params : un chiffre compris entre 1 et 6\n",
    "A placer devant le module géométrique dans la règle d'interprétation\n",
    "```"
   ]
  },
  {
   "cell_type": "code",
   "execution_count": null,
   "metadata": {},
   "outputs": [],
   "source": [
    "%%lpy -a True -w 10\n",
    "\n",
    "module ?\n",
    "\n",
    "\n",
    "def StartEach(lstring):\n",
    "    print (lstring)\n",
    "\n",
    "    \n",
    "axiom: ?\n",
    "\n",
    "derivation length: ?\n",
    "       \n",
    "production:\n",
    "?--> ?\n",
    "\n",
    "interpretation:\n",
    "?--> ?\n"
   ]
  },
  {
   "cell_type": "markdown",
   "metadata": {},
   "source": [
    "**Exercice 3 :**\n",
    "\n",
    "1. Analyser la syntaxe permettant de gérer la ramification\n",
    "2. Où se situe l'apex?\n",
    "3. Creer des ramifications secondaires"
   ]
  },
  {
   "cell_type": "code",
   "execution_count": null,
   "metadata": {},
   "outputs": [],
   "source": [
    "%%lpy -a True -w 10\n",
    "\n",
    "module A\n",
    "module I\n",
    "\n",
    "\n",
    "def StartEach(lstring):\n",
    "    print (lstring)\n",
    "\n",
    "    \n",
    "axiom : A\n",
    "\n",
    "derivation length: 5\n",
    "\n",
    "production:\n",
    "A --> I [-I] [+I] A\n",
    "\n",
    "interpretation:\n",
    "A --> SetColor(3) @O(.2)\n",
    "I --> SetColor(2) F"
   ]
  },
  {
   "cell_type": "markdown",
   "metadata": {},
   "source": [
    "### Exemple de la luzerne"
   ]
  },
  {
   "cell_type": "markdown",
   "metadata": {},
   "source": [
    "Charger le Lsystem de luzerne ci-dessous"
   ]
  },
  {
   "cell_type": "code",
   "execution_count": 4,
   "metadata": {
    "ExecuteTime": {
     "end_time": "2024-11-20T10:03:50.026253Z",
     "start_time": "2024-11-20T10:03:49.515111Z"
    }
   },
   "outputs": [],
   "source": [
    "lsys = LsystemWidget('TD_lsystem_Luzerne.lpy', unit='cm',size_world=.4)"
   ]
  },
  {
   "cell_type": "markdown",
   "metadata": {},
   "source": [
    "#### Structure de la chaine Lsystem\n",
    "\n",
    "Observer la structure d'une chaine Lsystem complexe"
   ]
  },
  {
   "cell_type": "code",
   "execution_count": 5,
   "metadata": {
    "ExecuteTime": {
     "start_time": "2024-11-20T09:54:42.313Z"
    }
   },
   "outputs": [
    {
     "data": {
      "text/plain": [
       "AxialTree()"
      ]
     },
     "execution_count": 5,
     "metadata": {},
     "output_type": "execute_result"
    }
   ],
   "source": [
    "lsys.get_lstring()"
   ]
  },
  {
   "cell_type": "markdown",
   "metadata": {},
   "source": [
    "#### Variation de l'architecture  numérique de la luzerne"
   ]
  },
  {
   "cell_type": "code",
   "execution_count": 6,
   "metadata": {
    "ExecuteTime": {
     "end_time": "2024-11-20T10:03:52.051618Z",
     "start_time": "2024-11-20T10:03:52.044345Z"
    }
   },
   "outputs": [
    {
     "data": {
      "application/vnd.jupyter.widget-view+json": {
       "model_id": "d3b11ff270714ef4833861052ffb2180",
       "version_major": 2,
       "version_minor": 0
      },
      "text/plain": [
       "LsystemWidget(derivationLength=1, derivationNumber=None, scene={'data': b'x\\xda\\xed\\x9dy|\\x0c\\xf7\\xff\\xc7w\\xc5…"
      ]
     },
     "execution_count": 6,
     "metadata": {},
     "output_type": "execute_result"
    }
   ],
   "source": [
    "lsys"
   ]
  },
  {
   "cell_type": "code",
   "execution_count": 7,
   "metadata": {
    "ExecuteTime": {
     "end_time": "2024-11-20T10:03:54.988298Z",
     "start_time": "2024-11-20T10:03:54.915452Z"
    }
   },
   "outputs": [
    {
     "data": {
      "application/vnd.jupyter.widget-view+json": {
       "model_id": "ff725b9b613941abb883af656ecc0a43",
       "version_major": 2,
       "version_minor": 0
      },
      "text/plain": [
       "ParameterEditor(children=(VBox(children=(HBox(children=(HBox(children=(Button(description='Apply changes', sty…"
      ]
     },
     "execution_count": 7,
     "metadata": {},
     "output_type": "execute_result"
    }
   ],
   "source": [
    "lsys.editor"
   ]
  },
  {
   "cell_type": "markdown",
   "metadata": {},
   "source": [
    "### Exemple de la fétuque"
   ]
  },
  {
   "cell_type": "code",
   "execution_count": 8,
   "metadata": {
    "ExecuteTime": {
     "end_time": "2024-11-20T10:03:56.827228Z",
     "start_time": "2024-11-20T10:03:56.514615Z"
    }
   },
   "outputs": [
    {
     "data": {
      "application/vnd.jupyter.widget-view+json": {
       "model_id": "63b6c7e2e5d845f79a410e2a547e81f1",
       "version_major": 2,
       "version_minor": 0
      },
      "text/plain": [
       "LsystemWidget(derivationLength=2, derivationNumber=None, scene={'data': b'x\\xda\\xb5[\\x07XTW\\xf6\\x1fD\\xa2bM\\x82…"
      ]
     },
     "execution_count": 8,
     "metadata": {},
     "output_type": "execute_result"
    }
   ],
   "source": [
    "lsys = LsystemWidget('TD_lsystem_Fetuque.lpy', unit='cm', size_world=.4)\n",
    "lsys"
   ]
  },
  {
   "cell_type": "markdown",
   "metadata": {},
   "source": [
    "## Applications: simulation du rayonnement intercepté dans une association"
   ]
  },
  {
   "cell_type": "markdown",
   "metadata": {},
   "source": [
    "### Introduction modèles de rayonnement"
   ]
  },
  {
   "cell_type": "markdown",
   "metadata": {},
   "source": [
    "![Some insights on light modelling](slides/modelesRT.png)"
   ]
  },
  {
   "cell_type": "markdown",
   "metadata": {},
   "source": [
    "### Effet de la direction du soleil sur le rayonnement intercepté"
   ]
  },
  {
   "cell_type": "markdown",
   "metadata": {},
   "source": [
    "Comment varie l'interception de la lumière avec la position du soleil?\n"
   ]
  },
  {
   "cell_type": "code",
   "execution_count": 9,
   "metadata": {
    "ExecuteTime": {
     "end_time": "2024-11-20T10:04:00.958474Z",
     "start_time": "2024-11-20T10:04:00.202691Z"
    }
   },
   "outputs": [
    {
     "data": {
      "application/vnd.jupyter.widget-view+json": {
       "model_id": "9de1800afe14440fb46051e1bea8088c",
       "version_major": 2,
       "version_minor": 0
      },
      "text/plain": [
       "interactive(children=(IntSlider(value=12, description='hour', max=18, min=6), Output()), _dom_classes=('widget…"
      ]
     },
     "metadata": {},
     "output_type": "display_data"
    }
   ],
   "source": [
    "%matplotlib notebook\n",
    "interact(TD_libs.Light_model, lsys=fixed(lsys), hour=(6, 18, 1));"
   ]
  },
  {
   "cell_type": "markdown",
   "metadata": {},
   "source": [
    "### Partage du rayonnement intercepté dans une association"
   ]
  },
  {
   "cell_type": "markdown",
   "metadata": {},
   "source": [
    "Comment varie le partage du de la lumière avec la position des plantes?"
   ]
  },
  {
   "cell_type": "code",
   "execution_count": 10,
   "metadata": {
    "ExecuteTime": {
     "end_time": "2024-11-20T10:04:30.754002Z",
     "start_time": "2024-11-20T10:04:25.007273Z"
    }
   },
   "outputs": [
    {
     "data": {
      "application/vnd.jupyter.widget-view+json": {
       "model_id": "ca79aacfebd34d9e8c28fa12c97640f3",
       "version_major": 2,
       "version_minor": 0
      },
      "text/plain": [
       "interactive(children=(IntSlider(value=0, description='distance', max=60, step=15), IntSlider(value=1, descript…"
      ]
     },
     "metadata": {},
     "output_type": "display_data"
    }
   ],
   "source": [
    "%matplotlib notebook\n",
    "# # Makes Lsystem for association\n",
    "interact(TD_libs.Run_Asso, distance=(0,60,15));"
   ]
  },
  {
   "cell_type": "code",
   "execution_count": null,
   "metadata": {},
   "outputs": [],
   "source": []
  }
 ],
 "metadata": {
  "celltoolbar": "Raw Cell Format",
  "kernelspec": {
   "display_name": "Python 3 (ipykernel)",
   "language": "python",
   "name": "python3"
  },
  "language_info": {
   "codemirror_mode": {
    "name": "ipython",
    "version": 3
   },
   "file_extension": ".py",
   "mimetype": "text/x-python",
   "name": "python",
   "nbconvert_exporter": "python",
   "pygments_lexer": "ipython3",
   "version": "3.10.14"
  },
  "widgets": {
   "application/vnd.jupyter.widget-state+json": {
    "state": {
     "03a7562f297448ca8b9266d1df510c36": {
      "model_module": "@jupyter-widgets/base",
      "model_module_version": "2.0.0",
      "model_name": "LayoutModel",
      "state": {}
     },
     "03ed1864ac554f67a22d77ef39aea5be": {
      "model_module": "@jupyter-widgets/controls",
      "model_module_version": "2.0.0",
      "model_name": "BoundedFloatTextModel",
      "state": {
       "description": "step",
       "layout": "IPY_MODEL_bf33bf810cf94577b120f07df5737723",
       "max": 1,
       "min": 0.01,
       "step": 0.01,
       "style": "IPY_MODEL_d437411a8ef649bfadc86c7ea7d719d2",
       "value": 0.01
      }
     },
     "03f8ef5bc0c24197be3693f99909a584": {
      "model_module": "@jupyter-widgets/controls",
      "model_module_version": "2.0.0",
      "model_name": "ButtonStyleModel",
      "state": {
       "font_family": null,
       "font_size": null,
       "font_style": null,
       "font_variant": null,
       "font_weight": null,
       "text_color": null,
       "text_decoration": null
      }
     },
     "05cf330844f34e9eb19fdd77e81fd842": {
      "model_module": "@jupyter-widgets/controls",
      "model_module_version": "2.0.0",
      "model_name": "BoundedIntTextModel",
      "state": {
       "description": "index",
       "layout": "IPY_MODEL_748dba79d8b944c3b0d05e3b1d4f4e02",
       "style": "IPY_MODEL_c791c50bcda840ffb815bf40ddb0b28c",
       "value": 7
      }
     },
     "07f7e8314eae406ca6c078476a9ae453": {
      "model_module": "pgljupyter",
      "model_module_version": "^2.0.0",
      "model_name": "SceneWidgetModel",
      "state": {
       "_model_module_version": "^2.0.0",
       "_view_module_version": "^2.0.0",
       "axes_helper": false,
       "layout": "IPY_MODEL_9386c94de0304cf3b074ea49772d1080",
       "light_helper": false,
       "plane": true,
       "size_display": [
        400,
        400
       ],
       "size_world": 75
      }
     },
     "0801510196674513b982e07bc44a9e92": {
      "model_module": "pgljupyter",
      "model_module_version": "^2.0.0",
      "model_name": "SceneWidgetModel",
      "state": {
       "_model_module_version": "^2.0.0",
       "_view_module_version": "^2.0.0",
       "axes_helper": false,
       "layout": "IPY_MODEL_402e1cf9074d47fc9c40a75295747983",
       "light_helper": false,
       "plane": true,
       "size_display": [
        400,
        400
       ],
       "size_world": 75
      }
     },
     "088c19b11b6048f795ba69eb74160794": {
      "model_module": "@jupyter-widgets/controls",
      "model_module_version": "2.0.0",
      "model_name": "VBoxModel",
      "state": {
       "children": [
        "IPY_MODEL_8702adb148ed4c7cb943776c134e5c0b",
        "IPY_MODEL_2c687f7847b84f3cb89c5bb5be221ce5",
        "IPY_MODEL_a661231f2b8d428c8566810fa150bb4d",
        "IPY_MODEL_119f4e78a8ff45fcafffefad994f1ade"
       ],
       "layout": "IPY_MODEL_ea894fb9a346475eaa0d3b54f3782f48"
      }
     },
     "08a642df268847c98864098f11f2dac1": {
      "model_module": "@jupyter-widgets/base",
      "model_module_version": "2.0.0",
      "model_name": "LayoutModel",
      "state": {}
     },
     "0ac005f2078c4f80bcb33cbc549df426": {
      "buffers": [
       {
        "data": "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",
        "encoding": "base64",
        "path": [
         "scenes",
         0,
         "data"
        ]
       }
      ],
      "model_module": "pgljupyter",
      "model_module_version": "^2.0.0",
      "model_name": "SceneWidgetModel",
      "state": {
       "_model_module_version": "^2.0.0",
       "_view_module_version": "^2.0.0",
       "axes_helper": false,
       "layout": "IPY_MODEL_7f48a0d9b9a147f6b1274273f6c2e093",
       "light_helper": false,
       "plane": true,
       "scenes": [
        {
         "id": "qauinUXcxZ6z7Fg8Ytcjy868l",
         "position": [
          0,
          0,
          0
         ],
         "scale": 1,
         "scene": "<openalea.plantgl.scenegraph._pglsg.Scene object at 0x14f55cf40>"
        }
       ],
       "size_display": [
        400,
        400
       ],
       "size_world": 75
      }
     },
     "0b081a950d6343ee90170279a380ed58": {
      "model_module": "@jupyter-widgets/controls",
      "model_module_version": "2.0.0",
      "model_name": "FloatTextModel",
      "state": {
       "description": "max",
       "layout": "IPY_MODEL_3675290572904730a55d3f5b119df286",
       "step": 0.01,
       "style": "IPY_MODEL_5de838ba946b43f9bb2eec9fce2dca5a",
       "value": 2
      }
     },
     "101888cf3cbd48fdbc32840d1525de30": {
      "model_module": "@jupyter-widgets/base",
      "model_module_version": "2.0.0",
      "model_name": "LayoutModel",
      "state": {}
     },
     "10d0cc5e8bb54bef83e36d73beece23e": {
      "model_module": "@jupyter-widgets/controls",
      "model_module_version": "2.0.0",
      "model_name": "DescriptionStyleModel",
      "state": {
       "description_width": ""
      }
     },
     "119f4e78a8ff45fcafffefad994f1ade": {
      "model_module": "@jupyter-widgets/controls",
      "model_module_version": "2.0.0",
      "model_name": "HBoxModel",
      "state": {
       "layout": "IPY_MODEL_b6f40adcbf6a4fbf94fbbb4c1856eeb3"
      }
     },
     "11d93dfa82d1468c8d24aa35972c0ff8": {
      "model_module": "@jupyter-widgets/controls",
      "model_module_version": "2.0.0",
      "model_name": "ButtonStyleModel",
      "state": {
       "font_family": null,
       "font_size": null,
       "font_style": null,
       "font_variant": null,
       "font_weight": null,
       "text_color": null,
       "text_decoration": null
      }
     },
     "122a55362fb4414dbcbca5d85d52e960": {
      "model_module": "pgljupyter",
      "model_module_version": "^2.0.0",
      "model_name": "SceneWidgetModel",
      "state": {
       "_model_module_version": "^2.0.0",
       "_view_module_version": "^2.0.0",
       "axes_helper": false,
       "layout": "IPY_MODEL_ea44b65b232c4f0cb3e25d68dce0221f",
       "light_helper": false,
       "plane": true,
       "size_display": [
        400,
        400
       ],
       "size_world": 75
      }
     },
     "12757d91614e4ee5af1f1690399fa55b": {
      "model_module": "@jupyter-widgets/controls",
      "model_module_version": "2.0.0",
      "model_name": "DropdownModel",
      "state": {
       "_options_labels": [
        "Curve2D",
        "Function"
       ],
       "index": null,
       "layout": "IPY_MODEL_54844220363540fa80e73eb5c2073ecb",
       "style": "IPY_MODEL_1c63501e500543c0a0116065f086a0e6"
      }
     },
     "14470a7b289c47babda6fa027a828a3a": {
      "model_module": "@jupyter-widgets/controls",
      "model_module_version": "2.0.0",
      "model_name": "FloatSliderModel",
      "state": {
       "behavior": "drag-tap",
       "continuous_update": false,
       "description": "transparency",
       "layout": "IPY_MODEL_eeb5b082ffbd4c7f80a447620a1c4c4e",
       "max": 1,
       "step": 0.1,
       "style": "IPY_MODEL_70122cfb74234665aab2fe9051cbe53d"
      }
     },
     "150a4523a4c24e45b544c1fbede7b745": {
      "model_module": "@jupyter-widgets/controls",
      "model_module_version": "2.0.0",
      "model_name": "ButtonStyleModel",
      "state": {
       "font_family": null,
       "font_size": null,
       "font_style": null,
       "font_variant": null,
       "font_weight": null,
       "text_color": null,
       "text_decoration": null
      }
     },
     "16dd0de6d959423d925e82d7c4fcddd0": {
      "model_module": "@jupyter-widgets/controls",
      "model_module_version": "2.0.0",
      "model_name": "DescriptionStyleModel",
      "state": {
       "description_width": ""
      }
     },
     "1776f9c14eda43eb9834c189bd821844": {
      "model_module": "@jupyter-widgets/base",
      "model_module_version": "2.0.0",
      "model_name": "LayoutModel",
      "state": {}
     },
     "19c8e283f07b4560b2fd480e18466fa5": {
      "model_module": "@jupyter-widgets/base",
      "model_module_version": "2.0.0",
      "model_name": "LayoutModel",
      "state": {}
     },
     "1c24e74a48a14be5b2819b1d2ebfe921": {
      "model_module": "@jupyter-widgets/controls",
      "model_module_version": "2.0.0",
      "model_name": "ButtonModel",
      "state": {
       "description": "Save changes",
       "layout": "IPY_MODEL_9dbd4f0426b14a0c870538de6d569ad4",
       "style": "IPY_MODEL_150a4523a4c24e45b544c1fbede7b745",
       "tooltip": null
      }
     },
     "1c2d11a156ed47528e03b7548009a66b": {
      "model_module": "@jupyter-widgets/base",
      "model_module_version": "2.0.0",
      "model_name": "LayoutModel",
      "state": {}
     },
     "1c63501e500543c0a0116065f086a0e6": {
      "model_module": "@jupyter-widgets/controls",
      "model_module_version": "2.0.0",
      "model_name": "DescriptionStyleModel",
      "state": {
       "description_width": ""
      }
     },
     "1c89c55edd8741d28bcc26aa021f41be": {
      "model_module": "@jupyter-widgets/controls",
      "model_module_version": "2.0.0",
      "model_name": "SliderStyleModel",
      "state": {
       "description_width": ""
      }
     },
     "1dc74d8f1d6c48f4b92f58caf8704b88": {
      "model_module": "@jupyter-widgets/base",
      "model_module_version": "2.0.0",
      "model_name": "LayoutModel",
      "state": {}
     },
     "1fceedb3a677400186b147b33d3d3a12": {
      "model_module": "@jupyter-widgets/controls",
      "model_module_version": "2.0.0",
      "model_name": "TextModel",
      "state": {
       "continuous_update": false,
       "description": "name",
       "layout": "IPY_MODEL_1776f9c14eda43eb9834c189bd821844",
       "style": "IPY_MODEL_e8b0cba8951740c28fcc787487a1600b",
       "value": "scaling_Lmax"
      }
     },
     "24355dfb2f7f4da6bcf0c694b9533a4d": {
      "model_module": "@jupyter-widgets/controls",
      "model_module_version": "2.0.0",
      "model_name": "DropdownModel",
      "state": {
       "_options_labels": [
        "Color"
       ],
       "index": null,
       "layout": "IPY_MODEL_a6784a6530c34d5bb30769facd99aa81",
       "style": "IPY_MODEL_f9127bcfa97f486184d56bb3985c0460"
      }
     },
     "24d3ae4b1679418fb34eae1228101104": {
      "model_module": "@jupyter-widgets/base",
      "model_module_version": "2.0.0",
      "model_name": "LayoutModel",
      "state": {
       "margin": "10px 10px"
      }
     },
     "26efe1442bb341e1a6aaa461ce6113e0": {
      "model_module": "@jupyter-widgets/controls",
      "model_module_version": "2.0.0",
      "model_name": "TextModel",
      "state": {
       "continuous_update": false,
       "description": "name",
       "layout": "IPY_MODEL_c70ee182221f48308103f8176dc40370",
       "style": "IPY_MODEL_2a0e9f58913640edab927c827cf2eb7a",
       "value": "inclination_factor"
      }
     },
     "2a0e9f58913640edab927c827cf2eb7a": {
      "model_module": "@jupyter-widgets/controls",
      "model_module_version": "2.0.0",
      "model_name": "TextStyleModel",
      "state": {
       "description_width": "",
       "font_size": null,
       "text_color": null
      }
     },
     "2c04f26cd9254428b825fb5a6f1c2b1d": {
      "model_module": "@jupyter-widgets/controls",
      "model_module_version": "2.0.0",
      "model_name": "ButtonStyleModel",
      "state": {
       "font_family": null,
       "font_size": null,
       "font_style": null,
       "font_variant": null,
       "font_weight": null,
       "text_color": null,
       "text_decoration": null
      }
     },
     "2c687f7847b84f3cb89c5bb5be221ce5": {
      "model_module": "@jupyter-widgets/controls",
      "model_module_version": "2.0.0",
      "model_name": "HBoxModel",
      "state": {
       "children": [
        "IPY_MODEL_a5e1356662ad4810a9af702eeb1be668",
        "IPY_MODEL_fcb58ae9c3184cb98307bda54c84c034"
       ],
       "layout": "IPY_MODEL_b6f40adcbf6a4fbf94fbbb4c1856eeb3"
      }
     },
     "2d84e25f6b8b4482918a48eb459b9c93": {
      "model_module": "@jupyter-widgets/controls",
      "model_module_version": "2.0.0",
      "model_name": "ColorPickerModel",
      "state": {
       "description": "emission",
       "disabled": false,
       "layout": "IPY_MODEL_352328925b2f4e0f8e6334d7c9255545",
       "style": "IPY_MODEL_ec050d4560b24b2b9a393b389d521665",
       "value": "#000000"
      }
     },
     "2fff9343abac44f0b9b203dd8266938f": {
      "model_module": "@jupyter-widgets/base",
      "model_module_version": "2.0.0",
      "model_name": "LayoutModel",
      "state": {}
     },
     "303e53b7735f4febb175c19f8cca7f9b": {
      "model_module": "@jupyter-widgets/controls",
      "model_module_version": "2.0.0",
      "model_name": "DescriptionStyleModel",
      "state": {
       "description_width": ""
      }
     },
     "30ebe81f06724680a9f7c955977a5f64": {
      "model_module": "@jupyter-widgets/base",
      "model_module_version": "2.0.0",
      "model_name": "LayoutModel",
      "state": {}
     },
     "31c65f8b44174438952f0b8517e4f980": {
      "model_module": "@jupyter-widgets/base",
      "model_module_version": "2.0.0",
      "model_name": "LayoutModel",
      "state": {}
     },
     "328c4a26be554f3fae8aeae97b329031": {
      "model_module": "@jupyter-widgets/base",
      "model_module_version": "2.0.0",
      "model_name": "LayoutModel",
      "state": {}
     },
     "33a0852ee9a54479bb5777fab691d787": {
      "model_module": "@jupyter-widgets/controls",
      "model_module_version": "2.0.0",
      "model_name": "DescriptionStyleModel",
      "state": {
       "description_width": ""
      }
     },
     "352328925b2f4e0f8e6334d7c9255545": {
      "model_module": "@jupyter-widgets/base",
      "model_module_version": "2.0.0",
      "model_name": "LayoutModel",
      "state": {}
     },
     "3675290572904730a55d3f5b119df286": {
      "model_module": "@jupyter-widgets/base",
      "model_module_version": "2.0.0",
      "model_name": "LayoutModel",
      "state": {}
     },
     "3bcdabb2f74443beae8fa3d1040f879f": {
      "model_module": "@jupyter-widgets/base",
      "model_module_version": "2.0.0",
      "model_name": "LayoutModel",
      "state": {}
     },
     "3c2508d277cc4358a35d2d4db8c5c0c3": {
      "model_module": "@jupyter-widgets/controls",
      "model_module_version": "2.0.0",
      "model_name": "IntSliderModel",
      "state": {
       "behavior": "drag-tap",
       "description": "scaling_Lmax",
       "layout": "IPY_MODEL_df609a151f2041e09092beb7a3bacf4c",
       "max": 3,
       "min": -1,
       "style": "IPY_MODEL_f9438f9fb32646dbbc5a07f673cce251",
       "value": 1
      }
     },
     "3e21bc4bc2584be49cf8cf2ed8d15e13": {
      "model_module": "@jupyter-widgets/controls",
      "model_module_version": "2.0.0",
      "model_name": "SliderStyleModel",
      "state": {
       "description_width": ""
      }
     },
     "3e80efbd83c040419339d7a4873f36ce": {
      "model_module": "@jupyter-widgets/controls",
      "model_module_version": "2.0.0",
      "model_name": "FloatSliderModel",
      "state": {
       "behavior": "drag-tap",
       "continuous_update": false,
       "description": "diffuse",
       "layout": "IPY_MODEL_2fff9343abac44f0b9b203dd8266938f",
       "max": 3,
       "step": 0.1,
       "style": "IPY_MODEL_1c89c55edd8741d28bcc26aa021f41be",
       "value": 0.820513
      }
     },
     "3eea676a164446ee8bb4070a0456dcfa": {
      "model_module": "@jupyter-widgets/controls",
      "model_module_version": "2.0.0",
      "model_name": "FloatSliderModel",
      "state": {
       "behavior": "drag-tap",
       "continuous_update": false,
       "description": "value",
       "layout": "IPY_MODEL_bd983dfb84eb414bbc4aa86cae13e88d",
       "max": 2,
       "min": 0.5,
       "step": 0.01,
       "style": "IPY_MODEL_e17c63ee22a244a78a28556a8fbccbad",
       "value": 1
      }
     },
     "402e1cf9074d47fc9c40a75295747983": {
      "model_module": "@jupyter-widgets/base",
      "model_module_version": "2.0.0",
      "model_name": "LayoutModel",
      "state": {}
     },
     "406354784e064fbdb31e4e72b762602a": {
      "model_module": "@jupyter-widgets/controls",
      "model_module_version": "2.0.0",
      "model_name": "DropdownModel",
      "state": {
       "_options_labels": [
        "Integer",
        "Float",
        "Bool"
       ],
       "index": null,
       "layout": "IPY_MODEL_b57f50e7cec44f7ebcfd793fe0b41faa",
       "style": "IPY_MODEL_a971498e85db45fab0c33c195fff6d15"
      }
     },
     "43b4607165fc4fe09743b651b1c0a522": {
      "model_module": "@jupyter-widgets/controls",
      "model_module_version": "2.0.0",
      "model_name": "VBoxModel",
      "state": {
       "children": [
        "IPY_MODEL_5f6a2e4da35d4396be17e7d570c08bfc",
        "IPY_MODEL_eea92ff3daf84609b16c16a08ebc47ad"
       ],
       "layout": "IPY_MODEL_7d99167be0844c94b5f8a042c5c09109"
      }
     },
     "46d1ba6d4ecc480c9633eeb4647b259e": {
      "model_module": "@jupyter-widgets/base",
      "model_module_version": "2.0.0",
      "model_name": "LayoutModel",
      "state": {}
     },
     "49e84ab77d8e45aa828efa6f8cc34384": {
      "model_module": "@jupyter-widgets/controls",
      "model_module_version": "2.0.0",
      "model_name": "SliderStyleModel",
      "state": {
       "description_width": ""
      }
     },
     "5086b1d7155f4dd0b5fadfba79ece336": {
      "model_module": "@jupyter-widgets/base",
      "model_module_version": "2.0.0",
      "model_name": "LayoutModel",
      "state": {}
     },
     "50a48d142abd4ee7b9d71fd4876359e7": {
      "model_module": "@jupyter-widgets/base",
      "model_module_version": "2.0.0",
      "model_name": "LayoutModel",
      "state": {}
     },
     "51183739d0724b52931a9d64233a8e45": {
      "model_module": "pgljupyter",
      "model_module_version": "^2.0.0",
      "model_name": "MaterialEditorModel",
      "state": {
       "_model_module_version": "^2.0.0",
       "_view_module_version": "^2.0.0",
       "children": [
        "IPY_MODEL_05cf330844f34e9eb19fdd77e81fd842",
        "IPY_MODEL_72b4b8efabdf4e4f9d174a23197cfe38",
        "IPY_MODEL_97b7cfd77c3b4fa4a33c3a63186d98d1",
        "IPY_MODEL_2d84e25f6b8b4482918a48eb459b9c93",
        "IPY_MODEL_3e80efbd83c040419339d7a4873f36ce",
        "IPY_MODEL_14470a7b289c47babda6fa027a828a3a",
        "IPY_MODEL_d50d569feda44effac8c2474dee7927a"
       ],
       "layout": "IPY_MODEL_9e43703496f84638a044ff628ce052c0"
      }
     },
     "5350469d3770403196b1945c6e5a335f": {
      "model_module": "@jupyter-widgets/base",
      "model_module_version": "2.0.0",
      "model_name": "LayoutModel",
      "state": {}
     },
     "54603c5bb617411f93c9114514ed02d2": {
      "model_module": "@jupyter-widgets/controls",
      "model_module_version": "2.0.0",
      "model_name": "DescriptionStyleModel",
      "state": {
       "description_width": ""
      }
     },
     "54844220363540fa80e73eb5c2073ecb": {
      "model_module": "@jupyter-widgets/base",
      "model_module_version": "2.0.0",
      "model_name": "LayoutModel",
      "state": {}
     },
     "5555a325dcf64b68ad731d19b49ac3c6": {
      "model_module": "@jupyter-widgets/base",
      "model_module_version": "2.0.0",
      "model_name": "LayoutModel",
      "state": {}
     },
     "58555c37a04440618427b466eed3ebf0": {
      "model_module": "@jupyter-widgets/base",
      "model_module_version": "2.0.0",
      "model_name": "LayoutModel",
      "state": {}
     },
     "5918d60133e743c283a4bd776b203671": {
      "model_module": "@jupyter-widgets/base",
      "model_module_version": "2.0.0",
      "model_name": "LayoutModel",
      "state": {}
     },
     "592eac65507a4f7d8a695603da1ed16c": {
      "model_module": "@jupyter-widgets/output",
      "model_module_version": "1.0.0",
      "model_name": "OutputModel",
      "state": {
       "layout": "IPY_MODEL_1c2d11a156ed47528e03b7548009a66b",
       "outputs": [
        {
         "data": {
          "application/javascript": "/* Put everything inside the global mpl namespace */\n/* global mpl */\nwindow.mpl = {};\n\nmpl.get_websocket_type = function () {\n    if (typeof WebSocket !== 'undefined') {\n        return WebSocket;\n    } else if (typeof MozWebSocket !== 'undefined') {\n        return MozWebSocket;\n    } else {\n        alert(\n            'Your browser does not have WebSocket support. ' +\n                'Please try Chrome, Safari or Firefox ≥ 6. ' +\n                'Firefox 4 and 5 are also supported but you ' +\n                'have to enable WebSockets in about:config.'\n        );\n    }\n};\n\nmpl.figure = function (figure_id, websocket, ondownload, parent_element) {\n    this.id = figure_id;\n\n    this.ws = websocket;\n\n    this.supports_binary = this.ws.binaryType !== undefined;\n\n    if (!this.supports_binary) {\n        var warnings = document.getElementById('mpl-warnings');\n        if (warnings) {\n            warnings.style.display = 'block';\n            warnings.textContent =\n                'This browser does not support binary websocket messages. ' +\n                'Performance may be slow.';\n        }\n    }\n\n    this.imageObj = new Image();\n\n    this.context = undefined;\n    this.message = undefined;\n    this.canvas = undefined;\n    this.rubberband_canvas = undefined;\n    this.rubberband_context = undefined;\n    this.format_dropdown = undefined;\n\n    this.image_mode = 'full';\n\n    this.root = document.createElement('div');\n    this.root.setAttribute('style', 'display: inline-block');\n    this._root_extra_style(this.root);\n\n    parent_element.appendChild(this.root);\n\n    this._init_header(this);\n    this._init_canvas(this);\n    this._init_toolbar(this);\n\n    var fig = this;\n\n    this.waiting = false;\n\n    this.ws.onopen = function () {\n        fig.send_message('supports_binary', { value: fig.supports_binary });\n        fig.send_message('send_image_mode', {});\n        if (fig.ratio !== 1) {\n            fig.send_message('set_device_pixel_ratio', {\n                device_pixel_ratio: fig.ratio,\n            });\n        }\n        fig.send_message('refresh', {});\n    };\n\n    this.imageObj.onload = function () {\n        if (fig.image_mode === 'full') {\n            // Full images could contain transparency (where diff images\n            // almost always do), so we need to clear the canvas so that\n            // there is no ghosting.\n            fig.context.clearRect(0, 0, fig.canvas.width, fig.canvas.height);\n        }\n        fig.context.drawImage(fig.imageObj, 0, 0);\n    };\n\n    this.imageObj.onunload = function () {\n        fig.ws.close();\n    };\n\n    this.ws.onmessage = this._make_on_message_function(this);\n\n    this.ondownload = ondownload;\n};\n\nmpl.figure.prototype._init_header = function () {\n    var titlebar = document.createElement('div');\n    titlebar.classList =\n        'ui-dialog-titlebar ui-widget-header ui-corner-all ui-helper-clearfix';\n    var titletext = document.createElement('div');\n    titletext.classList = 'ui-dialog-title';\n    titletext.setAttribute(\n        'style',\n        'width: 100%; text-align: center; padding: 3px;'\n    );\n    titlebar.appendChild(titletext);\n    this.root.appendChild(titlebar);\n    this.header = titletext;\n};\n\nmpl.figure.prototype._canvas_extra_style = function (_canvas_div) {};\n\nmpl.figure.prototype._root_extra_style = function (_canvas_div) {};\n\nmpl.figure.prototype._init_canvas = function () {\n    var fig = this;\n\n    var canvas_div = (this.canvas_div = document.createElement('div'));\n    canvas_div.setAttribute('tabindex', '0');\n    canvas_div.setAttribute(\n        'style',\n        'border: 1px solid #ddd;' +\n            'box-sizing: content-box;' +\n            'clear: both;' +\n            'min-height: 1px;' +\n            'min-width: 1px;' +\n            'outline: 0;' +\n            'overflow: hidden;' +\n            'position: relative;' +\n            'resize: both;' +\n            'z-index: 2;'\n    );\n\n    function on_keyboard_event_closure(name) {\n        return function (event) {\n            return fig.key_event(event, name);\n        };\n    }\n\n    canvas_div.addEventListener(\n        'keydown',\n        on_keyboard_event_closure('key_press')\n    );\n    canvas_div.addEventListener(\n        'keyup',\n        on_keyboard_event_closure('key_release')\n    );\n\n    this._canvas_extra_style(canvas_div);\n    this.root.appendChild(canvas_div);\n\n    var canvas = (this.canvas = document.createElement('canvas'));\n    canvas.classList.add('mpl-canvas');\n    canvas.setAttribute(\n        'style',\n        'box-sizing: content-box;' +\n            'pointer-events: none;' +\n            'position: relative;' +\n            'z-index: 0;'\n    );\n\n    this.context = canvas.getContext('2d');\n\n    var backingStore =\n        this.context.backingStorePixelRatio ||\n        this.context.webkitBackingStorePixelRatio ||\n        this.context.mozBackingStorePixelRatio ||\n        this.context.msBackingStorePixelRatio ||\n        this.context.oBackingStorePixelRatio ||\n        this.context.backingStorePixelRatio ||\n        1;\n\n    this.ratio = (window.devicePixelRatio || 1) / backingStore;\n\n    var rubberband_canvas = (this.rubberband_canvas = document.createElement(\n        'canvas'\n    ));\n    rubberband_canvas.setAttribute(\n        'style',\n        'box-sizing: content-box;' +\n            'left: 0;' +\n            'pointer-events: none;' +\n            'position: absolute;' +\n            'top: 0;' +\n            'z-index: 1;'\n    );\n\n    // Apply a ponyfill if ResizeObserver is not implemented by browser.\n    if (this.ResizeObserver === undefined) {\n        if (window.ResizeObserver !== undefined) {\n            this.ResizeObserver = window.ResizeObserver;\n        } else {\n            var obs = _JSXTOOLS_RESIZE_OBSERVER({});\n            this.ResizeObserver = obs.ResizeObserver;\n        }\n    }\n\n    this.resizeObserverInstance = new this.ResizeObserver(function (entries) {\n        var nentries = entries.length;\n        for (var i = 0; i < nentries; i++) {\n            var entry = entries[i];\n            var width, height;\n            if (entry.contentBoxSize) {\n                if (entry.contentBoxSize instanceof Array) {\n                    // Chrome 84 implements new version of spec.\n                    width = entry.contentBoxSize[0].inlineSize;\n                    height = entry.contentBoxSize[0].blockSize;\n                } else {\n                    // Firefox implements old version of spec.\n                    width = entry.contentBoxSize.inlineSize;\n                    height = entry.contentBoxSize.blockSize;\n                }\n            } else {\n                // Chrome <84 implements even older version of spec.\n                width = entry.contentRect.width;\n                height = entry.contentRect.height;\n            }\n\n            // Keep the size of the canvas and rubber band canvas in sync with\n            // the canvas container.\n            if (entry.devicePixelContentBoxSize) {\n                // Chrome 84 implements new version of spec.\n                canvas.setAttribute(\n                    'width',\n                    entry.devicePixelContentBoxSize[0].inlineSize\n                );\n                canvas.setAttribute(\n                    'height',\n                    entry.devicePixelContentBoxSize[0].blockSize\n                );\n            } else {\n                canvas.setAttribute('width', width * fig.ratio);\n                canvas.setAttribute('height', height * fig.ratio);\n            }\n            /* This rescales the canvas back to display pixels, so that it\n             * appears correct on HiDPI screens. */\n            canvas.style.width = width + 'px';\n            canvas.style.height = height + 'px';\n\n            rubberband_canvas.setAttribute('width', width);\n            rubberband_canvas.setAttribute('height', height);\n\n            // And update the size in Python. We ignore the initial 0/0 size\n            // that occurs as the element is placed into the DOM, which should\n            // otherwise not happen due to the minimum size styling.\n            if (fig.ws.readyState == 1 && width != 0 && height != 0) {\n                fig.request_resize(width, height);\n            }\n        }\n    });\n    this.resizeObserverInstance.observe(canvas_div);\n\n    function on_mouse_event_closure(name) {\n        /* User Agent sniffing is bad, but WebKit is busted:\n         * https://bugs.webkit.org/show_bug.cgi?id=144526\n         * https://bugs.webkit.org/show_bug.cgi?id=181818\n         * The worst that happens here is that they get an extra browser\n         * selection when dragging, if this check fails to catch them.\n         */\n        var UA = navigator.userAgent;\n        var isWebKit = /AppleWebKit/.test(UA) && !/Chrome/.test(UA);\n        if(isWebKit) {\n            return function (event) {\n                /* This prevents the web browser from automatically changing to\n                 * the text insertion cursor when the button is pressed. We\n                 * want to control all of the cursor setting manually through\n                 * the 'cursor' event from matplotlib */\n                event.preventDefault()\n                return fig.mouse_event(event, name);\n            };\n        } else {\n            return function (event) {\n                return fig.mouse_event(event, name);\n            };\n        }\n    }\n\n    canvas_div.addEventListener(\n        'mousedown',\n        on_mouse_event_closure('button_press')\n    );\n    canvas_div.addEventListener(\n        'mouseup',\n        on_mouse_event_closure('button_release')\n    );\n    canvas_div.addEventListener(\n        'dblclick',\n        on_mouse_event_closure('dblclick')\n    );\n    // Throttle sequential mouse events to 1 every 20ms.\n    canvas_div.addEventListener(\n        'mousemove',\n        on_mouse_event_closure('motion_notify')\n    );\n\n    canvas_div.addEventListener(\n        'mouseenter',\n        on_mouse_event_closure('figure_enter')\n    );\n    canvas_div.addEventListener(\n        'mouseleave',\n        on_mouse_event_closure('figure_leave')\n    );\n\n    canvas_div.addEventListener('wheel', function (event) {\n        if (event.deltaY < 0) {\n            event.step = 1;\n        } else {\n            event.step = -1;\n        }\n        on_mouse_event_closure('scroll')(event);\n    });\n\n    canvas_div.appendChild(canvas);\n    canvas_div.appendChild(rubberband_canvas);\n\n    this.rubberband_context = rubberband_canvas.getContext('2d');\n    this.rubberband_context.strokeStyle = '#000000';\n\n    this._resize_canvas = function (width, height, forward) {\n        if (forward) {\n            canvas_div.style.width = width + 'px';\n            canvas_div.style.height = height + 'px';\n        }\n    };\n\n    // Disable right mouse context menu.\n    canvas_div.addEventListener('contextmenu', function (_e) {\n        event.preventDefault();\n        return false;\n    });\n\n    function set_focus() {\n        canvas.focus();\n        canvas_div.focus();\n    }\n\n    window.setTimeout(set_focus, 100);\n};\n\nmpl.figure.prototype._init_toolbar = function () {\n    var fig = this;\n\n    var toolbar = document.createElement('div');\n    toolbar.classList = 'mpl-toolbar';\n    this.root.appendChild(toolbar);\n\n    function on_click_closure(name) {\n        return function (_event) {\n            return fig.toolbar_button_onclick(name);\n        };\n    }\n\n    function on_mouseover_closure(tooltip) {\n        return function (event) {\n            if (!event.currentTarget.disabled) {\n                return fig.toolbar_button_onmouseover(tooltip);\n            }\n        };\n    }\n\n    fig.buttons = {};\n    var buttonGroup = document.createElement('div');\n    buttonGroup.classList = 'mpl-button-group';\n    for (var toolbar_ind in mpl.toolbar_items) {\n        var name = mpl.toolbar_items[toolbar_ind][0];\n        var tooltip = mpl.toolbar_items[toolbar_ind][1];\n        var image = mpl.toolbar_items[toolbar_ind][2];\n        var method_name = mpl.toolbar_items[toolbar_ind][3];\n\n        if (!name) {\n            /* Instead of a spacer, we start a new button group. */\n            if (buttonGroup.hasChildNodes()) {\n                toolbar.appendChild(buttonGroup);\n            }\n            buttonGroup = document.createElement('div');\n            buttonGroup.classList = 'mpl-button-group';\n            continue;\n        }\n\n        var button = (fig.buttons[name] = document.createElement('button'));\n        button.classList = 'mpl-widget';\n        button.setAttribute('role', 'button');\n        button.setAttribute('aria-disabled', 'false');\n        button.addEventListener('click', on_click_closure(method_name));\n        button.addEventListener('mouseover', on_mouseover_closure(tooltip));\n\n        var icon_img = document.createElement('img');\n        icon_img.src = '_images/' + image + '.png';\n        icon_img.srcset = '_images/' + image + '_large.png 2x';\n        icon_img.alt = tooltip;\n        button.appendChild(icon_img);\n\n        buttonGroup.appendChild(button);\n    }\n\n    if (buttonGroup.hasChildNodes()) {\n        toolbar.appendChild(buttonGroup);\n    }\n\n    var fmt_picker = document.createElement('select');\n    fmt_picker.classList = 'mpl-widget';\n    toolbar.appendChild(fmt_picker);\n    this.format_dropdown = fmt_picker;\n\n    for (var ind in mpl.extensions) {\n        var fmt = mpl.extensions[ind];\n        var option = document.createElement('option');\n        option.selected = fmt === mpl.default_extension;\n        option.innerHTML = fmt;\n        fmt_picker.appendChild(option);\n    }\n\n    var status_bar = document.createElement('span');\n    status_bar.classList = 'mpl-message';\n    toolbar.appendChild(status_bar);\n    this.message = status_bar;\n};\n\nmpl.figure.prototype.request_resize = function (x_pixels, y_pixels) {\n    // Request matplotlib to resize the figure. Matplotlib will then trigger a resize in the client,\n    // which will in turn request a refresh of the image.\n    this.send_message('resize', { width: x_pixels, height: y_pixels });\n};\n\nmpl.figure.prototype.send_message = function (type, properties) {\n    properties['type'] = type;\n    properties['figure_id'] = this.id;\n    this.ws.send(JSON.stringify(properties));\n};\n\nmpl.figure.prototype.send_draw_message = function () {\n    if (!this.waiting) {\n        this.waiting = true;\n        this.ws.send(JSON.stringify({ type: 'draw', figure_id: this.id }));\n    }\n};\n\nmpl.figure.prototype.handle_save = function (fig, _msg) {\n    var format_dropdown = fig.format_dropdown;\n    var format = format_dropdown.options[format_dropdown.selectedIndex].value;\n    fig.ondownload(fig, format);\n};\n\nmpl.figure.prototype.handle_resize = function (fig, msg) {\n    var size = msg['size'];\n    if (size[0] !== fig.canvas.width || size[1] !== fig.canvas.height) {\n        fig._resize_canvas(size[0], size[1], msg['forward']);\n        fig.send_message('refresh', {});\n    }\n};\n\nmpl.figure.prototype.handle_rubberband = function (fig, msg) {\n    var x0 = msg['x0'] / fig.ratio;\n    var y0 = (fig.canvas.height - msg['y0']) / fig.ratio;\n    var x1 = msg['x1'] / fig.ratio;\n    var y1 = (fig.canvas.height - msg['y1']) / fig.ratio;\n    x0 = Math.floor(x0) + 0.5;\n    y0 = Math.floor(y0) + 0.5;\n    x1 = Math.floor(x1) + 0.5;\n    y1 = Math.floor(y1) + 0.5;\n    var min_x = Math.min(x0, x1);\n    var min_y = Math.min(y0, y1);\n    var width = Math.abs(x1 - x0);\n    var height = Math.abs(y1 - y0);\n\n    fig.rubberband_context.clearRect(\n        0,\n        0,\n        fig.canvas.width / fig.ratio,\n        fig.canvas.height / fig.ratio\n    );\n\n    fig.rubberband_context.strokeRect(min_x, min_y, width, height);\n};\n\nmpl.figure.prototype.handle_figure_label = function (fig, msg) {\n    // Updates the figure title.\n    fig.header.textContent = msg['label'];\n};\n\nmpl.figure.prototype.handle_cursor = function (fig, msg) {\n    fig.canvas_div.style.cursor = msg['cursor'];\n};\n\nmpl.figure.prototype.handle_message = function (fig, msg) {\n    fig.message.textContent = msg['message'];\n};\n\nmpl.figure.prototype.handle_draw = function (fig, _msg) {\n    // Request the server to send over a new figure.\n    fig.send_draw_message();\n};\n\nmpl.figure.prototype.handle_image_mode = function (fig, msg) {\n    fig.image_mode = msg['mode'];\n};\n\nmpl.figure.prototype.handle_history_buttons = function (fig, msg) {\n    for (var key in msg) {\n        if (!(key in fig.buttons)) {\n            continue;\n        }\n        fig.buttons[key].disabled = !msg[key];\n        fig.buttons[key].setAttribute('aria-disabled', !msg[key]);\n    }\n};\n\nmpl.figure.prototype.handle_navigate_mode = function (fig, msg) {\n    if (msg['mode'] === 'PAN') {\n        fig.buttons['Pan'].classList.add('active');\n        fig.buttons['Zoom'].classList.remove('active');\n    } else if (msg['mode'] === 'ZOOM') {\n        fig.buttons['Pan'].classList.remove('active');\n        fig.buttons['Zoom'].classList.add('active');\n    } else {\n        fig.buttons['Pan'].classList.remove('active');\n        fig.buttons['Zoom'].classList.remove('active');\n    }\n};\n\nmpl.figure.prototype.updated_canvas_event = function () {\n    // Called whenever the canvas gets updated.\n    this.send_message('ack', {});\n};\n\n// A function to construct a web socket function for onmessage handling.\n// Called in the figure constructor.\nmpl.figure.prototype._make_on_message_function = function (fig) {\n    return function socket_on_message(evt) {\n        if (evt.data instanceof Blob) {\n            var img = evt.data;\n            if (img.type !== 'image/png') {\n                /* FIXME: We get \"Resource interpreted as Image but\n                 * transferred with MIME type text/plain:\" errors on\n                 * Chrome.  But how to set the MIME type?  It doesn't seem\n                 * to be part of the websocket stream */\n                img.type = 'image/png';\n            }\n\n            /* Free the memory for the previous frames */\n            if (fig.imageObj.src) {\n                (window.URL || window.webkitURL).revokeObjectURL(\n                    fig.imageObj.src\n                );\n            }\n\n            fig.imageObj.src = (window.URL || window.webkitURL).createObjectURL(\n                img\n            );\n            fig.updated_canvas_event();\n            fig.waiting = false;\n            return;\n        } else if (\n            typeof evt.data === 'string' &&\n            evt.data.slice(0, 21) === 'data:image/png;base64'\n        ) {\n            fig.imageObj.src = evt.data;\n            fig.updated_canvas_event();\n            fig.waiting = false;\n            return;\n        }\n\n        var msg = JSON.parse(evt.data);\n        var msg_type = msg['type'];\n\n        // Call the  \"handle_{type}\" callback, which takes\n        // the figure and JSON message as its only arguments.\n        try {\n            var callback = fig['handle_' + msg_type];\n        } catch (e) {\n            console.log(\n                \"No handler for the '\" + msg_type + \"' message type: \",\n                msg\n            );\n            return;\n        }\n\n        if (callback) {\n            try {\n                // console.log(\"Handling '\" + msg_type + \"' message: \", msg);\n                callback(fig, msg);\n            } catch (e) {\n                console.log(\n                    \"Exception inside the 'handler_\" + msg_type + \"' callback:\",\n                    e,\n                    e.stack,\n                    msg\n                );\n            }\n        }\n    };\n};\n\nfunction getModifiers(event) {\n    var mods = [];\n    if (event.ctrlKey) {\n        mods.push('ctrl');\n    }\n    if (event.altKey) {\n        mods.push('alt');\n    }\n    if (event.shiftKey) {\n        mods.push('shift');\n    }\n    if (event.metaKey) {\n        mods.push('meta');\n    }\n    return mods;\n}\n\n/*\n * return a copy of an object with only non-object keys\n * we need this to avoid circular references\n * https://stackoverflow.com/a/24161582/3208463\n */\nfunction simpleKeys(original) {\n    return Object.keys(original).reduce(function (obj, key) {\n        if (typeof original[key] !== 'object') {\n            obj[key] = original[key];\n        }\n        return obj;\n    }, {});\n}\n\nmpl.figure.prototype.mouse_event = function (event, name) {\n    if (name === 'button_press') {\n        this.canvas.focus();\n        this.canvas_div.focus();\n    }\n\n    // from https://stackoverflow.com/q/1114465\n    var boundingRect = this.canvas.getBoundingClientRect();\n    var x = (event.clientX - boundingRect.left) * this.ratio;\n    var y = (event.clientY - boundingRect.top) * this.ratio;\n\n    this.send_message(name, {\n        x: x,\n        y: y,\n        button: event.button,\n        step: event.step,\n        modifiers: getModifiers(event),\n        guiEvent: simpleKeys(event),\n    });\n\n    return false;\n};\n\nmpl.figure.prototype._key_event_extra = function (_event, _name) {\n    // Handle any extra behaviour associated with a key event\n};\n\nmpl.figure.prototype.key_event = function (event, name) {\n    // Prevent repeat events\n    if (name === 'key_press') {\n        if (event.key === this._key) {\n            return;\n        } else {\n            this._key = event.key;\n        }\n    }\n    if (name === 'key_release') {\n        this._key = null;\n    }\n\n    var value = '';\n    if (event.ctrlKey && event.key !== 'Control') {\n        value += 'ctrl+';\n    }\n    else if (event.altKey && event.key !== 'Alt') {\n        value += 'alt+';\n    }\n    else if (event.shiftKey && event.key !== 'Shift') {\n        value += 'shift+';\n    }\n\n    value += 'k' + event.key;\n\n    this._key_event_extra(event, name);\n\n    this.send_message(name, { key: value, guiEvent: simpleKeys(event) });\n    return false;\n};\n\nmpl.figure.prototype.toolbar_button_onclick = function (name) {\n    if (name === 'download') {\n        this.handle_save(this, null);\n    } else {\n        this.send_message('toolbar_button', { name: name });\n    }\n};\n\nmpl.figure.prototype.toolbar_button_onmouseover = function (tooltip) {\n    this.message.textContent = tooltip;\n};\n\n///////////////// REMAINING CONTENT GENERATED BY embed_js.py /////////////////\n// prettier-ignore\nvar _JSXTOOLS_RESIZE_OBSERVER=function(A){var t,i=new WeakMap,n=new WeakMap,a=new WeakMap,r=new WeakMap,o=new Set;function s(e){if(!(this instanceof s))throw new TypeError(\"Constructor requires 'new' operator\");i.set(this,e)}function h(){throw new TypeError(\"Function is not a constructor\")}function c(e,t,i,n){e=0 in arguments?Number(arguments[0]):0,t=1 in arguments?Number(arguments[1]):0,i=2 in arguments?Number(arguments[2]):0,n=3 in arguments?Number(arguments[3]):0,this.right=(this.x=this.left=e)+(this.width=i),this.bottom=(this.y=this.top=t)+(this.height=n),Object.freeze(this)}function d(){t=requestAnimationFrame(d);var s=new WeakMap,p=new Set;o.forEach((function(t){r.get(t).forEach((function(i){var r=t instanceof window.SVGElement,o=a.get(t),d=r?0:parseFloat(o.paddingTop),f=r?0:parseFloat(o.paddingRight),l=r?0:parseFloat(o.paddingBottom),u=r?0:parseFloat(o.paddingLeft),g=r?0:parseFloat(o.borderTopWidth),m=r?0:parseFloat(o.borderRightWidth),w=r?0:parseFloat(o.borderBottomWidth),b=u+f,F=d+l,v=(r?0:parseFloat(o.borderLeftWidth))+m,W=g+w,y=r?0:t.offsetHeight-W-t.clientHeight,E=r?0:t.offsetWidth-v-t.clientWidth,R=b+v,z=F+W,M=r?t.width:parseFloat(o.width)-R-E,O=r?t.height:parseFloat(o.height)-z-y;if(n.has(t)){var k=n.get(t);if(k[0]===M&&k[1]===O)return}n.set(t,[M,O]);var S=Object.create(h.prototype);S.target=t,S.contentRect=new c(u,d,M,O),s.has(i)||(s.set(i,[]),p.add(i)),s.get(i).push(S)}))})),p.forEach((function(e){i.get(e).call(e,s.get(e),e)}))}return s.prototype.observe=function(i){if(i instanceof window.Element){r.has(i)||(r.set(i,new Set),o.add(i),a.set(i,window.getComputedStyle(i)));var n=r.get(i);n.has(this)||n.add(this),cancelAnimationFrame(t),t=requestAnimationFrame(d)}},s.prototype.unobserve=function(i){if(i instanceof window.Element&&r.has(i)){var n=r.get(i);n.has(this)&&(n.delete(this),n.size||(r.delete(i),o.delete(i))),n.size||r.delete(i),o.size||cancelAnimationFrame(t)}},A.DOMRectReadOnly=c,A.ResizeObserver=s,A.ResizeObserverEntry=h,A}; // eslint-disable-line\nmpl.toolbar_items = [[\"Home\", \"Reset original view\", \"fa fa-home\", \"home\"], [\"Back\", \"Back to previous view\", \"fa fa-arrow-left\", \"back\"], [\"Forward\", \"Forward to next view\", \"fa fa-arrow-right\", \"forward\"], [\"\", \"\", \"\", \"\"], [\"Pan\", \"Left button pans, Right button zooms\\nx/y fixes axis, CTRL fixes aspect\", \"fa fa-arrows\", \"pan\"], [\"Zoom\", \"Zoom to rectangle\\nx/y fixes axis\", \"fa fa-square-o\", \"zoom\"], [\"\", \"\", \"\", \"\"], [\"Download\", \"Download plot\", \"fa fa-floppy-o\", \"download\"]];\n\nmpl.extensions = [\"eps\", \"jpeg\", \"pgf\", \"pdf\", \"png\", \"ps\", \"raw\", \"svg\", \"tif\", \"webp\"];\n\nmpl.default_extension = \"png\";/* global mpl */\n\nvar comm_websocket_adapter = function (comm) {\n    // Create a \"websocket\"-like object which calls the given IPython comm\n    // object with the appropriate methods. Currently this is a non binary\n    // socket, so there is still some room for performance tuning.\n    var ws = {};\n\n    ws.binaryType = comm.kernel.ws.binaryType;\n    ws.readyState = comm.kernel.ws.readyState;\n    function updateReadyState(_event) {\n        if (comm.kernel.ws) {\n            ws.readyState = comm.kernel.ws.readyState;\n        } else {\n            ws.readyState = 3; // Closed state.\n        }\n    }\n    comm.kernel.ws.addEventListener('open', updateReadyState);\n    comm.kernel.ws.addEventListener('close', updateReadyState);\n    comm.kernel.ws.addEventListener('error', updateReadyState);\n\n    ws.close = function () {\n        comm.close();\n    };\n    ws.send = function (m) {\n        //console.log('sending', m);\n        comm.send(m);\n    };\n    // Register the callback with on_msg.\n    comm.on_msg(function (msg) {\n        //console.log('receiving', msg['content']['data'], msg);\n        var data = msg['content']['data'];\n        if (data['blob'] !== undefined) {\n            data = {\n                data: new Blob(msg['buffers'], { type: data['blob'] }),\n            };\n        }\n        // Pass the mpl event to the overridden (by mpl) onmessage function.\n        ws.onmessage(data);\n    });\n    return ws;\n};\n\nmpl.mpl_figure_comm = function (comm, msg) {\n    // This is the function which gets called when the mpl process\n    // starts-up an IPython Comm through the \"matplotlib\" channel.\n\n    var id = msg.content.data.id;\n    // Get hold of the div created by the display call when the Comm\n    // socket was opened in Python.\n    var element = document.getElementById(id);\n    var ws_proxy = comm_websocket_adapter(comm);\n\n    function ondownload(figure, _format) {\n        window.open(figure.canvas.toDataURL());\n    }\n\n    var fig = new mpl.figure(id, ws_proxy, ondownload, element);\n\n    // Call onopen now - mpl needs it, as it is assuming we've passed it a real\n    // web socket which is closed, not our websocket->open comm proxy.\n    ws_proxy.onopen();\n\n    fig.parent_element = element;\n    fig.cell_info = mpl.find_output_cell(\"<div id='\" + id + \"'></div>\");\n    if (!fig.cell_info) {\n        console.error('Failed to find cell for figure', id, fig);\n        return;\n    }\n    fig.cell_info[0].output_area.element.on(\n        'cleared',\n        { fig: fig },\n        fig._remove_fig_handler\n    );\n};\n\nmpl.figure.prototype.handle_close = function (fig, msg) {\n    var width = fig.canvas.width / fig.ratio;\n    fig.cell_info[0].output_area.element.off(\n        'cleared',\n        fig._remove_fig_handler\n    );\n    fig.resizeObserverInstance.unobserve(fig.canvas_div);\n\n    // Update the output cell to use the data from the current canvas.\n    fig.push_to_output();\n    var dataURL = fig.canvas.toDataURL();\n    // Re-enable the keyboard manager in IPython - without this line, in FF,\n    // the notebook keyboard shortcuts fail.\n    IPython.keyboard_manager.enable();\n    fig.parent_element.innerHTML =\n        '<img src=\"' + dataURL + '\" width=\"' + width + '\">';\n    fig.close_ws(fig, msg);\n};\n\nmpl.figure.prototype.close_ws = function (fig, msg) {\n    fig.send_message('closing', msg);\n    // fig.ws.close()\n};\n\nmpl.figure.prototype.push_to_output = function (_remove_interactive) {\n    // Turn the data on the canvas into data in the output cell.\n    var width = this.canvas.width / this.ratio;\n    var dataURL = this.canvas.toDataURL();\n    this.cell_info[1]['text/html'] =\n        '<img src=\"' + dataURL + '\" width=\"' + width + '\">';\n};\n\nmpl.figure.prototype.updated_canvas_event = function () {\n    // Tell IPython that the notebook contents must change.\n    IPython.notebook.set_dirty(true);\n    this.send_message('ack', {});\n    var fig = this;\n    // Wait a second, then push the new image to the DOM so\n    // that it is saved nicely (might be nice to debounce this).\n    setTimeout(function () {\n        fig.push_to_output();\n    }, 1000);\n};\n\nmpl.figure.prototype._init_toolbar = function () {\n    var fig = this;\n\n    var toolbar = document.createElement('div');\n    toolbar.classList = 'btn-toolbar';\n    this.root.appendChild(toolbar);\n\n    function on_click_closure(name) {\n        return function (_event) {\n            return fig.toolbar_button_onclick(name);\n        };\n    }\n\n    function on_mouseover_closure(tooltip) {\n        return function (event) {\n            if (!event.currentTarget.disabled) {\n                return fig.toolbar_button_onmouseover(tooltip);\n            }\n        };\n    }\n\n    fig.buttons = {};\n    var buttonGroup = document.createElement('div');\n    buttonGroup.classList = 'btn-group';\n    var button;\n    for (var toolbar_ind in mpl.toolbar_items) {\n        var name = mpl.toolbar_items[toolbar_ind][0];\n        var tooltip = mpl.toolbar_items[toolbar_ind][1];\n        var image = mpl.toolbar_items[toolbar_ind][2];\n        var method_name = mpl.toolbar_items[toolbar_ind][3];\n\n        if (!name) {\n            /* Instead of a spacer, we start a new button group. */\n            if (buttonGroup.hasChildNodes()) {\n                toolbar.appendChild(buttonGroup);\n            }\n            buttonGroup = document.createElement('div');\n            buttonGroup.classList = 'btn-group';\n            continue;\n        }\n\n        button = fig.buttons[name] = document.createElement('button');\n        button.classList = 'btn btn-default';\n        button.href = '#';\n        button.title = name;\n        button.innerHTML = '<i class=\"fa ' + image + ' fa-lg\"></i>';\n        button.addEventListener('click', on_click_closure(method_name));\n        button.addEventListener('mouseover', on_mouseover_closure(tooltip));\n        buttonGroup.appendChild(button);\n    }\n\n    if (buttonGroup.hasChildNodes()) {\n        toolbar.appendChild(buttonGroup);\n    }\n\n    // Add the status bar.\n    var status_bar = document.createElement('span');\n    status_bar.classList = 'mpl-message pull-right';\n    toolbar.appendChild(status_bar);\n    this.message = status_bar;\n\n    // Add the close button to the window.\n    var buttongrp = document.createElement('div');\n    buttongrp.classList = 'btn-group inline pull-right';\n    button = document.createElement('button');\n    button.classList = 'btn btn-mini btn-primary';\n    button.href = '#';\n    button.title = 'Stop Interaction';\n    button.innerHTML = '<i class=\"fa fa-power-off icon-remove icon-large\"></i>';\n    button.addEventListener('click', function (_evt) {\n        fig.handle_close(fig, {});\n    });\n    button.addEventListener(\n        'mouseover',\n        on_mouseover_closure('Stop Interaction')\n    );\n    buttongrp.appendChild(button);\n    var titlebar = this.root.querySelector('.ui-dialog-titlebar');\n    titlebar.insertBefore(buttongrp, titlebar.firstChild);\n};\n\nmpl.figure.prototype._remove_fig_handler = function (event) {\n    var fig = event.data.fig;\n    if (event.target !== this) {\n        // Ignore bubbled events from children.\n        return;\n    }\n    fig.close_ws(fig, {});\n};\n\nmpl.figure.prototype._root_extra_style = function (el) {\n    el.style.boxSizing = 'content-box'; // override notebook setting of border-box.\n};\n\nmpl.figure.prototype._canvas_extra_style = function (el) {\n    // this is important to make the div 'focusable\n    el.setAttribute('tabindex', 0);\n    // reach out to IPython and tell the keyboard manager to turn it's self\n    // off when our div gets focus\n\n    // location in version 3\n    if (IPython.notebook.keyboard_manager) {\n        IPython.notebook.keyboard_manager.register_events(el);\n    } else {\n        // location in version 2\n        IPython.keyboard_manager.register_events(el);\n    }\n};\n\nmpl.figure.prototype._key_event_extra = function (event, _name) {\n    // Check for shift+enter\n    if (event.shiftKey && event.which === 13) {\n        this.canvas_div.blur();\n        // select the cell after this one\n        var index = IPython.notebook.find_cell_index(this.cell_info[0]);\n        IPython.notebook.select(index + 1);\n    }\n};\n\nmpl.figure.prototype.handle_save = function (fig, _msg) {\n    fig.ondownload(fig, null);\n};\n\nmpl.find_output_cell = function (html_output) {\n    // Return the cell and output element which can be found *uniquely* in the notebook.\n    // Note - this is a bit hacky, but it is done because the \"notebook_saving.Notebook\"\n    // IPython event is triggered only after the cells have been serialised, which for\n    // our purposes (turning an active figure into a static one), is too late.\n    var cells = IPython.notebook.get_cells();\n    var ncells = cells.length;\n    for (var i = 0; i < ncells; i++) {\n        var cell = cells[i];\n        if (cell.cell_type === 'code') {\n            for (var j = 0; j < cell.output_area.outputs.length; j++) {\n                var data = cell.output_area.outputs[j];\n                if (data.data) {\n                    // IPython >= 3 moved mimebundle to data attribute of output\n                    data = data.data;\n                }\n                if (data['text/html'] === html_output) {\n                    return [cell, data, j];\n                }\n            }\n        }\n    }\n};\n\n// Register the function which deals with the matplotlib target/channel.\n// The kernel may be null if the page has been refreshed.\nif (IPython.notebook.kernel !== null) {\n    IPython.notebook.kernel.comm_manager.register_target(\n        'matplotlib',\n        mpl.mpl_figure_comm\n    );\n}\n",
          "text/plain": "<IPython.core.display.Javascript object>"
         },
         "metadata": {},
         "output_type": "display_data"
        },
        {
         "data": {
          "text/html": "<div id='5280a4e4-e9d8-462b-8f1a-9ef3c6b3387e'></div>",
          "text/plain": "<IPython.core.display.HTML object>"
         },
         "metadata": {},
         "output_type": "display_data"
        },
        {
         "name": "stdout",
         "output_type": "stream",
         "text": "Efficience interception lumière = 0.3397506809506015\n"
        },
        {
         "data": {
          "application/vnd.jupyter.widget-view+json": {
           "model_id": "7dd72814a7b64e2cb8c5fc3335f9545d",
           "version_major": 2,
           "version_minor": 0
          },
          "text/plain": "SceneWidget(scenes=[{'id': 'X6NrPBZUbuWttvHeBYJ3o7py5', 'data': b'x\\xda\\x94\\xdd\\x07|\\x15e\\xd6?\\xf0\\xa8\\x08\\x8a…"
         },
         "metadata": {},
         "output_type": "display_data"
        }
       ]
      }
     },
     "59b1196d64ce487aaa56e85752215d6e": {
      "model_module": "@jupyter-widgets/base",
      "model_module_version": "2.0.0",
      "model_name": "LayoutModel",
      "state": {}
     },
     "5bdf1d79e0eb4065b92f391625fcd8bc": {
      "model_module": "@jupyter-widgets/controls",
      "model_module_version": "2.0.0",
      "model_name": "SliderStyleModel",
      "state": {
       "description_width": ""
      }
     },
     "5d50d7eb668d42f7804b1d218e35f4fb": {
      "model_module": "@jupyter-widgets/controls",
      "model_module_version": "2.0.0",
      "model_name": "SliderStyleModel",
      "state": {
       "description_width": ""
      }
     },
     "5de838ba946b43f9bb2eec9fce2dca5a": {
      "model_module": "@jupyter-widgets/controls",
      "model_module_version": "2.0.0",
      "model_name": "DescriptionStyleModel",
      "state": {
       "description_width": ""
      }
     },
     "5ea6b3a4833b48198c4cb72f4e343d27": {
      "model_module": "@jupyter-widgets/controls",
      "model_module_version": "2.0.0",
      "model_name": "SliderStyleModel",
      "state": {
       "description_width": ""
      }
     },
     "5f6a2e4da35d4396be17e7d570c08bfc": {
      "model_module": "@jupyter-widgets/controls",
      "model_module_version": "2.0.0",
      "model_name": "HBoxModel",
      "state": {
       "children": [
        "IPY_MODEL_85090cef01ae4ec4a8e6b3a84a942342",
        "IPY_MODEL_d17c8ff391dd400dafa59d632aaee47a",
        "IPY_MODEL_eec91831fb944bd3acca1410862b5657"
       ],
       "layout": "IPY_MODEL_f7051f4440c74f7da2169f9f60f7709d"
      }
     },
     "6084b8cccd5e42488bad7e1a22e26cd9": {
      "model_module": "@jupyter-widgets/controls",
      "model_module_version": "2.0.0",
      "model_name": "IntSliderModel",
      "state": {
       "behavior": "drag-tap",
       "description": "distance",
       "layout": "IPY_MODEL_e15c40be89a141c5bc3a67e9d0ecf14b",
       "max": 60,
       "step": 15,
       "style": "IPY_MODEL_5bdf1d79e0eb4065b92f391625fcd8bc"
      }
     },
     "60ab8e8f59a2463ab58cbd4d5e194d88": {
      "model_module": "@jupyter-widgets/controls",
      "model_module_version": "2.0.0",
      "model_name": "CheckboxModel",
      "state": {
       "description": "Auto apply",
       "disabled": false,
       "layout": "IPY_MODEL_b37fea7b306c43e8b388a816b432b762",
       "style": "IPY_MODEL_81404d279ce04d3bbfbfd3c6e2adb0db",
       "value": false
      }
     },
     "63b6c7e2e5d845f79a410e2a547e81f1": {
      "buffers": [
       {
        "data": "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",
        "encoding": "base64",
        "path": [
         "scene",
         "data"
        ]
       }
      ],
      "model_module": "pgljupyter",
      "model_module_version": "^2.0.0",
      "model_name": "LsystemWidgetModel",
      "state": {
       "_model_module_version": "^2.0.0",
       "_view_module_version": "^2.0.0",
       "axes_helper": false,
       "derivationLength": 2,
       "layout": "IPY_MODEL_08a642df268847c98864098f11f2dac1",
       "light_helper": false,
       "plane": true,
       "scene": {
        "derivationStep": null,
        "id": null,
        "scene": "<openalea.plantgl.scenegraph._pglsg.Scene object at 0x14f9b6030>"
       },
       "size_display": [
        400,
        400
       ],
       "size_world": 0.4,
       "unit": 2
      }
     },
     "64409057aa9a47ad9e6a32bb4a303770": {
      "model_module": "@jupyter-widgets/controls",
      "model_module_version": "2.0.0",
      "model_name": "TextStyleModel",
      "state": {
       "description_width": "",
       "font_size": null,
       "text_color": null
      }
     },
     "64c0d72988304d65b0c65f9150366b9a": {
      "model_module": "@jupyter-widgets/controls",
      "model_module_version": "2.0.0",
      "model_name": "ButtonModel",
      "state": {
       "description": "Apply changes",
       "layout": "IPY_MODEL_6dd3c7d0901340fbb144bb778c37a6f5",
       "style": "IPY_MODEL_2c04f26cd9254428b825fb5a6f1c2b1d",
       "tooltip": null
      }
     },
     "672411666e8a48f69f9239ecf35ae32d": {
      "model_module": "@jupyter-widgets/controls",
      "model_module_version": "2.0.0",
      "model_name": "ButtonModel",
      "state": {
       "description": "Add category",
       "layout": "IPY_MODEL_90cbefaf46b1409d8d219d3479c21cf4",
       "style": "IPY_MODEL_03f8ef5bc0c24197be3693f99909a584",
       "tooltip": null
      }
     },
     "6d6cc58a84c9433698c65aa484932c30": {
      "model_module": "@jupyter-widgets/controls",
      "model_module_version": "2.0.0",
      "model_name": "VBoxModel",
      "state": {
       "children": [
        "IPY_MODEL_a52235a32b194bc5a5c8c29579728b19",
        "IPY_MODEL_ea806f9fb407405e9103f343a1ec9425"
       ],
       "layout": "IPY_MODEL_d4e0f42d4b3d41d8942d35c3ee18c977"
      }
     },
     "6dd3c7d0901340fbb144bb778c37a6f5": {
      "model_module": "@jupyter-widgets/base",
      "model_module_version": "2.0.0",
      "model_name": "LayoutModel",
      "state": {}
     },
     "70122cfb74234665aab2fe9051cbe53d": {
      "model_module": "@jupyter-widgets/controls",
      "model_module_version": "2.0.0",
      "model_name": "SliderStyleModel",
      "state": {
       "description_width": ""
      }
     },
     "70d28482b37849db8cae755ac27aa7b3": {
      "model_module": "@jupyter-widgets/controls",
      "model_module_version": "2.0.0",
      "model_name": "IntSliderModel",
      "state": {
       "behavior": "drag-tap",
       "description": "hour",
       "layout": "IPY_MODEL_b5d121bb86ca455ab5411e1536f26620",
       "max": 18,
       "min": 6,
       "style": "IPY_MODEL_5d50d7eb668d42f7804b1d218e35f4fb",
       "value": 10
      }
     },
     "72b4b8efabdf4e4f9d174a23197cfe38": {
      "model_module": "@jupyter-widgets/controls",
      "model_module_version": "2.0.0",
      "model_name": "ColorPickerModel",
      "state": {
       "description": "ambient",
       "disabled": false,
       "layout": "IPY_MODEL_ce86b1bf5cb74000bd314e6b41f1305b",
       "style": "IPY_MODEL_54603c5bb617411f93c9114514ed02d2",
       "value": "#2cc330"
      }
     },
     "7414360ab9de4a19a1ba509276399fd7": {
      "model_module": "@jupyter-widgets/controls",
      "model_module_version": "2.0.0",
      "model_name": "FloatTextModel",
      "state": {
       "description": "max",
       "layout": "IPY_MODEL_03a7562f297448ca8b9266d1df510c36",
       "step": 0.01,
       "style": "IPY_MODEL_303e53b7735f4febb175c19f8cca7f9b",
       "value": 2
      }
     },
     "748dba79d8b944c3b0d05e3b1d4f4e02": {
      "model_module": "@jupyter-widgets/base",
      "model_module_version": "2.0.0",
      "model_name": "LayoutModel",
      "state": {}
     },
     "7ba0a9e3775540a1b7fe30ec9294820f": {
      "model_module": "@jupyter-widgets/controls",
      "model_module_version": "2.0.0",
      "model_name": "ButtonStyleModel",
      "state": {
       "font_family": null,
       "font_size": null,
       "font_style": null,
       "font_variant": null,
       "font_weight": null,
       "text_color": null,
       "text_decoration": null
      }
     },
     "7d99167be0844c94b5f8a042c5c09109": {
      "model_module": "@jupyter-widgets/base",
      "model_module_version": "2.0.0",
      "model_name": "LayoutModel",
      "state": {
       "margin": "5px"
      }
     },
     "7dd72814a7b64e2cb8c5fc3335f9545d": {
      "buffers": [
       {
        "data": "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",
        "encoding": "base64",
        "path": [
         "scenes",
         0,
         "data"
        ]
       }
      ],
      "model_module": "pgljupyter",
      "model_module_version": "^2.0.0",
      "model_name": "SceneWidgetModel",
      "state": {
       "_model_module_version": "^2.0.0",
       "_view_module_version": "^2.0.0",
       "axes_helper": false,
       "layout": "IPY_MODEL_101888cf3cbd48fdbc32840d1525de30",
       "light_helper": false,
       "plane": true,
       "scenes": [
        {
         "id": "X6NrPBZUbuWttvHeBYJ3o7py5",
         "position": [
          0,
          0,
          0
         ],
         "scale": 1,
         "scene": "<openalea.plantgl.scenegraph._pglsg.Scene object at 0x14fabfd30>"
        }
       ],
       "size_display": [
        400,
        400
       ],
       "size_world": 75
      }
     },
     "7f0b9329fa5643e2936856f37cbfbb58": {
      "model_module": "@jupyter-widgets/base",
      "model_module_version": "2.0.0",
      "model_name": "LayoutModel",
      "state": {}
     },
     "7f48a0d9b9a147f6b1274273f6c2e093": {
      "model_module": "@jupyter-widgets/base",
      "model_module_version": "2.0.0",
      "model_name": "LayoutModel",
      "state": {}
     },
     "7fc5ea1ea1ef4ebe991b0bd4f4422e3a": {
      "model_module": "@jupyter-widgets/controls",
      "model_module_version": "2.0.0",
      "model_name": "ButtonModel",
      "state": {
       "description": "Add",
       "layout": "IPY_MODEL_5350469d3770403196b1945c6e5a335f",
       "style": "IPY_MODEL_11d93dfa82d1468c8d24aa35972c0ff8",
       "tooltip": null
      }
     },
     "81404d279ce04d3bbfbfd3c6e2adb0db": {
      "model_module": "@jupyter-widgets/controls",
      "model_module_version": "2.0.0",
      "model_name": "CheckboxStyleModel",
      "state": {
       "description_width": ""
      }
     },
     "81e5e0ad3c144745815cdadfe700c4c1": {
      "model_module": "@jupyter-widgets/base",
      "model_module_version": "2.0.0",
      "model_name": "LayoutModel",
      "state": {}
     },
     "85090cef01ae4ec4a8e6b3a84a942342": {
      "model_module": "@jupyter-widgets/controls",
      "model_module_version": "2.0.0",
      "model_name": "HBoxModel",
      "state": {
       "children": [
        "IPY_MODEL_64c0d72988304d65b0c65f9150366b9a",
        "IPY_MODEL_60ab8e8f59a2463ab58cbd4d5e194d88"
       ],
       "layout": "IPY_MODEL_ff88ef320b094c8198ee6aae1a70636b"
      }
     },
     "8702adb148ed4c7cb943776c134e5c0b": {
      "model_module": "@jupyter-widgets/controls",
      "model_module_version": "2.0.0",
      "model_name": "HBoxModel",
      "state": {
       "children": [
        "IPY_MODEL_b5c34ce481d54cb6a9ddd5814f43f2af",
        "IPY_MODEL_406354784e064fbdb31e4e72b762602a"
       ],
       "layout": "IPY_MODEL_f3b173254fb04c92b8d9b35e84ab37ea"
      }
     },
     "882e5fdf3a704eec8ff4ad9e780619bb": {
      "model_module": "@jupyter-widgets/controls",
      "model_module_version": "2.0.0",
      "model_name": "FloatTextModel",
      "state": {
       "description": "min",
       "layout": "IPY_MODEL_5086b1d7155f4dd0b5fadfba79ece336",
       "step": 0.01,
       "style": "IPY_MODEL_89c1daa6b66644218812c37531d828a8",
       "value": 0.5
      }
     },
     "89c1daa6b66644218812c37531d828a8": {
      "model_module": "@jupyter-widgets/controls",
      "model_module_version": "2.0.0",
      "model_name": "DescriptionStyleModel",
      "state": {
       "description_width": ""
      }
     },
     "89c5cb23bd964992a3112510b687bdf0": {
      "model_module": "@jupyter-widgets/controls",
      "model_module_version": "2.0.0",
      "model_name": "ButtonStyleModel",
      "state": {
       "font_family": null,
       "font_size": null,
       "font_style": null,
       "font_variant": null,
       "font_weight": null,
       "text_color": null,
       "text_decoration": null
      }
     },
     "8b83ef3f05af474bae9b7025085408cf": {
      "model_module": "@jupyter-widgets/base",
      "model_module_version": "2.0.0",
      "model_name": "LayoutModel",
      "state": {}
     },
     "8d9fbbba59114bd68618865e12ea1734": {
      "model_module": "@jupyter-widgets/base",
      "model_module_version": "2.0.0",
      "model_name": "LayoutModel",
      "state": {}
     },
     "90cbefaf46b1409d8d219d3479c21cf4": {
      "model_module": "@jupyter-widgets/base",
      "model_module_version": "2.0.0",
      "model_name": "LayoutModel",
      "state": {}
     },
     "9386c94de0304cf3b074ea49772d1080": {
      "model_module": "@jupyter-widgets/base",
      "model_module_version": "2.0.0",
      "model_name": "LayoutModel",
      "state": {}
     },
     "9626b99b0be844899da842e8c401cf4f": {
      "model_module": "@jupyter-widgets/base",
      "model_module_version": "2.0.0",
      "model_name": "LayoutModel",
      "state": {}
     },
     "97a98f5f8cb64193ab3f7b4f0ceeff14": {
      "model_module": "@jupyter-widgets/base",
      "model_module_version": "2.0.0",
      "model_name": "LayoutModel",
      "state": {}
     },
     "97b7cfd77c3b4fa4a33c3a63186d98d1": {
      "model_module": "@jupyter-widgets/controls",
      "model_module_version": "2.0.0",
      "model_name": "ColorPickerModel",
      "state": {
       "description": "specular",
       "disabled": false,
       "layout": "IPY_MODEL_7f0b9329fa5643e2936856f37cbfbb58",
       "style": "IPY_MODEL_e06d95028cda43488fd60a9cfa0cc5f1",
       "value": "#000000"
      }
     },
     "9877c8716e684473ab99aca64bfeaecd": {
      "model_module": "@jupyter-widgets/controls",
      "model_module_version": "2.0.0",
      "model_name": "BoundedIntTextModel",
      "state": {
       "description": "precision",
       "layout": "IPY_MODEL_a33eb11442c0436ca7ae279cd09e95b6",
       "max": 10,
       "style": "IPY_MODEL_33a0852ee9a54479bb5777fab691d787",
       "value": 2
      }
     },
     "98a7166a5485404ea7dd6155fc629b7e": {
      "model_module": "@jupyter-widgets/base",
      "model_module_version": "2.0.0",
      "model_name": "LayoutModel",
      "state": {}
     },
     "9dbd4f0426b14a0c870538de6d569ad4": {
      "model_module": "@jupyter-widgets/base",
      "model_module_version": "2.0.0",
      "model_name": "LayoutModel",
      "state": {}
     },
     "9de1800afe14440fb46051e1bea8088c": {
      "model_module": "@jupyter-widgets/controls",
      "model_module_version": "2.0.0",
      "model_name": "VBoxModel",
      "state": {
       "_dom_classes": [
        "widget-interact"
       ],
       "children": [
        "IPY_MODEL_70d28482b37849db8cae755ac27aa7b3",
        "IPY_MODEL_592eac65507a4f7d8a695603da1ed16c"
       ],
       "layout": "IPY_MODEL_bd08eb515283434fbb763fc90b9f3d4c"
      }
     },
     "9e2ea2b6fee147d0be86b0225e2b4ea6": {
      "model_module": "@jupyter-widgets/base",
      "model_module_version": "2.0.0",
      "model_name": "LayoutModel",
      "state": {}
     },
     "9e43703496f84638a044ff628ce052c0": {
      "model_module": "@jupyter-widgets/base",
      "model_module_version": "2.0.0",
      "model_name": "LayoutModel",
      "state": {
       "margin": "10px 10px"
      }
     },
     "a33eb11442c0436ca7ae279cd09e95b6": {
      "model_module": "@jupyter-widgets/base",
      "model_module_version": "2.0.0",
      "model_name": "LayoutModel",
      "state": {}
     },
     "a52235a32b194bc5a5c8c29579728b19": {
      "model_module": "@jupyter-widgets/controls",
      "model_module_version": "2.0.0",
      "model_name": "HBoxModel",
      "state": {
       "children": [
        "IPY_MODEL_7fc5ea1ea1ef4ebe991b0bd4f4422e3a",
        "IPY_MODEL_24355dfb2f7f4da6bcf0c694b9533a4d"
       ],
       "layout": "IPY_MODEL_19c8e283f07b4560b2fd480e18466fa5"
      }
     },
     "a5e1356662ad4810a9af702eeb1be668": {
      "model_module": "pgljupyter",
      "model_module_version": "^2.0.0",
      "model_name": "FloatEditorModel",
      "state": {
       "_model_module_version": "^2.0.0",
       "_view_module_version": "^2.0.0",
       "children": [
        "IPY_MODEL_1fceedb3a677400186b147b33d3d3a12",
        "IPY_MODEL_b4121a74d162425bb8e3dab2d6c4f40c",
        "IPY_MODEL_882e5fdf3a704eec8ff4ad9e780619bb",
        "IPY_MODEL_7414360ab9de4a19a1ba509276399fd7",
        "IPY_MODEL_c18f5717671548338c4c62882929eb50",
        "IPY_MODEL_9877c8716e684473ab99aca64bfeaecd"
       ],
       "layout": "IPY_MODEL_b6ece207dd4f464cab98da68b113f807"
      }
     },
     "a661231f2b8d428c8566810fa150bb4d": {
      "model_module": "@jupyter-widgets/controls",
      "model_module_version": "2.0.0",
      "model_name": "HBoxModel",
      "state": {
       "children": [
        "IPY_MODEL_e8999b6c58db48e887b6bdf4d2e32763",
        "IPY_MODEL_12757d91614e4ee5af1f1690399fa55b"
       ],
       "layout": "IPY_MODEL_328c4a26be554f3fae8aeae97b329031"
      }
     },
     "a6784a6530c34d5bb30769facd99aa81": {
      "model_module": "@jupyter-widgets/base",
      "model_module_version": "2.0.0",
      "model_name": "LayoutModel",
      "state": {}
     },
     "a971498e85db45fab0c33c195fff6d15": {
      "model_module": "@jupyter-widgets/controls",
      "model_module_version": "2.0.0",
      "model_name": "DescriptionStyleModel",
      "state": {
       "description_width": ""
      }
     },
     "ac55db0958aa4977a6de163f1ed842d9": {
      "model_module": "@jupyter-widgets/base",
      "model_module_version": "2.0.0",
      "model_name": "LayoutModel",
      "state": {}
     },
     "aeca05e4f21943a9a8cb5c8e83badfc5": {
      "model_module": "@jupyter-widgets/base",
      "model_module_version": "2.0.0",
      "model_name": "LayoutModel",
      "state": {}
     },
     "b115e9d099124828a6c1feef273c27e3": {
      "model_module": "@jupyter-widgets/controls",
      "model_module_version": "2.0.0",
      "model_name": "IntSliderModel",
      "state": {
       "behavior": "drag-tap",
       "description": "inclination_factor",
       "layout": "IPY_MODEL_98a7166a5485404ea7dd6155fc629b7e",
       "max": 3,
       "min": -1,
       "style": "IPY_MODEL_49e84ab77d8e45aa828efa6f8cc34384",
       "value": 1
      }
     },
     "b37fea7b306c43e8b388a816b432b762": {
      "model_module": "@jupyter-widgets/base",
      "model_module_version": "2.0.0",
      "model_name": "LayoutModel",
      "state": {}
     },
     "b4121a74d162425bb8e3dab2d6c4f40c": {
      "model_module": "@jupyter-widgets/controls",
      "model_module_version": "2.0.0",
      "model_name": "FloatSliderModel",
      "state": {
       "behavior": "drag-tap",
       "continuous_update": false,
       "description": "value",
       "layout": "IPY_MODEL_8d9fbbba59114bd68618865e12ea1734",
       "max": 2,
       "min": 0.5,
       "step": 0.01,
       "style": "IPY_MODEL_5ea6b3a4833b48198c4cb72f4e343d27",
       "value": 1
      }
     },
     "b4a027dbdca04eb7b8f4b2df7db53d6b": {
      "model_module": "@jupyter-widgets/controls",
      "model_module_version": "2.0.0",
      "model_name": "DescriptionStyleModel",
      "state": {
       "description_width": ""
      }
     },
     "b57f50e7cec44f7ebcfd793fe0b41faa": {
      "model_module": "@jupyter-widgets/base",
      "model_module_version": "2.0.0",
      "model_name": "LayoutModel",
      "state": {}
     },
     "b5c34ce481d54cb6a9ddd5814f43f2af": {
      "model_module": "@jupyter-widgets/controls",
      "model_module_version": "2.0.0",
      "model_name": "ButtonModel",
      "state": {
       "description": "Add",
       "layout": "IPY_MODEL_1dc74d8f1d6c48f4b92f58caf8704b88",
       "style": "IPY_MODEL_7ba0a9e3775540a1b7fe30ec9294820f",
       "tooltip": null
      }
     },
     "b5d121bb86ca455ab5411e1536f26620": {
      "model_module": "@jupyter-widgets/base",
      "model_module_version": "2.0.0",
      "model_name": "LayoutModel",
      "state": {}
     },
     "b6ece207dd4f464cab98da68b113f807": {
      "model_module": "@jupyter-widgets/base",
      "model_module_version": "2.0.0",
      "model_name": "LayoutModel",
      "state": {
       "margin": "10px 10px"
      }
     },
     "b6f40adcbf6a4fbf94fbbb4c1856eeb3": {
      "model_module": "@jupyter-widgets/base",
      "model_module_version": "2.0.0",
      "model_name": "LayoutModel",
      "state": {
       "flex_flow": "row wrap",
       "margin": "20px"
      }
     },
     "b7671d7cb5e540f1902fd99c511cdb35": {
      "model_module": "@jupyter-widgets/controls",
      "model_module_version": "2.0.0",
      "model_name": "FloatTextModel",
      "state": {
       "description": "min",
       "layout": "IPY_MODEL_9e2ea2b6fee147d0be86b0225e2b4ea6",
       "step": 0.01,
       "style": "IPY_MODEL_16dd0de6d959423d925e82d7c4fcddd0",
       "value": 0.5
      }
     },
     "bd08eb515283434fbb763fc90b9f3d4c": {
      "model_module": "@jupyter-widgets/base",
      "model_module_version": "2.0.0",
      "model_name": "LayoutModel",
      "state": {}
     },
     "bd983dfb84eb414bbc4aa86cae13e88d": {
      "model_module": "@jupyter-widgets/base",
      "model_module_version": "2.0.0",
      "model_name": "LayoutModel",
      "state": {}
     },
     "bf33bf810cf94577b120f07df5737723": {
      "model_module": "@jupyter-widgets/base",
      "model_module_version": "2.0.0",
      "model_name": "LayoutModel",
      "state": {}
     },
     "c09cb4305ead49af8a2b7831fd29d6ff": {
      "model_module": "@jupyter-widgets/output",
      "model_module_version": "1.0.0",
      "model_name": "OutputModel",
      "state": {
       "layout": "IPY_MODEL_97a98f5f8cb64193ab3f7b4f0ceeff14",
       "outputs": [
        {
         "data": {
          "application/javascript": "/* Put everything inside the global mpl namespace */\n/* global mpl */\nwindow.mpl = {};\n\nmpl.get_websocket_type = function () {\n    if (typeof WebSocket !== 'undefined') {\n        return WebSocket;\n    } else if (typeof MozWebSocket !== 'undefined') {\n        return MozWebSocket;\n    } else {\n        alert(\n            'Your browser does not have WebSocket support. ' +\n                'Please try Chrome, Safari or Firefox ≥ 6. ' +\n                'Firefox 4 and 5 are also supported but you ' +\n                'have to enable WebSockets in about:config.'\n        );\n    }\n};\n\nmpl.figure = function (figure_id, websocket, ondownload, parent_element) {\n    this.id = figure_id;\n\n    this.ws = websocket;\n\n    this.supports_binary = this.ws.binaryType !== undefined;\n\n    if (!this.supports_binary) {\n        var warnings = document.getElementById('mpl-warnings');\n        if (warnings) {\n            warnings.style.display = 'block';\n            warnings.textContent =\n                'This browser does not support binary websocket messages. ' +\n                'Performance may be slow.';\n        }\n    }\n\n    this.imageObj = new Image();\n\n    this.context = undefined;\n    this.message = undefined;\n    this.canvas = undefined;\n    this.rubberband_canvas = undefined;\n    this.rubberband_context = undefined;\n    this.format_dropdown = undefined;\n\n    this.image_mode = 'full';\n\n    this.root = document.createElement('div');\n    this.root.setAttribute('style', 'display: inline-block');\n    this._root_extra_style(this.root);\n\n    parent_element.appendChild(this.root);\n\n    this._init_header(this);\n    this._init_canvas(this);\n    this._init_toolbar(this);\n\n    var fig = this;\n\n    this.waiting = false;\n\n    this.ws.onopen = function () {\n        fig.send_message('supports_binary', { value: fig.supports_binary });\n        fig.send_message('send_image_mode', {});\n        if (fig.ratio !== 1) {\n            fig.send_message('set_device_pixel_ratio', {\n                device_pixel_ratio: fig.ratio,\n            });\n        }\n        fig.send_message('refresh', {});\n    };\n\n    this.imageObj.onload = function () {\n        if (fig.image_mode === 'full') {\n            // Full images could contain transparency (where diff images\n            // almost always do), so we need to clear the canvas so that\n            // there is no ghosting.\n            fig.context.clearRect(0, 0, fig.canvas.width, fig.canvas.height);\n        }\n        fig.context.drawImage(fig.imageObj, 0, 0);\n    };\n\n    this.imageObj.onunload = function () {\n        fig.ws.close();\n    };\n\n    this.ws.onmessage = this._make_on_message_function(this);\n\n    this.ondownload = ondownload;\n};\n\nmpl.figure.prototype._init_header = function () {\n    var titlebar = document.createElement('div');\n    titlebar.classList =\n        'ui-dialog-titlebar ui-widget-header ui-corner-all ui-helper-clearfix';\n    var titletext = document.createElement('div');\n    titletext.classList = 'ui-dialog-title';\n    titletext.setAttribute(\n        'style',\n        'width: 100%; text-align: center; padding: 3px;'\n    );\n    titlebar.appendChild(titletext);\n    this.root.appendChild(titlebar);\n    this.header = titletext;\n};\n\nmpl.figure.prototype._canvas_extra_style = function (_canvas_div) {};\n\nmpl.figure.prototype._root_extra_style = function (_canvas_div) {};\n\nmpl.figure.prototype._init_canvas = function () {\n    var fig = this;\n\n    var canvas_div = (this.canvas_div = document.createElement('div'));\n    canvas_div.setAttribute('tabindex', '0');\n    canvas_div.setAttribute(\n        'style',\n        'border: 1px solid #ddd;' +\n            'box-sizing: content-box;' +\n            'clear: both;' +\n            'min-height: 1px;' +\n            'min-width: 1px;' +\n            'outline: 0;' +\n            'overflow: hidden;' +\n            'position: relative;' +\n            'resize: both;' +\n            'z-index: 2;'\n    );\n\n    function on_keyboard_event_closure(name) {\n        return function (event) {\n            return fig.key_event(event, name);\n        };\n    }\n\n    canvas_div.addEventListener(\n        'keydown',\n        on_keyboard_event_closure('key_press')\n    );\n    canvas_div.addEventListener(\n        'keyup',\n        on_keyboard_event_closure('key_release')\n    );\n\n    this._canvas_extra_style(canvas_div);\n    this.root.appendChild(canvas_div);\n\n    var canvas = (this.canvas = document.createElement('canvas'));\n    canvas.classList.add('mpl-canvas');\n    canvas.setAttribute(\n        'style',\n        'box-sizing: content-box;' +\n            'pointer-events: none;' +\n            'position: relative;' +\n            'z-index: 0;'\n    );\n\n    this.context = canvas.getContext('2d');\n\n    var backingStore =\n        this.context.backingStorePixelRatio ||\n        this.context.webkitBackingStorePixelRatio ||\n        this.context.mozBackingStorePixelRatio ||\n        this.context.msBackingStorePixelRatio ||\n        this.context.oBackingStorePixelRatio ||\n        this.context.backingStorePixelRatio ||\n        1;\n\n    this.ratio = (window.devicePixelRatio || 1) / backingStore;\n\n    var rubberband_canvas = (this.rubberband_canvas = document.createElement(\n        'canvas'\n    ));\n    rubberband_canvas.setAttribute(\n        'style',\n        'box-sizing: content-box;' +\n            'left: 0;' +\n            'pointer-events: none;' +\n            'position: absolute;' +\n            'top: 0;' +\n            'z-index: 1;'\n    );\n\n    // Apply a ponyfill if ResizeObserver is not implemented by browser.\n    if (this.ResizeObserver === undefined) {\n        if (window.ResizeObserver !== undefined) {\n            this.ResizeObserver = window.ResizeObserver;\n        } else {\n            var obs = _JSXTOOLS_RESIZE_OBSERVER({});\n            this.ResizeObserver = obs.ResizeObserver;\n        }\n    }\n\n    this.resizeObserverInstance = new this.ResizeObserver(function (entries) {\n        var nentries = entries.length;\n        for (var i = 0; i < nentries; i++) {\n            var entry = entries[i];\n            var width, height;\n            if (entry.contentBoxSize) {\n                if (entry.contentBoxSize instanceof Array) {\n                    // Chrome 84 implements new version of spec.\n                    width = entry.contentBoxSize[0].inlineSize;\n                    height = entry.contentBoxSize[0].blockSize;\n                } else {\n                    // Firefox implements old version of spec.\n                    width = entry.contentBoxSize.inlineSize;\n                    height = entry.contentBoxSize.blockSize;\n                }\n            } else {\n                // Chrome <84 implements even older version of spec.\n                width = entry.contentRect.width;\n                height = entry.contentRect.height;\n            }\n\n            // Keep the size of the canvas and rubber band canvas in sync with\n            // the canvas container.\n            if (entry.devicePixelContentBoxSize) {\n                // Chrome 84 implements new version of spec.\n                canvas.setAttribute(\n                    'width',\n                    entry.devicePixelContentBoxSize[0].inlineSize\n                );\n                canvas.setAttribute(\n                    'height',\n                    entry.devicePixelContentBoxSize[0].blockSize\n                );\n            } else {\n                canvas.setAttribute('width', width * fig.ratio);\n                canvas.setAttribute('height', height * fig.ratio);\n            }\n            /* This rescales the canvas back to display pixels, so that it\n             * appears correct on HiDPI screens. */\n            canvas.style.width = width + 'px';\n            canvas.style.height = height + 'px';\n\n            rubberband_canvas.setAttribute('width', width);\n            rubberband_canvas.setAttribute('height', height);\n\n            // And update the size in Python. We ignore the initial 0/0 size\n            // that occurs as the element is placed into the DOM, which should\n            // otherwise not happen due to the minimum size styling.\n            if (fig.ws.readyState == 1 && width != 0 && height != 0) {\n                fig.request_resize(width, height);\n            }\n        }\n    });\n    this.resizeObserverInstance.observe(canvas_div);\n\n    function on_mouse_event_closure(name) {\n        /* User Agent sniffing is bad, but WebKit is busted:\n         * https://bugs.webkit.org/show_bug.cgi?id=144526\n         * https://bugs.webkit.org/show_bug.cgi?id=181818\n         * The worst that happens here is that they get an extra browser\n         * selection when dragging, if this check fails to catch them.\n         */\n        var UA = navigator.userAgent;\n        var isWebKit = /AppleWebKit/.test(UA) && !/Chrome/.test(UA);\n        if(isWebKit) {\n            return function (event) {\n                /* This prevents the web browser from automatically changing to\n                 * the text insertion cursor when the button is pressed. We\n                 * want to control all of the cursor setting manually through\n                 * the 'cursor' event from matplotlib */\n                event.preventDefault()\n                return fig.mouse_event(event, name);\n            };\n        } else {\n            return function (event) {\n                return fig.mouse_event(event, name);\n            };\n        }\n    }\n\n    canvas_div.addEventListener(\n        'mousedown',\n        on_mouse_event_closure('button_press')\n    );\n    canvas_div.addEventListener(\n        'mouseup',\n        on_mouse_event_closure('button_release')\n    );\n    canvas_div.addEventListener(\n        'dblclick',\n        on_mouse_event_closure('dblclick')\n    );\n    // Throttle sequential mouse events to 1 every 20ms.\n    canvas_div.addEventListener(\n        'mousemove',\n        on_mouse_event_closure('motion_notify')\n    );\n\n    canvas_div.addEventListener(\n        'mouseenter',\n        on_mouse_event_closure('figure_enter')\n    );\n    canvas_div.addEventListener(\n        'mouseleave',\n        on_mouse_event_closure('figure_leave')\n    );\n\n    canvas_div.addEventListener('wheel', function (event) {\n        if (event.deltaY < 0) {\n            event.step = 1;\n        } else {\n            event.step = -1;\n        }\n        on_mouse_event_closure('scroll')(event);\n    });\n\n    canvas_div.appendChild(canvas);\n    canvas_div.appendChild(rubberband_canvas);\n\n    this.rubberband_context = rubberband_canvas.getContext('2d');\n    this.rubberband_context.strokeStyle = '#000000';\n\n    this._resize_canvas = function (width, height, forward) {\n        if (forward) {\n            canvas_div.style.width = width + 'px';\n            canvas_div.style.height = height + 'px';\n        }\n    };\n\n    // Disable right mouse context menu.\n    canvas_div.addEventListener('contextmenu', function (_e) {\n        event.preventDefault();\n        return false;\n    });\n\n    function set_focus() {\n        canvas.focus();\n        canvas_div.focus();\n    }\n\n    window.setTimeout(set_focus, 100);\n};\n\nmpl.figure.prototype._init_toolbar = function () {\n    var fig = this;\n\n    var toolbar = document.createElement('div');\n    toolbar.classList = 'mpl-toolbar';\n    this.root.appendChild(toolbar);\n\n    function on_click_closure(name) {\n        return function (_event) {\n            return fig.toolbar_button_onclick(name);\n        };\n    }\n\n    function on_mouseover_closure(tooltip) {\n        return function (event) {\n            if (!event.currentTarget.disabled) {\n                return fig.toolbar_button_onmouseover(tooltip);\n            }\n        };\n    }\n\n    fig.buttons = {};\n    var buttonGroup = document.createElement('div');\n    buttonGroup.classList = 'mpl-button-group';\n    for (var toolbar_ind in mpl.toolbar_items) {\n        var name = mpl.toolbar_items[toolbar_ind][0];\n        var tooltip = mpl.toolbar_items[toolbar_ind][1];\n        var image = mpl.toolbar_items[toolbar_ind][2];\n        var method_name = mpl.toolbar_items[toolbar_ind][3];\n\n        if (!name) {\n            /* Instead of a spacer, we start a new button group. */\n            if (buttonGroup.hasChildNodes()) {\n                toolbar.appendChild(buttonGroup);\n            }\n            buttonGroup = document.createElement('div');\n            buttonGroup.classList = 'mpl-button-group';\n            continue;\n        }\n\n        var button = (fig.buttons[name] = document.createElement('button'));\n        button.classList = 'mpl-widget';\n        button.setAttribute('role', 'button');\n        button.setAttribute('aria-disabled', 'false');\n        button.addEventListener('click', on_click_closure(method_name));\n        button.addEventListener('mouseover', on_mouseover_closure(tooltip));\n\n        var icon_img = document.createElement('img');\n        icon_img.src = '_images/' + image + '.png';\n        icon_img.srcset = '_images/' + image + '_large.png 2x';\n        icon_img.alt = tooltip;\n        button.appendChild(icon_img);\n\n        buttonGroup.appendChild(button);\n    }\n\n    if (buttonGroup.hasChildNodes()) {\n        toolbar.appendChild(buttonGroup);\n    }\n\n    var fmt_picker = document.createElement('select');\n    fmt_picker.classList = 'mpl-widget';\n    toolbar.appendChild(fmt_picker);\n    this.format_dropdown = fmt_picker;\n\n    for (var ind in mpl.extensions) {\n        var fmt = mpl.extensions[ind];\n        var option = document.createElement('option');\n        option.selected = fmt === mpl.default_extension;\n        option.innerHTML = fmt;\n        fmt_picker.appendChild(option);\n    }\n\n    var status_bar = document.createElement('span');\n    status_bar.classList = 'mpl-message';\n    toolbar.appendChild(status_bar);\n    this.message = status_bar;\n};\n\nmpl.figure.prototype.request_resize = function (x_pixels, y_pixels) {\n    // Request matplotlib to resize the figure. Matplotlib will then trigger a resize in the client,\n    // which will in turn request a refresh of the image.\n    this.send_message('resize', { width: x_pixels, height: y_pixels });\n};\n\nmpl.figure.prototype.send_message = function (type, properties) {\n    properties['type'] = type;\n    properties['figure_id'] = this.id;\n    this.ws.send(JSON.stringify(properties));\n};\n\nmpl.figure.prototype.send_draw_message = function () {\n    if (!this.waiting) {\n        this.waiting = true;\n        this.ws.send(JSON.stringify({ type: 'draw', figure_id: this.id }));\n    }\n};\n\nmpl.figure.prototype.handle_save = function (fig, _msg) {\n    var format_dropdown = fig.format_dropdown;\n    var format = format_dropdown.options[format_dropdown.selectedIndex].value;\n    fig.ondownload(fig, format);\n};\n\nmpl.figure.prototype.handle_resize = function (fig, msg) {\n    var size = msg['size'];\n    if (size[0] !== fig.canvas.width || size[1] !== fig.canvas.height) {\n        fig._resize_canvas(size[0], size[1], msg['forward']);\n        fig.send_message('refresh', {});\n    }\n};\n\nmpl.figure.prototype.handle_rubberband = function (fig, msg) {\n    var x0 = msg['x0'] / fig.ratio;\n    var y0 = (fig.canvas.height - msg['y0']) / fig.ratio;\n    var x1 = msg['x1'] / fig.ratio;\n    var y1 = (fig.canvas.height - msg['y1']) / fig.ratio;\n    x0 = Math.floor(x0) + 0.5;\n    y0 = Math.floor(y0) + 0.5;\n    x1 = Math.floor(x1) + 0.5;\n    y1 = Math.floor(y1) + 0.5;\n    var min_x = Math.min(x0, x1);\n    var min_y = Math.min(y0, y1);\n    var width = Math.abs(x1 - x0);\n    var height = Math.abs(y1 - y0);\n\n    fig.rubberband_context.clearRect(\n        0,\n        0,\n        fig.canvas.width / fig.ratio,\n        fig.canvas.height / fig.ratio\n    );\n\n    fig.rubberband_context.strokeRect(min_x, min_y, width, height);\n};\n\nmpl.figure.prototype.handle_figure_label = function (fig, msg) {\n    // Updates the figure title.\n    fig.header.textContent = msg['label'];\n};\n\nmpl.figure.prototype.handle_cursor = function (fig, msg) {\n    fig.canvas_div.style.cursor = msg['cursor'];\n};\n\nmpl.figure.prototype.handle_message = function (fig, msg) {\n    fig.message.textContent = msg['message'];\n};\n\nmpl.figure.prototype.handle_draw = function (fig, _msg) {\n    // Request the server to send over a new figure.\n    fig.send_draw_message();\n};\n\nmpl.figure.prototype.handle_image_mode = function (fig, msg) {\n    fig.image_mode = msg['mode'];\n};\n\nmpl.figure.prototype.handle_history_buttons = function (fig, msg) {\n    for (var key in msg) {\n        if (!(key in fig.buttons)) {\n            continue;\n        }\n        fig.buttons[key].disabled = !msg[key];\n        fig.buttons[key].setAttribute('aria-disabled', !msg[key]);\n    }\n};\n\nmpl.figure.prototype.handle_navigate_mode = function (fig, msg) {\n    if (msg['mode'] === 'PAN') {\n        fig.buttons['Pan'].classList.add('active');\n        fig.buttons['Zoom'].classList.remove('active');\n    } else if (msg['mode'] === 'ZOOM') {\n        fig.buttons['Pan'].classList.remove('active');\n        fig.buttons['Zoom'].classList.add('active');\n    } else {\n        fig.buttons['Pan'].classList.remove('active');\n        fig.buttons['Zoom'].classList.remove('active');\n    }\n};\n\nmpl.figure.prototype.updated_canvas_event = function () {\n    // Called whenever the canvas gets updated.\n    this.send_message('ack', {});\n};\n\n// A function to construct a web socket function for onmessage handling.\n// Called in the figure constructor.\nmpl.figure.prototype._make_on_message_function = function (fig) {\n    return function socket_on_message(evt) {\n        if (evt.data instanceof Blob) {\n            var img = evt.data;\n            if (img.type !== 'image/png') {\n                /* FIXME: We get \"Resource interpreted as Image but\n                 * transferred with MIME type text/plain:\" errors on\n                 * Chrome.  But how to set the MIME type?  It doesn't seem\n                 * to be part of the websocket stream */\n                img.type = 'image/png';\n            }\n\n            /* Free the memory for the previous frames */\n            if (fig.imageObj.src) {\n                (window.URL || window.webkitURL).revokeObjectURL(\n                    fig.imageObj.src\n                );\n            }\n\n            fig.imageObj.src = (window.URL || window.webkitURL).createObjectURL(\n                img\n            );\n            fig.updated_canvas_event();\n            fig.waiting = false;\n            return;\n        } else if (\n            typeof evt.data === 'string' &&\n            evt.data.slice(0, 21) === 'data:image/png;base64'\n        ) {\n            fig.imageObj.src = evt.data;\n            fig.updated_canvas_event();\n            fig.waiting = false;\n            return;\n        }\n\n        var msg = JSON.parse(evt.data);\n        var msg_type = msg['type'];\n\n        // Call the  \"handle_{type}\" callback, which takes\n        // the figure and JSON message as its only arguments.\n        try {\n            var callback = fig['handle_' + msg_type];\n        } catch (e) {\n            console.log(\n                \"No handler for the '\" + msg_type + \"' message type: \",\n                msg\n            );\n            return;\n        }\n\n        if (callback) {\n            try {\n                // console.log(\"Handling '\" + msg_type + \"' message: \", msg);\n                callback(fig, msg);\n            } catch (e) {\n                console.log(\n                    \"Exception inside the 'handler_\" + msg_type + \"' callback:\",\n                    e,\n                    e.stack,\n                    msg\n                );\n            }\n        }\n    };\n};\n\nfunction getModifiers(event) {\n    var mods = [];\n    if (event.ctrlKey) {\n        mods.push('ctrl');\n    }\n    if (event.altKey) {\n        mods.push('alt');\n    }\n    if (event.shiftKey) {\n        mods.push('shift');\n    }\n    if (event.metaKey) {\n        mods.push('meta');\n    }\n    return mods;\n}\n\n/*\n * return a copy of an object with only non-object keys\n * we need this to avoid circular references\n * https://stackoverflow.com/a/24161582/3208463\n */\nfunction simpleKeys(original) {\n    return Object.keys(original).reduce(function (obj, key) {\n        if (typeof original[key] !== 'object') {\n            obj[key] = original[key];\n        }\n        return obj;\n    }, {});\n}\n\nmpl.figure.prototype.mouse_event = function (event, name) {\n    if (name === 'button_press') {\n        this.canvas.focus();\n        this.canvas_div.focus();\n    }\n\n    // from https://stackoverflow.com/q/1114465\n    var boundingRect = this.canvas.getBoundingClientRect();\n    var x = (event.clientX - boundingRect.left) * this.ratio;\n    var y = (event.clientY - boundingRect.top) * this.ratio;\n\n    this.send_message(name, {\n        x: x,\n        y: y,\n        button: event.button,\n        step: event.step,\n        modifiers: getModifiers(event),\n        guiEvent: simpleKeys(event),\n    });\n\n    return false;\n};\n\nmpl.figure.prototype._key_event_extra = function (_event, _name) {\n    // Handle any extra behaviour associated with a key event\n};\n\nmpl.figure.prototype.key_event = function (event, name) {\n    // Prevent repeat events\n    if (name === 'key_press') {\n        if (event.key === this._key) {\n            return;\n        } else {\n            this._key = event.key;\n        }\n    }\n    if (name === 'key_release') {\n        this._key = null;\n    }\n\n    var value = '';\n    if (event.ctrlKey && event.key !== 'Control') {\n        value += 'ctrl+';\n    }\n    else if (event.altKey && event.key !== 'Alt') {\n        value += 'alt+';\n    }\n    else if (event.shiftKey && event.key !== 'Shift') {\n        value += 'shift+';\n    }\n\n    value += 'k' + event.key;\n\n    this._key_event_extra(event, name);\n\n    this.send_message(name, { key: value, guiEvent: simpleKeys(event) });\n    return false;\n};\n\nmpl.figure.prototype.toolbar_button_onclick = function (name) {\n    if (name === 'download') {\n        this.handle_save(this, null);\n    } else {\n        this.send_message('toolbar_button', { name: name });\n    }\n};\n\nmpl.figure.prototype.toolbar_button_onmouseover = function (tooltip) {\n    this.message.textContent = tooltip;\n};\n\n///////////////// REMAINING CONTENT GENERATED BY embed_js.py /////////////////\n// prettier-ignore\nvar _JSXTOOLS_RESIZE_OBSERVER=function(A){var t,i=new WeakMap,n=new WeakMap,a=new WeakMap,r=new WeakMap,o=new Set;function s(e){if(!(this instanceof s))throw new TypeError(\"Constructor requires 'new' operator\");i.set(this,e)}function h(){throw new TypeError(\"Function is not a constructor\")}function c(e,t,i,n){e=0 in arguments?Number(arguments[0]):0,t=1 in arguments?Number(arguments[1]):0,i=2 in arguments?Number(arguments[2]):0,n=3 in arguments?Number(arguments[3]):0,this.right=(this.x=this.left=e)+(this.width=i),this.bottom=(this.y=this.top=t)+(this.height=n),Object.freeze(this)}function d(){t=requestAnimationFrame(d);var s=new WeakMap,p=new Set;o.forEach((function(t){r.get(t).forEach((function(i){var r=t instanceof window.SVGElement,o=a.get(t),d=r?0:parseFloat(o.paddingTop),f=r?0:parseFloat(o.paddingRight),l=r?0:parseFloat(o.paddingBottom),u=r?0:parseFloat(o.paddingLeft),g=r?0:parseFloat(o.borderTopWidth),m=r?0:parseFloat(o.borderRightWidth),w=r?0:parseFloat(o.borderBottomWidth),b=u+f,F=d+l,v=(r?0:parseFloat(o.borderLeftWidth))+m,W=g+w,y=r?0:t.offsetHeight-W-t.clientHeight,E=r?0:t.offsetWidth-v-t.clientWidth,R=b+v,z=F+W,M=r?t.width:parseFloat(o.width)-R-E,O=r?t.height:parseFloat(o.height)-z-y;if(n.has(t)){var k=n.get(t);if(k[0]===M&&k[1]===O)return}n.set(t,[M,O]);var S=Object.create(h.prototype);S.target=t,S.contentRect=new c(u,d,M,O),s.has(i)||(s.set(i,[]),p.add(i)),s.get(i).push(S)}))})),p.forEach((function(e){i.get(e).call(e,s.get(e),e)}))}return s.prototype.observe=function(i){if(i instanceof window.Element){r.has(i)||(r.set(i,new Set),o.add(i),a.set(i,window.getComputedStyle(i)));var n=r.get(i);n.has(this)||n.add(this),cancelAnimationFrame(t),t=requestAnimationFrame(d)}},s.prototype.unobserve=function(i){if(i instanceof window.Element&&r.has(i)){var n=r.get(i);n.has(this)&&(n.delete(this),n.size||(r.delete(i),o.delete(i))),n.size||r.delete(i),o.size||cancelAnimationFrame(t)}},A.DOMRectReadOnly=c,A.ResizeObserver=s,A.ResizeObserverEntry=h,A}; // eslint-disable-line\nmpl.toolbar_items = [[\"Home\", \"Reset original view\", \"fa fa-home\", \"home\"], [\"Back\", \"Back to previous view\", \"fa fa-arrow-left\", \"back\"], [\"Forward\", \"Forward to next view\", \"fa fa-arrow-right\", \"forward\"], [\"\", \"\", \"\", \"\"], [\"Pan\", \"Left button pans, Right button zooms\\nx/y fixes axis, CTRL fixes aspect\", \"fa fa-arrows\", \"pan\"], [\"Zoom\", \"Zoom to rectangle\\nx/y fixes axis\", \"fa fa-square-o\", \"zoom\"], [\"\", \"\", \"\", \"\"], [\"Download\", \"Download plot\", \"fa fa-floppy-o\", \"download\"]];\n\nmpl.extensions = [\"eps\", \"jpeg\", \"pgf\", \"pdf\", \"png\", \"ps\", \"raw\", \"svg\", \"tif\", \"webp\"];\n\nmpl.default_extension = \"png\";/* global mpl */\n\nvar comm_websocket_adapter = function (comm) {\n    // Create a \"websocket\"-like object which calls the given IPython comm\n    // object with the appropriate methods. Currently this is a non binary\n    // socket, so there is still some room for performance tuning.\n    var ws = {};\n\n    ws.binaryType = comm.kernel.ws.binaryType;\n    ws.readyState = comm.kernel.ws.readyState;\n    function updateReadyState(_event) {\n        if (comm.kernel.ws) {\n            ws.readyState = comm.kernel.ws.readyState;\n        } else {\n            ws.readyState = 3; // Closed state.\n        }\n    }\n    comm.kernel.ws.addEventListener('open', updateReadyState);\n    comm.kernel.ws.addEventListener('close', updateReadyState);\n    comm.kernel.ws.addEventListener('error', updateReadyState);\n\n    ws.close = function () {\n        comm.close();\n    };\n    ws.send = function (m) {\n        //console.log('sending', m);\n        comm.send(m);\n    };\n    // Register the callback with on_msg.\n    comm.on_msg(function (msg) {\n        //console.log('receiving', msg['content']['data'], msg);\n        var data = msg['content']['data'];\n        if (data['blob'] !== undefined) {\n            data = {\n                data: new Blob(msg['buffers'], { type: data['blob'] }),\n            };\n        }\n        // Pass the mpl event to the overridden (by mpl) onmessage function.\n        ws.onmessage(data);\n    });\n    return ws;\n};\n\nmpl.mpl_figure_comm = function (comm, msg) {\n    // This is the function which gets called when the mpl process\n    // starts-up an IPython Comm through the \"matplotlib\" channel.\n\n    var id = msg.content.data.id;\n    // Get hold of the div created by the display call when the Comm\n    // socket was opened in Python.\n    var element = document.getElementById(id);\n    var ws_proxy = comm_websocket_adapter(comm);\n\n    function ondownload(figure, _format) {\n        window.open(figure.canvas.toDataURL());\n    }\n\n    var fig = new mpl.figure(id, ws_proxy, ondownload, element);\n\n    // Call onopen now - mpl needs it, as it is assuming we've passed it a real\n    // web socket which is closed, not our websocket->open comm proxy.\n    ws_proxy.onopen();\n\n    fig.parent_element = element;\n    fig.cell_info = mpl.find_output_cell(\"<div id='\" + id + \"'></div>\");\n    if (!fig.cell_info) {\n        console.error('Failed to find cell for figure', id, fig);\n        return;\n    }\n    fig.cell_info[0].output_area.element.on(\n        'cleared',\n        { fig: fig },\n        fig._remove_fig_handler\n    );\n};\n\nmpl.figure.prototype.handle_close = function (fig, msg) {\n    var width = fig.canvas.width / fig.ratio;\n    fig.cell_info[0].output_area.element.off(\n        'cleared',\n        fig._remove_fig_handler\n    );\n    fig.resizeObserverInstance.unobserve(fig.canvas_div);\n\n    // Update the output cell to use the data from the current canvas.\n    fig.push_to_output();\n    var dataURL = fig.canvas.toDataURL();\n    // Re-enable the keyboard manager in IPython - without this line, in FF,\n    // the notebook keyboard shortcuts fail.\n    IPython.keyboard_manager.enable();\n    fig.parent_element.innerHTML =\n        '<img src=\"' + dataURL + '\" width=\"' + width + '\">';\n    fig.close_ws(fig, msg);\n};\n\nmpl.figure.prototype.close_ws = function (fig, msg) {\n    fig.send_message('closing', msg);\n    // fig.ws.close()\n};\n\nmpl.figure.prototype.push_to_output = function (_remove_interactive) {\n    // Turn the data on the canvas into data in the output cell.\n    var width = this.canvas.width / this.ratio;\n    var dataURL = this.canvas.toDataURL();\n    this.cell_info[1]['text/html'] =\n        '<img src=\"' + dataURL + '\" width=\"' + width + '\">';\n};\n\nmpl.figure.prototype.updated_canvas_event = function () {\n    // Tell IPython that the notebook contents must change.\n    IPython.notebook.set_dirty(true);\n    this.send_message('ack', {});\n    var fig = this;\n    // Wait a second, then push the new image to the DOM so\n    // that it is saved nicely (might be nice to debounce this).\n    setTimeout(function () {\n        fig.push_to_output();\n    }, 1000);\n};\n\nmpl.figure.prototype._init_toolbar = function () {\n    var fig = this;\n\n    var toolbar = document.createElement('div');\n    toolbar.classList = 'btn-toolbar';\n    this.root.appendChild(toolbar);\n\n    function on_click_closure(name) {\n        return function (_event) {\n            return fig.toolbar_button_onclick(name);\n        };\n    }\n\n    function on_mouseover_closure(tooltip) {\n        return function (event) {\n            if (!event.currentTarget.disabled) {\n                return fig.toolbar_button_onmouseover(tooltip);\n            }\n        };\n    }\n\n    fig.buttons = {};\n    var buttonGroup = document.createElement('div');\n    buttonGroup.classList = 'btn-group';\n    var button;\n    for (var toolbar_ind in mpl.toolbar_items) {\n        var name = mpl.toolbar_items[toolbar_ind][0];\n        var tooltip = mpl.toolbar_items[toolbar_ind][1];\n        var image = mpl.toolbar_items[toolbar_ind][2];\n        var method_name = mpl.toolbar_items[toolbar_ind][3];\n\n        if (!name) {\n            /* Instead of a spacer, we start a new button group. */\n            if (buttonGroup.hasChildNodes()) {\n                toolbar.appendChild(buttonGroup);\n            }\n            buttonGroup = document.createElement('div');\n            buttonGroup.classList = 'btn-group';\n            continue;\n        }\n\n        button = fig.buttons[name] = document.createElement('button');\n        button.classList = 'btn btn-default';\n        button.href = '#';\n        button.title = name;\n        button.innerHTML = '<i class=\"fa ' + image + ' fa-lg\"></i>';\n        button.addEventListener('click', on_click_closure(method_name));\n        button.addEventListener('mouseover', on_mouseover_closure(tooltip));\n        buttonGroup.appendChild(button);\n    }\n\n    if (buttonGroup.hasChildNodes()) {\n        toolbar.appendChild(buttonGroup);\n    }\n\n    // Add the status bar.\n    var status_bar = document.createElement('span');\n    status_bar.classList = 'mpl-message pull-right';\n    toolbar.appendChild(status_bar);\n    this.message = status_bar;\n\n    // Add the close button to the window.\n    var buttongrp = document.createElement('div');\n    buttongrp.classList = 'btn-group inline pull-right';\n    button = document.createElement('button');\n    button.classList = 'btn btn-mini btn-primary';\n    button.href = '#';\n    button.title = 'Stop Interaction';\n    button.innerHTML = '<i class=\"fa fa-power-off icon-remove icon-large\"></i>';\n    button.addEventListener('click', function (_evt) {\n        fig.handle_close(fig, {});\n    });\n    button.addEventListener(\n        'mouseover',\n        on_mouseover_closure('Stop Interaction')\n    );\n    buttongrp.appendChild(button);\n    var titlebar = this.root.querySelector('.ui-dialog-titlebar');\n    titlebar.insertBefore(buttongrp, titlebar.firstChild);\n};\n\nmpl.figure.prototype._remove_fig_handler = function (event) {\n    var fig = event.data.fig;\n    if (event.target !== this) {\n        // Ignore bubbled events from children.\n        return;\n    }\n    fig.close_ws(fig, {});\n};\n\nmpl.figure.prototype._root_extra_style = function (el) {\n    el.style.boxSizing = 'content-box'; // override notebook setting of border-box.\n};\n\nmpl.figure.prototype._canvas_extra_style = function (el) {\n    // this is important to make the div 'focusable\n    el.setAttribute('tabindex', 0);\n    // reach out to IPython and tell the keyboard manager to turn it's self\n    // off when our div gets focus\n\n    // location in version 3\n    if (IPython.notebook.keyboard_manager) {\n        IPython.notebook.keyboard_manager.register_events(el);\n    } else {\n        // location in version 2\n        IPython.keyboard_manager.register_events(el);\n    }\n};\n\nmpl.figure.prototype._key_event_extra = function (event, _name) {\n    // Check for shift+enter\n    if (event.shiftKey && event.which === 13) {\n        this.canvas_div.blur();\n        // select the cell after this one\n        var index = IPython.notebook.find_cell_index(this.cell_info[0]);\n        IPython.notebook.select(index + 1);\n    }\n};\n\nmpl.figure.prototype.handle_save = function (fig, _msg) {\n    fig.ondownload(fig, null);\n};\n\nmpl.find_output_cell = function (html_output) {\n    // Return the cell and output element which can be found *uniquely* in the notebook.\n    // Note - this is a bit hacky, but it is done because the \"notebook_saving.Notebook\"\n    // IPython event is triggered only after the cells have been serialised, which for\n    // our purposes (turning an active figure into a static one), is too late.\n    var cells = IPython.notebook.get_cells();\n    var ncells = cells.length;\n    for (var i = 0; i < ncells; i++) {\n        var cell = cells[i];\n        if (cell.cell_type === 'code') {\n            for (var j = 0; j < cell.output_area.outputs.length; j++) {\n                var data = cell.output_area.outputs[j];\n                if (data.data) {\n                    // IPython >= 3 moved mimebundle to data attribute of output\n                    data = data.data;\n                }\n                if (data['text/html'] === html_output) {\n                    return [cell, data, j];\n                }\n            }\n        }\n    }\n};\n\n// Register the function which deals with the matplotlib target/channel.\n// The kernel may be null if the page has been refreshed.\nif (IPython.notebook.kernel !== null) {\n    IPython.notebook.kernel.comm_manager.register_target(\n        'matplotlib',\n        mpl.mpl_figure_comm\n    );\n}\n",
          "text/plain": "<IPython.core.display.Javascript object>"
         },
         "metadata": {},
         "output_type": "display_data"
        },
        {
         "data": {
          "text/html": "<div id='9a3b4d8a-358b-4c8b-a086-06f3d1fbe8d3'></div>",
          "text/plain": "<IPython.core.display.HTML object>"
         },
         "metadata": {},
         "output_type": "display_data"
        },
        {
         "data": {
          "application/vnd.jupyter.widget-view+json": {
           "model_id": "0ac005f2078c4f80bcb33cbc549df426",
           "version_major": 2,
           "version_minor": 0
          },
          "text/plain": "SceneWidget(scenes=[{'id': 'qauinUXcxZ6z7Fg8Ytcjy868l', 'data': b'x\\xda\\x94\\x9d\\x07|\\x15\\xd5\\xb6\\x87\\xb1w\\x8d\\…"
         },
         "metadata": {},
         "output_type": "display_data"
        }
       ]
      }
     },
     "c18f5717671548338c4c62882929eb50": {
      "model_module": "@jupyter-widgets/controls",
      "model_module_version": "2.0.0",
      "model_name": "BoundedFloatTextModel",
      "state": {
       "description": "step",
       "layout": "IPY_MODEL_9626b99b0be844899da842e8c401cf4f",
       "max": 1,
       "min": 0.01,
       "step": 0.01,
       "style": "IPY_MODEL_b4a027dbdca04eb7b8f4b2df7db53d6b",
       "value": 0.01
      }
     },
     "c70ee182221f48308103f8176dc40370": {
      "model_module": "@jupyter-widgets/base",
      "model_module_version": "2.0.0",
      "model_name": "LayoutModel",
      "state": {}
     },
     "c791c50bcda840ffb815bf40ddb0b28c": {
      "model_module": "@jupyter-widgets/controls",
      "model_module_version": "2.0.0",
      "model_name": "DescriptionStyleModel",
      "state": {
       "description_width": ""
      }
     },
     "ca79aacfebd34d9e8c28fa12c97640f3": {
      "model_module": "@jupyter-widgets/controls",
      "model_module_version": "2.0.0",
      "model_name": "VBoxModel",
      "state": {
       "_dom_classes": [
        "widget-interact"
       ],
       "children": [
        "IPY_MODEL_6084b8cccd5e42488bad7e1a22e26cd9",
        "IPY_MODEL_3c2508d277cc4358a35d2d4db8c5c0c3",
        "IPY_MODEL_b115e9d099124828a6c1feef273c27e3",
        "IPY_MODEL_c09cb4305ead49af8a2b7831fd29d6ff"
       ],
       "layout": "IPY_MODEL_5555a325dcf64b68ad731d19b49ac3c6"
      }
     },
     "ce86b1bf5cb74000bd314e6b41f1305b": {
      "model_module": "@jupyter-widgets/base",
      "model_module_version": "2.0.0",
      "model_name": "LayoutModel",
      "state": {}
     },
     "d040f400edad47a9bb63de4173b3f70e": {
      "model_module": "@jupyter-widgets/controls",
      "model_module_version": "2.0.0",
      "model_name": "BoundedIntTextModel",
      "state": {
       "description": "precision",
       "layout": "IPY_MODEL_3bcdabb2f74443beae8fa3d1040f879f",
       "max": 10,
       "style": "IPY_MODEL_10d0cc5e8bb54bef83e36d73beece23e",
       "value": 2
      }
     },
     "d17c8ff391dd400dafa59d632aaee47a": {
      "model_module": "@jupyter-widgets/controls",
      "model_module_version": "2.0.0",
      "model_name": "HBoxModel",
      "state": {
       "children": [
        "IPY_MODEL_1c24e74a48a14be5b2819b1d2ebfe921",
        "IPY_MODEL_d8c156c464614d7bb8615ca72ffc33dd"
       ],
       "layout": "IPY_MODEL_50a48d142abd4ee7b9d71fd4876359e7"
      }
     },
     "d3b11ff270714ef4833861052ffb2180": {
      "buffers": [
       {
        "data": "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",
        "encoding": "base64",
        "path": [
         "scene",
         "data"
        ]
       }
      ],
      "model_module": "pgljupyter",
      "model_module_version": "^2.0.0",
      "model_name": "LsystemWidgetModel",
      "state": {
       "_model_module_version": "^2.0.0",
       "_view_module_version": "^2.0.0",
       "axes_helper": false,
       "derivationLength": 1,
       "layout": "IPY_MODEL_30ebe81f06724680a9f7c955977a5f64",
       "light_helper": false,
       "plane": true,
       "scene": {
        "derivationStep": null,
        "id": null,
        "scene": "<openalea.plantgl.scenegraph._pglsg.Scene object at 0x14f9b5bd0>"
       },
       "size_display": [
        400,
        400
       ],
       "size_world": 0.4,
       "unit": 2
      }
     },
     "d437411a8ef649bfadc86c7ea7d719d2": {
      "model_module": "@jupyter-widgets/controls",
      "model_module_version": "2.0.0",
      "model_name": "DescriptionStyleModel",
      "state": {
       "description_width": ""
      }
     },
     "d4e0f42d4b3d41d8942d35c3ee18c977": {
      "model_module": "@jupyter-widgets/base",
      "model_module_version": "2.0.0",
      "model_name": "LayoutModel",
      "state": {}
     },
     "d50d569feda44effac8c2474dee7927a": {
      "model_module": "@jupyter-widgets/controls",
      "model_module_version": "2.0.0",
      "model_name": "FloatSliderModel",
      "state": {
       "behavior": "drag-tap",
       "continuous_update": false,
       "description": "shininess",
       "layout": "IPY_MODEL_31c65f8b44174438952f0b8517e4f980",
       "max": 1,
       "step": 0.1,
       "style": "IPY_MODEL_3e21bc4bc2584be49cf8cf2ed8d15e13",
       "value": 0.2
      }
     },
     "d8c156c464614d7bb8615ca72ffc33dd": {
      "model_module": "@jupyter-widgets/controls",
      "model_module_version": "2.0.0",
      "model_name": "CheckboxModel",
      "state": {
       "description": "Auto save",
       "disabled": false,
       "layout": "IPY_MODEL_e10cba4a93514c0082a19a21268653df",
       "style": "IPY_MODEL_fcd1913105244f0da9c4dbcef1d6d2a7",
       "value": false
      }
     },
     "df609a151f2041e09092beb7a3bacf4c": {
      "model_module": "@jupyter-widgets/base",
      "model_module_version": "2.0.0",
      "model_name": "LayoutModel",
      "state": {}
     },
     "e06d95028cda43488fd60a9cfa0cc5f1": {
      "model_module": "@jupyter-widgets/controls",
      "model_module_version": "2.0.0",
      "model_name": "DescriptionStyleModel",
      "state": {
       "description_width": ""
      }
     },
     "e10cba4a93514c0082a19a21268653df": {
      "model_module": "@jupyter-widgets/base",
      "model_module_version": "2.0.0",
      "model_name": "LayoutModel",
      "state": {}
     },
     "e15c40be89a141c5bc3a67e9d0ecf14b": {
      "model_module": "@jupyter-widgets/base",
      "model_module_version": "2.0.0",
      "model_name": "LayoutModel",
      "state": {}
     },
     "e17c63ee22a244a78a28556a8fbccbad": {
      "model_module": "@jupyter-widgets/controls",
      "model_module_version": "2.0.0",
      "model_name": "SliderStyleModel",
      "state": {
       "description_width": ""
      }
     },
     "e5de50120575427dbccbb28b85192495": {
      "model_module": "@jupyter-widgets/controls",
      "model_module_version": "2.0.0",
      "model_name": "TextStyleModel",
      "state": {
       "description_width": "",
       "font_size": null,
       "text_color": null
      }
     },
     "e8999b6c58db48e887b6bdf4d2e32763": {
      "model_module": "@jupyter-widgets/controls",
      "model_module_version": "2.0.0",
      "model_name": "ButtonModel",
      "state": {
       "description": "Add",
       "layout": "IPY_MODEL_58555c37a04440618427b466eed3ebf0",
       "style": "IPY_MODEL_89c5cb23bd964992a3112510b687bdf0",
       "tooltip": null
      }
     },
     "e8b0cba8951740c28fcc787487a1600b": {
      "model_module": "@jupyter-widgets/controls",
      "model_module_version": "2.0.0",
      "model_name": "TextStyleModel",
      "state": {
       "description_width": "",
       "font_size": null,
       "text_color": null
      }
     },
     "e9cb0062d1f944389f4c76cfec39ef84": {
      "model_module": "@jupyter-widgets/controls",
      "model_module_version": "2.0.0",
      "model_name": "TextModel",
      "state": {
       "layout": "IPY_MODEL_ac55db0958aa4977a6de163f1ed842d9",
       "placeholder": "category name",
       "style": "IPY_MODEL_e5de50120575427dbccbb28b85192495"
      }
     },
     "ea44b65b232c4f0cb3e25d68dce0221f": {
      "model_module": "@jupyter-widgets/base",
      "model_module_version": "2.0.0",
      "model_name": "LayoutModel",
      "state": {}
     },
     "ea806f9fb407405e9103f343a1ec9425": {
      "model_module": "@jupyter-widgets/controls",
      "model_module_version": "2.0.0",
      "model_name": "HBoxModel",
      "state": {
       "children": [
        "IPY_MODEL_51183739d0724b52931a9d64233a8e45"
       ],
       "layout": "IPY_MODEL_b6f40adcbf6a4fbf94fbbb4c1856eeb3"
      }
     },
     "ea894fb9a346475eaa0d3b54f3782f48": {
      "model_module": "@jupyter-widgets/base",
      "model_module_version": "2.0.0",
      "model_name": "LayoutModel",
      "state": {}
     },
     "ec050d4560b24b2b9a393b389d521665": {
      "model_module": "@jupyter-widgets/controls",
      "model_module_version": "2.0.0",
      "model_name": "DescriptionStyleModel",
      "state": {
       "description_width": ""
      }
     },
     "eea92ff3daf84609b16c16a08ebc47ad": {
      "model_module": "@jupyter-widgets/controls",
      "model_module_version": "2.0.0",
      "model_name": "AccordionModel",
      "state": {
       "children": [
        "IPY_MODEL_088c19b11b6048f795ba69eb74160794",
        "IPY_MODEL_6d6cc58a84c9433698c65aa484932c30"
       ],
       "layout": "IPY_MODEL_aeca05e4f21943a9a8cb5c8e83badfc5",
       "titles": [
        "default",
        "materials"
       ]
      }
     },
     "eeb5b082ffbd4c7f80a447620a1c4c4e": {
      "model_module": "@jupyter-widgets/base",
      "model_module_version": "2.0.0",
      "model_name": "LayoutModel",
      "state": {}
     },
     "eec91831fb944bd3acca1410862b5657": {
      "model_module": "@jupyter-widgets/controls",
      "model_module_version": "2.0.0",
      "model_name": "HBoxModel",
      "state": {
       "children": [
        "IPY_MODEL_672411666e8a48f69f9239ecf35ae32d",
        "IPY_MODEL_e9cb0062d1f944389f4c76cfec39ef84"
       ],
       "layout": "IPY_MODEL_8b83ef3f05af474bae9b7025085408cf"
      }
     },
     "f1cd3ada2a3940749d4d3818ecb3476e": {
      "model_module": "@jupyter-widgets/controls",
      "model_module_version": "2.0.0",
      "model_name": "AccordionModel",
      "state": {
       "layout": "IPY_MODEL_46d1ba6d4ecc480c9633eeb4647b259e"
      }
     },
     "f3b173254fb04c92b8d9b35e84ab37ea": {
      "model_module": "@jupyter-widgets/base",
      "model_module_version": "2.0.0",
      "model_name": "LayoutModel",
      "state": {}
     },
     "f7051f4440c74f7da2169f9f60f7709d": {
      "model_module": "@jupyter-widgets/base",
      "model_module_version": "2.0.0",
      "model_name": "LayoutModel",
      "state": {
       "flex_flow": "row wrap",
       "margin": "5px"
      }
     },
     "f9127bcfa97f486184d56bb3985c0460": {
      "model_module": "@jupyter-widgets/controls",
      "model_module_version": "2.0.0",
      "model_name": "DescriptionStyleModel",
      "state": {
       "description_width": ""
      }
     },
     "f9438f9fb32646dbbc5a07f673cce251": {
      "model_module": "@jupyter-widgets/controls",
      "model_module_version": "2.0.0",
      "model_name": "SliderStyleModel",
      "state": {
       "description_width": ""
      }
     },
     "fcb58ae9c3184cb98307bda54c84c034": {
      "model_module": "pgljupyter",
      "model_module_version": "^2.0.0",
      "model_name": "FloatEditorModel",
      "state": {
       "_model_module_version": "^2.0.0",
       "_view_module_version": "^2.0.0",
       "children": [
        "IPY_MODEL_26efe1442bb341e1a6aaa461ce6113e0",
        "IPY_MODEL_3eea676a164446ee8bb4070a0456dcfa",
        "IPY_MODEL_b7671d7cb5e540f1902fd99c511cdb35",
        "IPY_MODEL_0b081a950d6343ee90170279a380ed58",
        "IPY_MODEL_03ed1864ac554f67a22d77ef39aea5be",
        "IPY_MODEL_d040f400edad47a9bb63de4173b3f70e"
       ],
       "layout": "IPY_MODEL_24d3ae4b1679418fb34eae1228101104"
      }
     },
     "fcd1913105244f0da9c4dbcef1d6d2a7": {
      "model_module": "@jupyter-widgets/controls",
      "model_module_version": "2.0.0",
      "model_name": "CheckboxStyleModel",
      "state": {
       "description_width": ""
      }
     },
     "fd52b1c9267a416cbd75cede60d89b28": {
      "model_module": "pgljupyter",
      "model_module_version": "^2.0.0",
      "model_name": "SceneWidgetModel",
      "state": {
       "_model_module_version": "^2.0.0",
       "_view_module_version": "^2.0.0",
       "axes_helper": false,
       "layout": "IPY_MODEL_5918d60133e743c283a4bd776b203671",
       "light_helper": false,
       "plane": true,
       "size_display": [
        400,
        400
       ],
       "size_world": 75
      }
     },
     "fe85c7eac04e4754a45c5c049f54bc2a": {
      "model_module": "@jupyter-widgets/controls",
      "model_module_version": "2.0.0",
      "model_name": "TextModel",
      "state": {
       "continuous_update": false,
       "description": "name",
       "layout": "IPY_MODEL_59b1196d64ce487aaa56e85752215d6e",
       "style": "IPY_MODEL_64409057aa9a47ad9e6a32bb4a303770",
       "value": "Color_7"
      }
     },
     "ff725b9b613941abb883af656ecc0a43": {
      "model_module": "pgljupyter",
      "model_module_version": "^2.0.0",
      "model_name": "ParameterEditorModel",
      "state": {
       "_model_module_version": "^2.0.0",
       "_view_module_version": "^2.0.0",
       "children": [
        "IPY_MODEL_43b4607165fc4fe09743b651b1c0a522"
       ],
       "layout": "IPY_MODEL_81e5e0ad3c144745815cdadfe700c4c1"
      }
     },
     "ff88ef320b094c8198ee6aae1a70636b": {
      "model_module": "@jupyter-widgets/base",
      "model_module_version": "2.0.0",
      "model_name": "LayoutModel",
      "state": {}
     }
    },
    "version_major": 2,
    "version_minor": 0
   }
  }
 },
 "nbformat": 4,
 "nbformat_minor": 4
}
