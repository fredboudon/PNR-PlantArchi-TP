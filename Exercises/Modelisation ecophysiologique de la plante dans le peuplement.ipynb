{
 "cells": [
  {
   "cell_type": "markdown",
   "metadata": {},
   "source": [
    "# Présentation du TD"
   ]
  },
  {
   "cell_type": "markdown",
   "metadata": {},
   "source": [
    "## Chargement des librairies python"
   ]
  },
  {
   "cell_type": "code",
   "execution_count": null,
   "metadata": {
    "ExecuteTime": {
     "end_time": "2024-11-24T20:39:20.849385Z",
     "start_time": "2024-11-24T20:39:19.143456Z"
    }
   },
   "outputs": [],
   "source": [
    "from __future__ import print_function\n",
    "import pandas as pd\n",
    "from ipywidgets import interact, interactive, fixed, interact_manual, widgets\n",
    "from openalea.mtg import MTG #librairie MTG\n",
    "from pgljupyter import LsystemWidget #librairie Lsystem\n",
    "from pathlib import Path\n",
    "\n",
    "import library as TD_libs"
   ]
  },
  {
   "cell_type": "markdown",
   "metadata": {},
   "source": [
    "# Description de l'Architecture des plantes"
   ]
  },
  {
   "cell_type": "markdown",
   "metadata": {},
   "source": [
    "## Reconstruction numérique 3D des plantes via Lsystems"
   ]
  },
  {
   "cell_type": "markdown",
   "metadata": {},
   "source": [
    "### Rappel des principes du Lsystem"
   ]
  },
  {
   "cell_type": "markdown",
   "metadata": {},
   "source": [
    "### Exercices sur les Lsystems"
   ]
  },
  {
   "cell_type": "markdown",
   "metadata": {},
   "source": [
    "**Exercice 1 : (utilisation de Lpy)**\n",
    "\n",
    "Les six premières itérations d’un L-system déterministe insensible au contexte produisent les chaînes de caractères suivantes :\n",
    "\n",
    "L<p/>\n",
    "CL<p/>\n",
    "LCL<p/>\n",
    "CLLCL<p/>\n",
    "LCLCLLCL<p/>\n",
    "CLLCLLCLCLLCL<p/>\n",
    "\n",
    "* Renseignez les modules de ce L-system\n",
    "* Quel est l'axiome ?\n",
    "* Quels sont les règles de productions de ce L-system ?\n"
   ]
  },
  {
   "cell_type": "code",
   "execution_count": null,
   "metadata": {
    "ExecuteTime": {
     "end_time": "2024-11-24T20:39:51.045007Z",
     "start_time": "2024-11-24T20:39:51.037055Z"
    }
   },
   "outputs": [],
   "source": [
    "%%lpy -a True   \n",
    "\n",
    "module ?\n",
    "module ?\n",
    "\n",
    "def StartEach(lstring):\n",
    "    print (lstring)\n",
    "\n",
    "\n",
    "axiom: ?\n",
    "\n",
    "derivation length: 6\n",
    "\n",
    "production:\n",
    "? --> ?\n",
    "? --> ?\n"
   ]
  },
  {
   "cell_type": "markdown",
   "metadata": {
    "ExecuteTime": {
     "end_time": "2024-11-24T20:08:17.121018Z",
     "start_time": "2024-11-24T20:08:17.109029Z"
    }
   },
   "source": [
    "#### Exercice 2 : Creation d'un polygone pour representer une feuille\n",
    "\n",
    "Completez l'axiom pour générer la forme polyonale suivante. \n",
    "Utiliser les commandes suivantes:\n",
    "```\n",
    "F(l) : Trace un cylindre de longueur l\n",
    "+(a) : Tourne à gauche d'un angle a\n",
    "-(a) : Tourne à gauche d'un angle a\n",
    "```\n",
    "Par defaut, les angles non indiqués sont éagl à 90° et les longueurs à 1.\n",
    "\n",
    "```python\n",
    "Axiom: ,(2) _(0.02) { . F    ....  } (True)\n",
    "```\n",
    "\n",
    "![mappleleaf](./img/vineleaf.png)\n",
    "\n"
   ]
  },
  {
   "cell_type": "code",
   "execution_count": null,
   "metadata": {
    "ExecuteTime": {
     "end_time": "2024-11-24T20:09:54.151623Z",
     "start_time": "2024-11-24T20:09:54.147709Z"
    }
   },
   "outputs": [],
   "source": [
    "%%lpy -w 5\n",
    "\n",
    "Axiom: ,(2) _(0.02) { . F     } (True)\n"
   ]
  },
  {
   "cell_type": "markdown",
   "metadata": {},
   "source": [
    "**Exercice 3 : Phyllotaxie**\n",
    "\n",
    "Reproduire les differents arrangements de feuilles le long de la tige\n",
    "\n",
    "* Les symboles pour spécifier l'orientation:\n",
    "\n",
    "```\n",
    "+ : Turn left around Up vector. Params : 'angle' (optional, in degrees).\n",
    "- : Turn right around Up vector. Params : 'angle' (optional, in degrees).\n",
    "^ : Pitch up around Left vector. Params : 'angle' (optional, in degrees).\n",
    "& : Pitch down around Left vector. Params : 'angle' (optional, in degrees).\n",
    "/ : Roll left around Heading vector. Params : 'angle' (optional, in degrees).\n",
    "\\ : Roll right around Heading vector. Params : 'angle' (optional, in degrees).\n",
    "```\n",
    "\n",
    "<img src=\"./img/phyllotaxie.png\" width=\"600\">"
   ]
  },
  {
   "cell_type": "code",
   "execution_count": null,
   "metadata": {
    "ExecuteTime": {
     "end_time": "2024-11-24T20:26:59.461889Z",
     "start_time": "2024-11-24T20:26:59.454880Z"
    }
   },
   "outputs": [],
   "source": [
    "%%lpy -w 10\n",
    "Axiom: \n",
    "  for i in range(5):\n",
    "    nproduce F(1) /(137.5) [ &(120) ,(2) ~l(2) ]"
   ]
  },
  {
   "cell_type": "markdown",
   "metadata": {},
   "source": [
    "**Exercice 4 :**\n",
    "\n",
    "1. Analyser la syntaxe permettant de gérer la ramification\n",
    "2. Comment sont modéliser les apex ?\n",
    "3. Creer des ramifications secondaires"
   ]
  },
  {
   "cell_type": "code",
   "execution_count": null,
   "metadata": {
    "ExecuteTime": {
     "end_time": "2024-11-24T20:35:09.948557Z",
     "start_time": "2024-11-24T20:35:09.941085Z"
    }
   },
   "outputs": [],
   "source": [
    "%%lpy -a True -w 20\n",
    "\n",
    "module A,B\n",
    "module I\n",
    "\n",
    "\n",
    "def StartEach(lstring): print (lstring)\n",
    "def End(lstring): print (lstring)\n",
    "\n",
    "    \n",
    "axiom : A\n",
    "\n",
    "derivation length: 5\n",
    "\n",
    "production:\n",
    "A --> II [-(60)I B] [+(60)I B] A\n",
    "B --> IB\n",
    "\n",
    "interpretation:\n",
    "A --> SetColor(3) @O(.2)\n",
    "B --> SetColor(4) @O(.2)\n",
    "I --> SetColor(2) F"
   ]
  },
  {
   "cell_type": "markdown",
   "metadata": {},
   "source": [
    "### Exemple de la luzerne"
   ]
  },
  {
   "cell_type": "markdown",
   "metadata": {},
   "source": [
    "Charger le Lsystem de luzerne ci-dessous"
   ]
  },
  {
   "cell_type": "code",
   "execution_count": null,
   "metadata": {
    "ExecuteTime": {
     "end_time": "2024-11-20T10:03:50.026253Z",
     "start_time": "2024-11-20T10:03:49.515111Z"
    }
   },
   "outputs": [],
   "source": [
    "lsys = LsystemWidget('TD_lsystem_Luzerne.lpy', unit='cm',size_world=.4, animate=True)"
   ]
  },
  {
   "cell_type": "code",
   "execution_count": null,
   "metadata": {
    "ExecuteTime": {
     "end_time": "2024-11-20T10:03:52.051618Z",
     "start_time": "2024-11-20T10:03:52.044345Z"
    }
   },
   "outputs": [],
   "source": [
    "lsys"
   ]
  },
  {
   "cell_type": "markdown",
   "metadata": {},
   "source": [
    "### Exemple de la fétuque"
   ]
  },
  {
   "cell_type": "code",
   "execution_count": null,
   "metadata": {
    "ExecuteTime": {
     "end_time": "2024-11-20T10:03:56.827228Z",
     "start_time": "2024-11-20T10:03:56.514615Z"
    }
   },
   "outputs": [],
   "source": [
    "lsys = LsystemWidget('TD_lsystem_Fetuque.lpy', unit='cm', size_world=.4, animate=True)\n",
    "lsys"
   ]
  },
  {
   "cell_type": "markdown",
   "metadata": {},
   "source": [
    "## Applications: simulation du rayonnement intercepté dans une association"
   ]
  },
  {
   "cell_type": "markdown",
   "metadata": {},
   "source": [
    "### Introduction modèles de rayonnement"
   ]
  },
  {
   "cell_type": "markdown",
   "metadata": {},
   "source": [
    "![Some insights on light modelling](slides/modelesRT.png)"
   ]
  },
  {
   "cell_type": "markdown",
   "metadata": {},
   "source": [
    "### Effet de la direction du soleil sur le rayonnement intercepté"
   ]
  },
  {
   "cell_type": "markdown",
   "metadata": {},
   "source": [
    "Comment varie l'interception de la lumière avec la position du soleil?\n"
   ]
  },
  {
   "cell_type": "code",
   "execution_count": null,
   "metadata": {
    "ExecuteTime": {
     "end_time": "2024-11-20T10:04:00.958474Z",
     "start_time": "2024-11-20T10:04:00.202691Z"
    }
   },
   "outputs": [],
   "source": [
    "%matplotlib inline\n",
    "interact(TD_libs.Light_model, lsys=fixed(lsys), hour=(6, 18, 1));"
   ]
  },
  {
   "cell_type": "markdown",
   "metadata": {},
   "source": [
    "### Analyse du rayonnement intercepté par les plantes individuelles"
   ]
  },
  {
   "cell_type": "markdown",
   "metadata": {},
   "source": [
    "Par ciel diffus, comment varie l'interception en fonction de différents paramètres ?"
   ]
  },
  {
   "cell_type": "code",
   "execution_count": null,
   "metadata": {
    "ExecuteTime": {
     "end_time": "2024-11-20T10:04:30.754002Z",
     "start_time": "2024-11-20T10:04:25.007273Z"
    },
    "scrolled": true
   },
   "outputs": [],
   "source": [
    "%matplotlib inline\n",
    "TD_libs.cellule_analyse_AgriPV()"
   ]
  },
  {
   "cell_type": "markdown",
   "metadata": {},
   "source": [
    "Pour une direction du soleil, comment varie l'interception en fonction de différents paramètres ?"
   ]
  },
  {
   "cell_type": "code",
   "execution_count": null,
   "metadata": {
    "ExecuteTime": {
     "end_time": "2024-11-20T10:04:30.754002Z",
     "start_time": "2024-11-20T10:04:25.007273Z"
    },
    "scrolled": true
   },
   "outputs": [],
   "source": [
    "%matplotlib inline\n",
    "TD_libs.cellule_analyse_AgriPV_direct()"
   ]
  },
  {
   "cell_type": "code",
   "execution_count": null,
   "metadata": {},
   "outputs": [],
   "source": []
  }
 ],
 "metadata": {
  "celltoolbar": "Raw Cell Format",
  "kernelspec": {
   "display_name": "Python 3 (ipykernel)",
   "language": "python",
   "name": "python3"
  },
  "language_info": {
   "codemirror_mode": {
    "name": "ipython",
    "version": 3
   },
   "file_extension": ".py",
   "mimetype": "text/x-python",
   "name": "python",
   "nbconvert_exporter": "python",
   "pygments_lexer": "ipython3",
   "version": "3.10.14"
  },
  "widgets": {
   "application/vnd.jupyter.widget-state+json": {
    "state": {},
    "version_major": 2,
    "version_minor": 0
   }
  }
 },
 "nbformat": 4,
 "nbformat_minor": 4
}
