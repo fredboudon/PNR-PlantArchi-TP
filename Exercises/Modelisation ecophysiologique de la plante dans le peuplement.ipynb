{
 "cells": [
  {
   "cell_type": "markdown",
   "metadata": {},
   "source": [
    "# Présentation du TD"
   ]
  },
  {
   "cell_type": "markdown",
   "metadata": {},
   "source": [
    "## Chargement des librairies python"
   ]
  },
  {
   "cell_type": "code",
   "execution_count": 1,
   "metadata": {
    "ExecuteTime": {
     "end_time": "2024-11-24T20:39:20.849385Z",
     "start_time": "2024-11-24T20:39:19.143456Z"
    }
   },
   "outputs": [],
   "source": [
    "from __future__ import print_function\n",
    "import pandas as pd\n",
    "from ipywidgets import interact, interactive, fixed, interact_manual, widgets\n",
    "from openalea.mtg import MTG #librairie MTG\n",
    "from pgljupyter import LsystemWidget #librairie Lsystem\n",
    "from pathlib import Path\n",
    "\n",
    "import library as TD_libs"
   ]
  },
  {
   "cell_type": "markdown",
   "metadata": {},
   "source": [
    "# Description de l'Architecture des plantes"
   ]
  },
  {
   "cell_type": "markdown",
   "metadata": {},
   "source": [
    "## Reconstruction numérique 3D des plantes via Lsystems"
   ]
  },
  {
   "cell_type": "markdown",
   "metadata": {},
   "source": [
    "### Rappel des principes du Lsystem"
   ]
  },
  {
   "cell_type": "markdown",
   "metadata": {},
   "source": [
    "### Exercices sur les Lsystems"
   ]
  },
  {
   "cell_type": "markdown",
   "metadata": {},
   "source": [
    "**Exercice 1 : (utilisation de Lpy)**\n",
    "\n",
    "Les six premières itérations d’un L-system déterministe insensible au contexte produisent les chaînes de caractères suivantes :\n",
    "\n",
    "L<p/>\n",
    "CL<p/>\n",
    "LCL<p/>\n",
    "CLLCL<p/>\n",
    "LCLCLLCL<p/>\n",
    "CLLCLLCLCLLCL<p/>\n",
    "\n",
    "* Renseignez les modules de ce L-system\n",
    "* Quel est l'axiome ?\n",
    "* Quels sont les règles de productions de ce L-system ?\n"
   ]
  },
  {
   "cell_type": "code",
   "execution_count": null,
   "metadata": {
    "ExecuteTime": {
     "end_time": "2024-11-24T20:39:51.045007Z",
     "start_time": "2024-11-24T20:39:51.037055Z"
    }
   },
   "outputs": [],
   "source": [
    "%%lpy -a True   \n",
    "\n",
    "module ?\n",
    "module ?\n",
    "\n",
    "def StartEach(lstring):\n",
    "    print (lstring)\n",
    "\n",
    "\n",
    "axiom: ?\n",
    "\n",
    "derivation length: 6\n",
    "\n",
    "production:\n",
    "? --> ?\n",
    "? --> ?\n"
   ]
  },
  {
   "cell_type": "markdown",
   "metadata": {
    "ExecuteTime": {
     "end_time": "2024-11-24T20:08:17.121018Z",
     "start_time": "2024-11-24T20:08:17.109029Z"
    }
   },
   "source": [
    "#### Exercice 2 : Creation d'un polygone pour representer une feuille\n",
    "\n",
    "Completez l'axiom pour générer la forme polyonale suivante. \n",
    "Utiliser les commandes suivantes:\n",
    "```\n",
    "F(l) : Trace un cylindre de longueur l\n",
    "+(a) : Tourne à gauche d'un angle a\n",
    "-(a) : Tourne à gauche d'un angle a\n",
    "```\n",
    "Par defaut, les angles non indiqués sont éagl à 90° et les longueurs à 1.\n",
    "\n",
    "```python\n",
    "Axiom: ,(2) _(0.02) { . F    ....  } (True)\n",
    "```\n",
    "\n",
    "![mappleleaf](./img/vineleaf.png)\n",
    "\n"
   ]
  },
  {
   "cell_type": "code",
   "execution_count": null,
   "metadata": {
    "ExecuteTime": {
     "end_time": "2024-11-24T20:09:54.151623Z",
     "start_time": "2024-11-24T20:09:54.147709Z"
    }
   },
   "outputs": [],
   "source": [
    "%%lpy -w 5\n",
    "\n",
    "Axiom: ,(2) _(0.02) { . F     } (True)\n"
   ]
  },
  {
   "cell_type": "markdown",
   "metadata": {},
   "source": [
    "**Exercice 3 : Phyllotaxie**\n",
    "\n",
    "Reproduire les differents arrangements de feuilles le long de la tige\n",
    "\n",
    "* Les symboles pour spécifier l'orientation:\n",
    "\n",
    "```\n",
    "+ : Turn left around Up vector. Params : 'angle' (optional, in degrees).\n",
    "- : Turn right around Up vector. Params : 'angle' (optional, in degrees).\n",
    "^ : Pitch up around Left vector. Params : 'angle' (optional, in degrees).\n",
    "& : Pitch down around Left vector. Params : 'angle' (optional, in degrees).\n",
    "/ : Roll left around Heading vector. Params : 'angle' (optional, in degrees).\n",
    "\\ : Roll right around Heading vector. Params : 'angle' (optional, in degrees).\n",
    "```\n",
    "\n",
    "<img src=\"./img/phyllotaxie.png\" width=\"600\">"
   ]
  },
  {
   "cell_type": "code",
   "execution_count": null,
   "metadata": {
    "ExecuteTime": {
     "end_time": "2024-11-24T20:26:59.461889Z",
     "start_time": "2024-11-24T20:26:59.454880Z"
    }
   },
   "outputs": [],
   "source": [
    "%%lpy -w 10\n",
    "Axiom: \n",
    "  for i in range(5):\n",
    "    nproduce F(1) /(137.5) [ &(120) ,(2) ~l(2) ]"
   ]
  },
  {
   "cell_type": "markdown",
   "metadata": {},
   "source": [
    "**Exercice 4 :**\n",
    "\n",
    "1. Analyser la syntaxe permettant de gérer la ramification\n",
    "2. Comment sont modéliser les apex ?\n",
    "3. Creer des ramifications secondaires"
   ]
  },
  {
   "cell_type": "code",
   "execution_count": null,
   "metadata": {
    "ExecuteTime": {
     "end_time": "2024-11-24T20:35:09.948557Z",
     "start_time": "2024-11-24T20:35:09.941085Z"
    }
   },
   "outputs": [],
   "source": [
    "%%lpy -a True -w 20\n",
    "\n",
    "module A,B\n",
    "module I\n",
    "\n",
    "\n",
    "def StartEach(lstring): print (lstring)\n",
    "def End(lstring): print (lstring)\n",
    "\n",
    "    \n",
    "axiom : A\n",
    "\n",
    "derivation length: 5\n",
    "\n",
    "production:\n",
    "A --> II [-(60)I B] [+(60)I B] A\n",
    "B --> IB\n",
    "\n",
    "interpretation:\n",
    "A --> SetColor(3) @O(.2)\n",
    "B --> SetColor(4) @O(.2)\n",
    "I --> SetColor(2) F"
   ]
  },
  {
   "cell_type": "markdown",
   "metadata": {},
   "source": [
    "### Exemple de la luzerne"
   ]
  },
  {
   "cell_type": "markdown",
   "metadata": {},
   "source": [
    "Charger le Lsystem de luzerne ci-dessous"
   ]
  },
  {
   "cell_type": "code",
   "execution_count": null,
   "metadata": {
    "ExecuteTime": {
     "end_time": "2024-11-20T10:03:50.026253Z",
     "start_time": "2024-11-20T10:03:49.515111Z"
    }
   },
   "outputs": [],
   "source": [
    "lsys = LsystemWidget('TD_lsystem_Luzerne.lpy', unit='cm',size_world=.4, animate=True)"
   ]
  },
  {
   "cell_type": "code",
   "execution_count": null,
   "metadata": {
    "ExecuteTime": {
     "end_time": "2024-11-20T10:03:52.051618Z",
     "start_time": "2024-11-20T10:03:52.044345Z"
    }
   },
   "outputs": [],
   "source": [
    "lsys"
   ]
  },
  {
   "cell_type": "markdown",
   "metadata": {},
   "source": [
    "### Exemple de la fétuque"
   ]
  },
  {
   "cell_type": "code",
   "execution_count": null,
   "metadata": {
    "ExecuteTime": {
     "end_time": "2024-11-20T10:03:56.827228Z",
     "start_time": "2024-11-20T10:03:56.514615Z"
    }
   },
   "outputs": [],
   "source": [
    "lsys = LsystemWidget('TD_lsystem_Fetuque.lpy', unit='cm', size_world=.4, animate=True)\n",
    "lsys"
   ]
  },
  {
   "cell_type": "markdown",
   "metadata": {},
   "source": [
    "## Applications: simulation du rayonnement intercepté dans une association"
   ]
  },
  {
   "cell_type": "markdown",
   "metadata": {},
   "source": [
    "### Introduction modèles de rayonnement"
   ]
  },
  {
   "cell_type": "markdown",
   "metadata": {},
   "source": [
    "![Some insights on light modelling](slides/modelesRT.png)"
   ]
  },
  {
   "cell_type": "markdown",
   "metadata": {},
   "source": [
    "### Effet de la direction du soleil sur le rayonnement intercepté"
   ]
  },
  {
   "cell_type": "markdown",
   "metadata": {},
   "source": [
    "Comment varie l'interception de la lumière avec la position du soleil?\n"
   ]
  },
  {
   "cell_type": "code",
   "execution_count": null,
   "metadata": {
    "ExecuteTime": {
     "end_time": "2024-11-20T10:04:00.958474Z",
     "start_time": "2024-11-20T10:04:00.202691Z"
    }
   },
   "outputs": [],
   "source": [
    "%matplotlib inline\n",
    "interact(TD_libs.Light_model, lsys=fixed(lsys), hour=(6, 18, 1));"
   ]
  },
  {
   "cell_type": "markdown",
   "metadata": {},
   "source": [
    "### Analyse du rayonnement intercepté par les plantes individuelles"
   ]
  },
  {
   "cell_type": "markdown",
   "metadata": {},
   "source": [
    "Par ciel diffus, comment varie l'interception en fonction de différents paramètres ?"
   ]
  },
  {
   "cell_type": "code",
   "execution_count": 2,
   "metadata": {
    "ExecuteTime": {
     "end_time": "2024-11-20T10:04:30.754002Z",
     "start_time": "2024-11-20T10:04:25.007273Z"
    },
    "scrolled": true
   },
   "outputs": [
    {
     "data": {
      "application/vnd.jupyter.widget-view+json": {
       "model_id": "f4cb924f0f9a4c16acdc58bffd094ca1",
       "version_major": 2,
       "version_minor": 0
      },
      "text/plain": [
       "interactive(children=(Checkbox(value=True, description='AgriPV', indent=False), FloatSlider(value=1.0, continu…"
      ]
     },
     "metadata": {},
     "output_type": "display_data"
    }
   ],
   "source": [
    "%matplotlib inline\n",
    "TD_libs.cellule_analyse_AgriPV_diffus()"
   ]
  },
  {
   "cell_type": "markdown",
   "metadata": {},
   "source": [
    "Pour une direction du soleil, comment varie l'interception en fonction de différents paramètres ?"
   ]
  },
  {
   "cell_type": "code",
   "execution_count": null,
   "metadata": {
    "ExecuteTime": {
     "end_time": "2024-11-20T10:04:30.754002Z",
     "start_time": "2024-11-20T10:04:25.007273Z"
    },
    "scrolled": true
   },
   "outputs": [],
   "source": [
    "%matplotlib inline\n",
    "TD_libs.cellule_analyse_AgriPV_direct()"
   ]
  },
  {
   "cell_type": "code",
   "execution_count": null,
   "metadata": {},
   "outputs": [],
   "source": []
  }
 ],
 "metadata": {
  "celltoolbar": "Raw Cell Format",
  "kernelspec": {
   "display_name": "Python 3 (ipykernel)",
   "language": "python",
   "name": "python3"
  },
  "language_info": {
   "codemirror_mode": {
    "name": "ipython",
    "version": 3
   },
   "file_extension": ".py",
   "mimetype": "text/x-python",
   "name": "python",
   "nbconvert_exporter": "python",
   "pygments_lexer": "ipython3",
   "version": "3.10.14"
  },
  "widgets": {
   "application/vnd.jupyter.widget-state+json": {
    "state": {
     "0039cfc6af094b44bae9cb935984361d": {
      "model_module": "@jupyter-widgets/base",
      "model_module_version": "2.0.0",
      "model_name": "LayoutModel",
      "state": {}
     },
     "009f0880d1ea4612b32d363ad8930a98": {
      "model_module": "@jupyter-widgets/controls",
      "model_module_version": "2.0.0",
      "model_name": "CheckboxModel",
      "state": {
       "description": "AgriPV",
       "disabled": false,
       "indent": false,
       "layout": "IPY_MODEL_b39a4ade1243436b853be6153c769eba",
       "style": "IPY_MODEL_fb9e5de2ad134ac79b01a7e086ad376d",
       "value": true
      }
     },
     "02176d399abd454a9fa9d8ae319b91a2": {
      "model_module": "@jupyter-widgets/base",
      "model_module_version": "2.0.0",
      "model_name": "LayoutModel",
      "state": {}
     },
     "02968b0a09544ae28b0072e7b48d6150": {
      "model_module": "@jupyter-widgets/base",
      "model_module_version": "2.0.0",
      "model_name": "LayoutModel",
      "state": {}
     },
     "04c492f0d8224189bb29e7e5332d12bd": {
      "model_module": "@jupyter-widgets/output",
      "model_module_version": "1.0.0",
      "model_name": "OutputModel",
      "state": {
       "layout": "IPY_MODEL_2029e933e5fc45f99e01919ec01e12c0",
       "outputs": [
        {
         "data": {
          "text/html": "<div>\n<style scoped>\n    .dataframe tbody tr th:only-of-type {\n        vertical-align: middle;\n    }\n\n    .dataframe tbody tr th {\n        vertical-align: top;\n    }\n\n    .dataframe thead th {\n        text-align: right;\n    }\n</style>\n<table border=\"1\" class=\"dataframe\">\n  <thead>\n    <tr style=\"text-align: right;\">\n      <th></th>\n      <th>Rayonnement intercepte</th>\n    </tr>\n    <tr>\n      <th>Plant Id</th>\n      <th></th>\n    </tr>\n  </thead>\n  <tbody>\n    <tr>\n      <th>1</th>\n      <td>341.71</td>\n    </tr>\n    <tr>\n      <th>2</th>\n      <td>355.75</td>\n    </tr>\n    <tr>\n      <th>3</th>\n      <td>344.09</td>\n    </tr>\n    <tr>\n      <th>4</th>\n      <td>355.75</td>\n    </tr>\n    <tr>\n      <th>5</th>\n      <td>341.71</td>\n    </tr>\n  </tbody>\n</table>\n</div>",
          "text/plain": "          Rayonnement intercepte\nPlant Id                        \n1                         341.71\n2                         355.75\n3                         344.09\n4                         355.75\n5                         341.71"
         },
         "metadata": {},
         "output_type": "display_data"
        },
        {
         "data": {
          "image/png": "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",
          "text/plain": "<Figure size 640x480 with 1 Axes>"
         },
         "metadata": {},
         "output_type": "display_data"
        },
        {
         "data": {
          "application/vnd.jupyter.widget-view+json": {
           "model_id": "7bdc0b36420c4805967d8de119beea5b",
           "version_major": 2,
           "version_minor": 0
          },
          "text/plain": "SceneWidget(plane=False, scenes=[{'id': 'OCXQnv4sEeIR5Jt1cpZ4fWcoy', 'data': b'x\\xda\\x8d\\xd6\\xbfn\\x131\\x1c\\x07…"
         },
         "metadata": {},
         "output_type": "display_data"
        }
       ]
      }
     },
     "0d6f1bd7a2ba49f087d347563724f95a": {
      "model_module": "@jupyter-widgets/controls",
      "model_module_version": "2.0.0",
      "model_name": "IntSliderModel",
      "state": {
       "behavior": "drag-tap",
       "description": "angle_panel",
       "layout": "IPY_MODEL_bef23d29197a4ef8b1b246163a58d46f",
       "max": 90,
       "min": -90,
       "step": 10,
       "style": "IPY_MODEL_162fe297086e417eaef1779166307da9"
      }
     },
     "0e731cfe81804481befb9c4e70efb17a": {
      "model_module": "@jupyter-widgets/controls",
      "model_module_version": "2.0.0",
      "model_name": "DropdownModel",
      "state": {
       "_options_labels": [
        "Luzerne",
        "Fétuque",
        "Vigne",
        "Sol"
       ],
       "description": "Couvert :",
       "index": 3,
       "layout": "IPY_MODEL_808fd637b5b34ff48b8fe68103d23573",
       "style": "IPY_MODEL_206406dba8984a5d84c77b36622e1340"
      }
     },
     "162fe297086e417eaef1779166307da9": {
      "model_module": "@jupyter-widgets/controls",
      "model_module_version": "2.0.0",
      "model_name": "SliderStyleModel",
      "state": {
       "description_width": ""
      }
     },
     "19768eabeb1d483db13c4ed8234b6da2": {
      "model_module": "@jupyter-widgets/controls",
      "model_module_version": "2.0.0",
      "model_name": "FloatSliderModel",
      "state": {
       "behavior": "drag-tap",
       "continuous_update": false,
       "description": "InterPanel",
       "layout": "IPY_MODEL_b5e4cc2faa654bd29b3af42b11d14d73",
       "max": 10,
       "min": 1,
       "readout_format": ".1f",
       "step": 5,
       "style": "IPY_MODEL_2891dd2e55444473b32322bc130a5e66",
       "value": 1
      }
     },
     "1b89f15530d44953b43e5f3858ef0e92": {
      "model_module": "@jupyter-widgets/base",
      "model_module_version": "2.0.0",
      "model_name": "LayoutModel",
      "state": {}
     },
     "2029e933e5fc45f99e01919ec01e12c0": {
      "model_module": "@jupyter-widgets/base",
      "model_module_version": "2.0.0",
      "model_name": "LayoutModel",
      "state": {}
     },
     "206406dba8984a5d84c77b36622e1340": {
      "model_module": "@jupyter-widgets/controls",
      "model_module_version": "2.0.0",
      "model_name": "DescriptionStyleModel",
      "state": {
       "description_width": ""
      }
     },
     "2891dd2e55444473b32322bc130a5e66": {
      "model_module": "@jupyter-widgets/controls",
      "model_module_version": "2.0.0",
      "model_name": "SliderStyleModel",
      "state": {
       "description_width": ""
      }
     },
     "333776d16a584297a52ab4cbc18cc70c": {
      "model_module": "@jupyter-widgets/base",
      "model_module_version": "2.0.0",
      "model_name": "LayoutModel",
      "state": {}
     },
     "47fdc4ae33364e779c20502048ffd636": {
      "model_module": "@jupyter-widgets/controls",
      "model_module_version": "2.0.0",
      "model_name": "SliderStyleModel",
      "state": {
       "description_width": ""
      }
     },
     "49d074efef704bfc83ab578a2463f9f3": {
      "model_module": "@jupyter-widgets/controls",
      "model_module_version": "2.0.0",
      "model_name": "FloatSliderModel",
      "state": {
       "behavior": "drag-tap",
       "continuous_update": false,
       "description": "InterPlantes (cm):",
       "layout": "IPY_MODEL_333776d16a584297a52ab4cbc18cc70c",
       "max": 60,
       "min": 5,
       "readout_format": ".1f",
       "step": 5,
       "style": "IPY_MODEL_f4de9e2fcb4e431ab58bfd57a714d907",
       "value": 50
      }
     },
     "4a15d8a8d7e0477caf73a9a69f3d41b5": {
      "model_module": "@jupyter-widgets/base",
      "model_module_version": "2.0.0",
      "model_name": "LayoutModel",
      "state": {}
     },
     "59e02e357fcd4a47b222753349c59ae3": {
      "model_module": "pgljupyter",
      "model_module_version": "^2.0.0",
      "model_name": "SceneWidgetModel",
      "state": {
       "_model_module_version": "^2.0.0",
       "_view_module_version": "^2.0.0",
       "axes_helper": false,
       "layout": "IPY_MODEL_c8f7c8da067c49ef8d167aae2e5388cd",
       "light_helper": false,
       "plane": false,
       "size_display": [
        400,
        400
       ],
       "size_world": 75
      }
     },
     "626bfb43944244e78437ca1aca3c66cf": {
      "model_module": "@jupyter-widgets/controls",
      "model_module_version": "2.0.0",
      "model_name": "IntSliderModel",
      "state": {
       "behavior": "drag-tap",
       "description": "panelsize",
       "layout": "IPY_MODEL_02176d399abd454a9fa9d8ae319b91a2",
       "min": 10,
       "step": 10,
       "style": "IPY_MODEL_47fdc4ae33364e779c20502048ffd636",
       "value": 10
      }
     },
     "66af4dd74fdb43578a6d9778c200377a": {
      "model_module": "@jupyter-widgets/controls",
      "model_module_version": "2.0.0",
      "model_name": "IntSliderModel",
      "state": {
       "behavior": "drag-tap",
       "continuous_update": false,
       "description": "Hour",
       "layout": "IPY_MODEL_f7e9451f78fe4417b3cbe653a3e0c454",
       "max": 18,
       "min": 7,
       "style": "IPY_MODEL_853dbcbe54474345a7eded8761ab04f6",
       "value": 12
      }
     },
     "69dbab5ed45d43cb8efec15ea4a67e9b": {
      "model_module": "@jupyter-widgets/controls",
      "model_module_version": "2.0.0",
      "model_name": "IntSliderModel",
      "state": {
       "behavior": "drag-tap",
       "continuous_update": false,
       "description": "Nb Plantes",
       "layout": "IPY_MODEL_1b89f15530d44953b43e5f3858ef0e92",
       "max": 10,
       "min": 1,
       "style": "IPY_MODEL_de4450993d29477da22fe9c9bdcdab89",
       "value": 5
      }
     },
     "6ed9baa8de0a4a9f9225a48e29842d29": {
      "model_module": "@jupyter-widgets/base",
      "model_module_version": "2.0.0",
      "model_name": "LayoutModel",
      "state": {}
     },
     "78e2f83800e345e5a1ccf72b9b6f6f1e": {
      "model_module": "@jupyter-widgets/base",
      "model_module_version": "2.0.0",
      "model_name": "LayoutModel",
      "state": {}
     },
     "7bdc0b36420c4805967d8de119beea5b": {
      "buffers": [
       {
        "data": "eNqN1r9uEzEcB3AnbVVU6BZl4U8v6pbJ9vl8PqmCu4iKMlREhBGpBCmCSlEbSsqcB8jAI3ThDbJDMjEyIUZ4AxaWLOFn35GzHeMk0im/XCzf53y/r5PG6yfHz04RCtL9veDwsLGNEKruoM7b7qC3D/XWLXTaHfauzrt9+fHeHnre+3DZvx6eX15U4ETjNnoBX1686fc6veEdeUaOqx6gzknWPn76+IyEYRIzdkZwFEUhITHHnDL86l0NLeDVeICkYHVgGFKCOWcwG1rsbsk3FHzJD1WnVp3KqpKfUO9V6b+PsnZ7dXZKY0EFE3LsUe3lHKHRIwudCBPNBG5fudDaQIUWWHjRKSrPr0drsyt0wth/0QwD00BHHN840MZAhU4iaqMn0xKt1+PpGrQxu0SHmOEcPf/kQBOrPTjDv51oYrYHqLkPPZ6WK70BmpjtAdfgBXrgQFNqomOK0/cutDZQoWm+Fjq6OSvRel2frUVrsys0DWmOrrnaAx6EgRYYf3SitYEKHQrmQ9dn5UpvgNZmV+iQFkGMnWgriELgn260GUQS0ZUgjjOtPbR6kq1Hm0EMGWWe9mBWEBOO8dCFZmYQCTSSDz3JypXeAM2sIEbUF8TIDGIMsR050ZEVREFWglhvae2h1c3WWnRkBZET7mkPbgYxJhR/c6K5FUR4JD50s1Wu9AZobgURHJ4gxmYQYfPAwbULHZtBhJ3aDCJsazcA/ArAILPqVNZedGwFsfjpOprXai60sNACD9xoM4iwRwkvOi3q6WZoK4hJviRLdKNE4+KlsYkQ8Kfi158dyb4bLNn2UIDTBC7143u1stjdXsJPYHsbfS7qVlFnVq3GrNyEPA7+3Yh9PbgVBjLVkg/h+AsHc9io",
        "encoding": "base64",
        "path": [
         "scenes",
         0,
         "data"
        ]
       }
      ],
      "model_module": "pgljupyter",
      "model_module_version": "^2.0.0",
      "model_name": "SceneWidgetModel",
      "state": {
       "_model_module_version": "^2.0.0",
       "_view_module_version": "^2.0.0",
       "axes_helper": false,
       "layout": "IPY_MODEL_0039cfc6af094b44bae9cb935984361d",
       "light_helper": false,
       "plane": false,
       "scenes": [
        {
         "id": "OCXQnv4sEeIR5Jt1cpZ4fWcoy",
         "position": [
          0,
          0,
          0
         ],
         "scale": 1,
         "scene": "<openalea.plantgl.scenegraph._pglsg.Scene object at 0x10426f970>"
        }
       ],
       "size_display": [
        400,
        400
       ],
       "size_world": 75
      }
     },
     "7dec6ba43adc485ba93f927d5b954202": {
      "model_module": "@jupyter-widgets/controls",
      "model_module_version": "2.0.0",
      "model_name": "CheckboxModel",
      "state": {
       "description": "Couvert Infini",
       "disabled": false,
       "indent": false,
       "layout": "IPY_MODEL_6ed9baa8de0a4a9f9225a48e29842d29",
       "style": "IPY_MODEL_f28149017eb0459a8fbd333e2ec1365c",
       "value": true
      }
     },
     "808fd637b5b34ff48b8fe68103d23573": {
      "model_module": "@jupyter-widgets/base",
      "model_module_version": "2.0.0",
      "model_name": "LayoutModel",
      "state": {}
     },
     "83fead572e5b4366966f4817b4b3984f": {
      "model_module": "@jupyter-widgets/base",
      "model_module_version": "2.0.0",
      "model_name": "LayoutModel",
      "state": {}
     },
     "853dbcbe54474345a7eded8761ab04f6": {
      "model_module": "@jupyter-widgets/controls",
      "model_module_version": "2.0.0",
      "model_name": "SliderStyleModel",
      "state": {
       "description_width": ""
      }
     },
     "9ae38e1bbb9d45859438687ea01dbe96": {
      "model_module": "@jupyter-widgets/controls",
      "model_module_version": "2.0.0",
      "model_name": "CheckboxModel",
      "state": {
       "description": "Lumière directe",
       "disabled": false,
       "indent": false,
       "layout": "IPY_MODEL_78e2f83800e345e5a1ccf72b9b6f6f1e",
       "style": "IPY_MODEL_d32085ac1b564fc18c1fbcf5a87318f1",
       "value": false
      }
     },
     "9bd2d082f4cf41f09530bc4403b65474": {
      "model_module": "@jupyter-widgets/controls",
      "model_module_version": "2.0.0",
      "model_name": "CheckboxModel",
      "state": {
       "description": "Lumière diffuse",
       "disabled": false,
       "indent": false,
       "layout": "IPY_MODEL_02968b0a09544ae28b0072e7b48d6150",
       "style": "IPY_MODEL_cbab7b40e23c47e493c49322e7b0c271",
       "value": true
      }
     },
     "b39a4ade1243436b853be6153c769eba": {
      "model_module": "@jupyter-widgets/base",
      "model_module_version": "2.0.0",
      "model_name": "LayoutModel",
      "state": {}
     },
     "b5e4cc2faa654bd29b3af42b11d14d73": {
      "model_module": "@jupyter-widgets/base",
      "model_module_version": "2.0.0",
      "model_name": "LayoutModel",
      "state": {}
     },
     "bac398f87d0940229f04844f5060be70": {
      "model_module": "@jupyter-widgets/controls",
      "model_module_version": "2.0.0",
      "model_name": "IntSliderModel",
      "state": {
       "behavior": "drag-tap",
       "description": "height_panel",
       "layout": "IPY_MODEL_4a15d8a8d7e0477caf73a9a69f3d41b5",
       "max": 400,
       "step": 10,
       "style": "IPY_MODEL_dcaa6d35467a461d9b3cdbf73b4d8c4f",
       "value": 100
      }
     },
     "bef23d29197a4ef8b1b246163a58d46f": {
      "model_module": "@jupyter-widgets/base",
      "model_module_version": "2.0.0",
      "model_name": "LayoutModel",
      "state": {}
     },
     "c8f7c8da067c49ef8d167aae2e5388cd": {
      "model_module": "@jupyter-widgets/base",
      "model_module_version": "2.0.0",
      "model_name": "LayoutModel",
      "state": {}
     },
     "cbab7b40e23c47e493c49322e7b0c271": {
      "model_module": "@jupyter-widgets/controls",
      "model_module_version": "2.0.0",
      "model_name": "CheckboxStyleModel",
      "state": {
       "description_width": ""
      }
     },
     "d32085ac1b564fc18c1fbcf5a87318f1": {
      "model_module": "@jupyter-widgets/controls",
      "model_module_version": "2.0.0",
      "model_name": "CheckboxStyleModel",
      "state": {
       "description_width": ""
      }
     },
     "dcaa6d35467a461d9b3cdbf73b4d8c4f": {
      "model_module": "@jupyter-widgets/controls",
      "model_module_version": "2.0.0",
      "model_name": "SliderStyleModel",
      "state": {
       "description_width": ""
      }
     },
     "de4450993d29477da22fe9c9bdcdab89": {
      "model_module": "@jupyter-widgets/controls",
      "model_module_version": "2.0.0",
      "model_name": "SliderStyleModel",
      "state": {
       "description_width": ""
      }
     },
     "f28149017eb0459a8fbd333e2ec1365c": {
      "model_module": "@jupyter-widgets/controls",
      "model_module_version": "2.0.0",
      "model_name": "CheckboxStyleModel",
      "state": {
       "description_width": ""
      }
     },
     "f4cb924f0f9a4c16acdc58bffd094ca1": {
      "model_module": "@jupyter-widgets/controls",
      "model_module_version": "2.0.0",
      "model_name": "VBoxModel",
      "state": {
       "_dom_classes": [
        "widget-interact"
       ],
       "children": [
        "IPY_MODEL_009f0880d1ea4612b32d363ad8930a98",
        "IPY_MODEL_19768eabeb1d483db13c4ed8234b6da2",
        "IPY_MODEL_69dbab5ed45d43cb8efec15ea4a67e9b",
        "IPY_MODEL_626bfb43944244e78437ca1aca3c66cf",
        "IPY_MODEL_0d6f1bd7a2ba49f087d347563724f95a",
        "IPY_MODEL_bac398f87d0940229f04844f5060be70",
        "IPY_MODEL_0e731cfe81804481befb9c4e70efb17a",
        "IPY_MODEL_9bd2d082f4cf41f09530bc4403b65474",
        "IPY_MODEL_9ae38e1bbb9d45859438687ea01dbe96",
        "IPY_MODEL_66af4dd74fdb43578a6d9778c200377a",
        "IPY_MODEL_7dec6ba43adc485ba93f927d5b954202",
        "IPY_MODEL_04c492f0d8224189bb29e7e5332d12bd"
       ],
       "layout": "IPY_MODEL_83fead572e5b4366966f4817b4b3984f"
      }
     },
     "f4de9e2fcb4e431ab58bfd57a714d907": {
      "model_module": "@jupyter-widgets/controls",
      "model_module_version": "2.0.0",
      "model_name": "SliderStyleModel",
      "state": {
       "description_width": ""
      }
     },
     "f7e9451f78fe4417b3cbe653a3e0c454": {
      "model_module": "@jupyter-widgets/base",
      "model_module_version": "2.0.0",
      "model_name": "LayoutModel",
      "state": {}
     },
     "fb9e5de2ad134ac79b01a7e086ad376d": {
      "model_module": "@jupyter-widgets/controls",
      "model_module_version": "2.0.0",
      "model_name": "CheckboxStyleModel",
      "state": {
       "description_width": ""
      }
     }
    },
    "version_major": 2,
    "version_minor": 0
   }
  }
 },
 "nbformat": 4,
 "nbformat_minor": 4
}
